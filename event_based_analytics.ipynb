{
 "cells": [
  {
   "cell_type": "markdown",
   "metadata": {},
   "source": [
    "# Tripleten Proyecto Integrado 2: analisis de eventos\n",
    "\n",
    "Trabajas en una empresa emergente que vende productos alimenticios. Debes investigar el comportamiento del usuario para la aplicación de la empresa.\n",
    "\n",
    "Primero, estudia el embudo de ventas. Descubre cómo los usuarios y las usuarias llegan a la etapa de compra. ¿Cuántos usuarios o usuarias realmente llegan a esta etapa? ¿Cuántos se atascan en etapas anteriores? ¿Qué etapas en particular?\n",
    "\n",
    "Luego, observa los resultados de un test A/A/B. Al equipo de diseño le gustaría cambiar las fuentes de toda la aplicación, pero la gerencia teme que los usuarios y las usuarias piensen que el nuevo diseño es intimidante. Por ello, deciden tomar una decisión basada en los resultados de un test A/A/B."
   ]
  },
  {
   "cell_type": "markdown",
   "metadata": {},
   "source": [
    "## Cargar datos"
   ]
  },
  {
   "cell_type": "code",
   "execution_count": 1,
   "metadata": {},
   "outputs": [],
   "source": [
    "# Importamos las librerias\n",
    "from plotly import graph_objects as go\n",
    "from matplotlib import pyplot as plt\n",
    "from plotly import express as px\n",
    "from scipy import stats as st\n",
    "import seaborn as sns\n",
    "import pandas as pd\n",
    "import numpy as np\n",
    "import math as mth\n",
    "import datetime"
   ]
  },
  {
   "cell_type": "code",
   "execution_count": 2,
   "metadata": {},
   "outputs": [
    {
     "data": {
      "text/html": [
       "<div>\n",
       "<style scoped>\n",
       "    .dataframe tbody tr th:only-of-type {\n",
       "        vertical-align: middle;\n",
       "    }\n",
       "\n",
       "    .dataframe tbody tr th {\n",
       "        vertical-align: top;\n",
       "    }\n",
       "\n",
       "    .dataframe thead th {\n",
       "        text-align: right;\n",
       "    }\n",
       "</style>\n",
       "<table border=\"1\" class=\"dataframe\">\n",
       "  <thead>\n",
       "    <tr style=\"text-align: right;\">\n",
       "      <th></th>\n",
       "      <th>EventName</th>\n",
       "      <th>DeviceIDHash</th>\n",
       "      <th>EventTimestamp</th>\n",
       "      <th>ExpId</th>\n",
       "    </tr>\n",
       "  </thead>\n",
       "  <tbody>\n",
       "    <tr>\n",
       "      <th>0</th>\n",
       "      <td>MainScreenAppear</td>\n",
       "      <td>4575588528974610257</td>\n",
       "      <td>1564029816</td>\n",
       "      <td>246</td>\n",
       "    </tr>\n",
       "    <tr>\n",
       "      <th>1</th>\n",
       "      <td>MainScreenAppear</td>\n",
       "      <td>7416695313311560658</td>\n",
       "      <td>1564053102</td>\n",
       "      <td>246</td>\n",
       "    </tr>\n",
       "    <tr>\n",
       "      <th>2</th>\n",
       "      <td>PaymentScreenSuccessful</td>\n",
       "      <td>3518123091307005509</td>\n",
       "      <td>1564054127</td>\n",
       "      <td>248</td>\n",
       "    </tr>\n",
       "    <tr>\n",
       "      <th>3</th>\n",
       "      <td>CartScreenAppear</td>\n",
       "      <td>3518123091307005509</td>\n",
       "      <td>1564054127</td>\n",
       "      <td>248</td>\n",
       "    </tr>\n",
       "    <tr>\n",
       "      <th>4</th>\n",
       "      <td>PaymentScreenSuccessful</td>\n",
       "      <td>6217807653094995999</td>\n",
       "      <td>1564055322</td>\n",
       "      <td>248</td>\n",
       "    </tr>\n",
       "  </tbody>\n",
       "</table>\n",
       "</div>"
      ],
      "text/plain": [
       "                 EventName         DeviceIDHash  EventTimestamp  ExpId\n",
       "0         MainScreenAppear  4575588528974610257      1564029816    246\n",
       "1         MainScreenAppear  7416695313311560658      1564053102    246\n",
       "2  PaymentScreenSuccessful  3518123091307005509      1564054127    248\n",
       "3         CartScreenAppear  3518123091307005509      1564054127    248\n",
       "4  PaymentScreenSuccessful  6217807653094995999      1564055322    248"
      ]
     },
     "execution_count": 2,
     "metadata": {},
     "output_type": "execute_result"
    }
   ],
   "source": [
    "# Cargamos los datos\n",
    "logs = pd.read_csv('logs_exp_us.csv', sep='\\t')\n",
    "logs.head()"
   ]
  },
  {
   "cell_type": "code",
   "execution_count": 3,
   "metadata": {},
   "outputs": [
    {
     "name": "stdout",
     "output_type": "stream",
     "text": [
      "<class 'pandas.core.frame.DataFrame'>\n",
      "RangeIndex: 244126 entries, 0 to 244125\n",
      "Data columns (total 4 columns):\n",
      " #   Column          Non-Null Count   Dtype \n",
      "---  ------          --------------   ----- \n",
      " 0   EventName       244126 non-null  object\n",
      " 1   DeviceIDHash    244126 non-null  int64 \n",
      " 2   EventTimestamp  244126 non-null  int64 \n",
      " 3   ExpId           244126 non-null  int64 \n",
      "dtypes: int64(3), object(1)\n",
      "memory usage: 7.5+ MB\n"
     ]
    }
   ],
   "source": [
    "# Mostramos info\n",
    "logs.info()"
   ]
  },
  {
   "cell_type": "markdown",
   "metadata": {},
   "source": [
    "No se observan valores ausentes aparentes"
   ]
  },
  {
   "cell_type": "markdown",
   "metadata": {},
   "source": [
    "## Preparar datos\n",
    " - Cambia el nombre de las columnas de manera que sea conveniente para ti\n",
    " - Comprueba si hay tipos de datos y valores ausentes. Corrige los datos si es necesario\n",
    " - Agrega una columna de fecha y hora y una columna separada para las fechas"
   ]
  },
  {
   "cell_type": "markdown",
   "metadata": {},
   "source": [
    "### Cambiar nombre de columnas"
   ]
  },
  {
   "cell_type": "code",
   "execution_count": 4,
   "metadata": {},
   "outputs": [
    {
     "data": {
      "text/html": [
       "<div>\n",
       "<style scoped>\n",
       "    .dataframe tbody tr th:only-of-type {\n",
       "        vertical-align: middle;\n",
       "    }\n",
       "\n",
       "    .dataframe tbody tr th {\n",
       "        vertical-align: top;\n",
       "    }\n",
       "\n",
       "    .dataframe thead th {\n",
       "        text-align: right;\n",
       "    }\n",
       "</style>\n",
       "<table border=\"1\" class=\"dataframe\">\n",
       "  <thead>\n",
       "    <tr style=\"text-align: right;\">\n",
       "      <th></th>\n",
       "      <th>name</th>\n",
       "      <th>id</th>\n",
       "      <th>ts</th>\n",
       "      <th>exp</th>\n",
       "    </tr>\n",
       "  </thead>\n",
       "  <tbody>\n",
       "    <tr>\n",
       "      <th>0</th>\n",
       "      <td>MainScreenAppear</td>\n",
       "      <td>4575588528974610257</td>\n",
       "      <td>1564029816</td>\n",
       "      <td>246</td>\n",
       "    </tr>\n",
       "    <tr>\n",
       "      <th>1</th>\n",
       "      <td>MainScreenAppear</td>\n",
       "      <td>7416695313311560658</td>\n",
       "      <td>1564053102</td>\n",
       "      <td>246</td>\n",
       "    </tr>\n",
       "    <tr>\n",
       "      <th>2</th>\n",
       "      <td>PaymentScreenSuccessful</td>\n",
       "      <td>3518123091307005509</td>\n",
       "      <td>1564054127</td>\n",
       "      <td>248</td>\n",
       "    </tr>\n",
       "    <tr>\n",
       "      <th>3</th>\n",
       "      <td>CartScreenAppear</td>\n",
       "      <td>3518123091307005509</td>\n",
       "      <td>1564054127</td>\n",
       "      <td>248</td>\n",
       "    </tr>\n",
       "    <tr>\n",
       "      <th>4</th>\n",
       "      <td>PaymentScreenSuccessful</td>\n",
       "      <td>6217807653094995999</td>\n",
       "      <td>1564055322</td>\n",
       "      <td>248</td>\n",
       "    </tr>\n",
       "  </tbody>\n",
       "</table>\n",
       "</div>"
      ],
      "text/plain": [
       "                      name                   id          ts  exp\n",
       "0         MainScreenAppear  4575588528974610257  1564029816  246\n",
       "1         MainScreenAppear  7416695313311560658  1564053102  246\n",
       "2  PaymentScreenSuccessful  3518123091307005509  1564054127  248\n",
       "3         CartScreenAppear  3518123091307005509  1564054127  248\n",
       "4  PaymentScreenSuccessful  6217807653094995999  1564055322  248"
      ]
     },
     "execution_count": 4,
     "metadata": {},
     "output_type": "execute_result"
    }
   ],
   "source": [
    "# Cambiamos nombres de columnas\n",
    "logs.rename(columns={\n",
    "    'EventName': 'name',\n",
    "    'DeviceIDHash': 'id',\n",
    "    'EventTimestamp': 'ts',\n",
    "    'ExpId': 'exp'\n",
    "}, inplace=True)\n",
    "logs.head()"
   ]
  },
  {
   "cell_type": "markdown",
   "metadata": {},
   "source": [
    "### Cambiar tipos de dato"
   ]
  },
  {
   "cell_type": "code",
   "execution_count": 5,
   "metadata": {},
   "outputs": [
    {
     "data": {
      "text/plain": [
       "array(['MainScreenAppear', 'PaymentScreenSuccessful', 'CartScreenAppear',\n",
       "       'OffersScreenAppear', 'Tutorial'], dtype=object)"
      ]
     },
     "execution_count": 5,
     "metadata": {},
     "output_type": "execute_result"
    }
   ],
   "source": [
    "# Comprobamos valores de la columna name\n",
    "logs['name'].unique()"
   ]
  },
  {
   "cell_type": "code",
   "execution_count": 6,
   "metadata": {},
   "outputs": [
    {
     "name": "stdout",
     "output_type": "stream",
     "text": [
      "<class 'pandas.core.frame.DataFrame'>\n",
      "RangeIndex: 244126 entries, 0 to 244125\n",
      "Data columns (total 4 columns):\n",
      " #   Column  Non-Null Count   Dtype   \n",
      "---  ------  --------------   -----   \n",
      " 0   name    244126 non-null  category\n",
      " 1   id      244126 non-null  int64   \n",
      " 2   ts      244126 non-null  int64   \n",
      " 3   exp     244126 non-null  int64   \n",
      "dtypes: category(1), int64(3)\n",
      "memory usage: 5.8 MB\n"
     ]
    }
   ],
   "source": [
    "# Cambiamos la columna name a tipo de dato category\n",
    "logs['name'] = logs['name'].astype('category')\n",
    "logs.info()"
   ]
  },
  {
   "cell_type": "markdown",
   "metadata": {},
   "source": [
    "### Crear las columnas para las fechas"
   ]
  },
  {
   "cell_type": "code",
   "execution_count": 7,
   "metadata": {},
   "outputs": [
    {
     "data": {
      "text/html": [
       "<div>\n",
       "<style scoped>\n",
       "    .dataframe tbody tr th:only-of-type {\n",
       "        vertical-align: middle;\n",
       "    }\n",
       "\n",
       "    .dataframe tbody tr th {\n",
       "        vertical-align: top;\n",
       "    }\n",
       "\n",
       "    .dataframe thead th {\n",
       "        text-align: right;\n",
       "    }\n",
       "</style>\n",
       "<table border=\"1\" class=\"dataframe\">\n",
       "  <thead>\n",
       "    <tr style=\"text-align: right;\">\n",
       "      <th></th>\n",
       "      <th>name</th>\n",
       "      <th>id</th>\n",
       "      <th>ts</th>\n",
       "      <th>exp</th>\n",
       "      <th>date_time</th>\n",
       "    </tr>\n",
       "  </thead>\n",
       "  <tbody>\n",
       "    <tr>\n",
       "      <th>0</th>\n",
       "      <td>MainScreenAppear</td>\n",
       "      <td>4575588528974610257</td>\n",
       "      <td>1564029816</td>\n",
       "      <td>246</td>\n",
       "      <td>2019-07-25 04:43:36</td>\n",
       "    </tr>\n",
       "    <tr>\n",
       "      <th>1</th>\n",
       "      <td>MainScreenAppear</td>\n",
       "      <td>7416695313311560658</td>\n",
       "      <td>1564053102</td>\n",
       "      <td>246</td>\n",
       "      <td>2019-07-25 11:11:42</td>\n",
       "    </tr>\n",
       "    <tr>\n",
       "      <th>2</th>\n",
       "      <td>PaymentScreenSuccessful</td>\n",
       "      <td>3518123091307005509</td>\n",
       "      <td>1564054127</td>\n",
       "      <td>248</td>\n",
       "      <td>2019-07-25 11:28:47</td>\n",
       "    </tr>\n",
       "    <tr>\n",
       "      <th>3</th>\n",
       "      <td>CartScreenAppear</td>\n",
       "      <td>3518123091307005509</td>\n",
       "      <td>1564054127</td>\n",
       "      <td>248</td>\n",
       "      <td>2019-07-25 11:28:47</td>\n",
       "    </tr>\n",
       "    <tr>\n",
       "      <th>4</th>\n",
       "      <td>PaymentScreenSuccessful</td>\n",
       "      <td>6217807653094995999</td>\n",
       "      <td>1564055322</td>\n",
       "      <td>248</td>\n",
       "      <td>2019-07-25 11:48:42</td>\n",
       "    </tr>\n",
       "  </tbody>\n",
       "</table>\n",
       "</div>"
      ],
      "text/plain": [
       "                      name                   id          ts  exp  \\\n",
       "0         MainScreenAppear  4575588528974610257  1564029816  246   \n",
       "1         MainScreenAppear  7416695313311560658  1564053102  246   \n",
       "2  PaymentScreenSuccessful  3518123091307005509  1564054127  248   \n",
       "3         CartScreenAppear  3518123091307005509  1564054127  248   \n",
       "4  PaymentScreenSuccessful  6217807653094995999  1564055322  248   \n",
       "\n",
       "            date_time  \n",
       "0 2019-07-25 04:43:36  \n",
       "1 2019-07-25 11:11:42  \n",
       "2 2019-07-25 11:28:47  \n",
       "3 2019-07-25 11:28:47  \n",
       "4 2019-07-25 11:48:42  "
      ]
     },
     "execution_count": 7,
     "metadata": {},
     "output_type": "execute_result"
    }
   ],
   "source": [
    "# Creamos una columna para las fecha y hora\n",
    "logs['date_time'] = pd.to_datetime(logs['ts'], unit='s')\n",
    "logs.head()"
   ]
  },
  {
   "cell_type": "code",
   "execution_count": 8,
   "metadata": {},
   "outputs": [
    {
     "data": {
      "text/html": [
       "<div>\n",
       "<style scoped>\n",
       "    .dataframe tbody tr th:only-of-type {\n",
       "        vertical-align: middle;\n",
       "    }\n",
       "\n",
       "    .dataframe tbody tr th {\n",
       "        vertical-align: top;\n",
       "    }\n",
       "\n",
       "    .dataframe thead th {\n",
       "        text-align: right;\n",
       "    }\n",
       "</style>\n",
       "<table border=\"1\" class=\"dataframe\">\n",
       "  <thead>\n",
       "    <tr style=\"text-align: right;\">\n",
       "      <th></th>\n",
       "      <th>name</th>\n",
       "      <th>id</th>\n",
       "      <th>ts</th>\n",
       "      <th>exp</th>\n",
       "      <th>date_time</th>\n",
       "      <th>date</th>\n",
       "    </tr>\n",
       "  </thead>\n",
       "  <tbody>\n",
       "    <tr>\n",
       "      <th>0</th>\n",
       "      <td>MainScreenAppear</td>\n",
       "      <td>4575588528974610257</td>\n",
       "      <td>1564029816</td>\n",
       "      <td>246</td>\n",
       "      <td>2019-07-25 04:43:36</td>\n",
       "      <td>2019-07-25</td>\n",
       "    </tr>\n",
       "    <tr>\n",
       "      <th>1</th>\n",
       "      <td>MainScreenAppear</td>\n",
       "      <td>7416695313311560658</td>\n",
       "      <td>1564053102</td>\n",
       "      <td>246</td>\n",
       "      <td>2019-07-25 11:11:42</td>\n",
       "      <td>2019-07-25</td>\n",
       "    </tr>\n",
       "    <tr>\n",
       "      <th>2</th>\n",
       "      <td>PaymentScreenSuccessful</td>\n",
       "      <td>3518123091307005509</td>\n",
       "      <td>1564054127</td>\n",
       "      <td>248</td>\n",
       "      <td>2019-07-25 11:28:47</td>\n",
       "      <td>2019-07-25</td>\n",
       "    </tr>\n",
       "    <tr>\n",
       "      <th>3</th>\n",
       "      <td>CartScreenAppear</td>\n",
       "      <td>3518123091307005509</td>\n",
       "      <td>1564054127</td>\n",
       "      <td>248</td>\n",
       "      <td>2019-07-25 11:28:47</td>\n",
       "      <td>2019-07-25</td>\n",
       "    </tr>\n",
       "    <tr>\n",
       "      <th>4</th>\n",
       "      <td>PaymentScreenSuccessful</td>\n",
       "      <td>6217807653094995999</td>\n",
       "      <td>1564055322</td>\n",
       "      <td>248</td>\n",
       "      <td>2019-07-25 11:48:42</td>\n",
       "      <td>2019-07-25</td>\n",
       "    </tr>\n",
       "  </tbody>\n",
       "</table>\n",
       "</div>"
      ],
      "text/plain": [
       "                      name                   id          ts  exp  \\\n",
       "0         MainScreenAppear  4575588528974610257  1564029816  246   \n",
       "1         MainScreenAppear  7416695313311560658  1564053102  246   \n",
       "2  PaymentScreenSuccessful  3518123091307005509  1564054127  248   \n",
       "3         CartScreenAppear  3518123091307005509  1564054127  248   \n",
       "4  PaymentScreenSuccessful  6217807653094995999  1564055322  248   \n",
       "\n",
       "            date_time        date  \n",
       "0 2019-07-25 04:43:36  2019-07-25  \n",
       "1 2019-07-25 11:11:42  2019-07-25  \n",
       "2 2019-07-25 11:28:47  2019-07-25  \n",
       "3 2019-07-25 11:28:47  2019-07-25  \n",
       "4 2019-07-25 11:48:42  2019-07-25  "
      ]
     },
     "execution_count": 8,
     "metadata": {},
     "output_type": "execute_result"
    }
   ],
   "source": [
    "# Creamos una columna para las fecha\n",
    "logs['date'] = logs['date_time'].dt.date\n",
    "logs.head()"
   ]
  },
  {
   "cell_type": "markdown",
   "metadata": {},
   "source": [
    "### Conclusiones\n",
    " - Se cambio de nombre las columnas a unos mas utiles\n",
    " - Se cambio la columna name a category\n",
    " - Se crearon columnas para las fechas"
   ]
  },
  {
   "cell_type": "markdown",
   "metadata": {},
   "source": [
    "## Estudiar los datos"
   ]
  },
  {
   "cell_type": "markdown",
   "metadata": {},
   "source": [
    "### Cantidad de eventos"
   ]
  },
  {
   "cell_type": "code",
   "execution_count": 9,
   "metadata": {},
   "outputs": [
    {
     "name": "stderr",
     "output_type": "stream",
     "text": [
      "C:\\Users\\ayrto\\AppData\\Local\\Temp\\ipykernel_9716\\304092091.py:3: FutureWarning: The default of observed=False is deprecated and will be changed to True in a future version of pandas. Pass observed=False to retain current behavior or observed=True to adopt the future default and silence this warning.\n",
      "  events = logs.groupby(by='name', as_index=False).count()[['name', 'id']]\n"
     ]
    },
    {
     "data": {
      "text/html": [
       "<div>\n",
       "<style scoped>\n",
       "    .dataframe tbody tr th:only-of-type {\n",
       "        vertical-align: middle;\n",
       "    }\n",
       "\n",
       "    .dataframe tbody tr th {\n",
       "        vertical-align: top;\n",
       "    }\n",
       "\n",
       "    .dataframe thead th {\n",
       "        text-align: right;\n",
       "    }\n",
       "</style>\n",
       "<table border=\"1\" class=\"dataframe\">\n",
       "  <thead>\n",
       "    <tr style=\"text-align: right;\">\n",
       "      <th></th>\n",
       "      <th>name</th>\n",
       "      <th>n_events</th>\n",
       "    </tr>\n",
       "  </thead>\n",
       "  <tbody>\n",
       "    <tr>\n",
       "      <th>0</th>\n",
       "      <td>CartScreenAppear</td>\n",
       "      <td>42731</td>\n",
       "    </tr>\n",
       "    <tr>\n",
       "      <th>1</th>\n",
       "      <td>MainScreenAppear</td>\n",
       "      <td>119205</td>\n",
       "    </tr>\n",
       "    <tr>\n",
       "      <th>2</th>\n",
       "      <td>OffersScreenAppear</td>\n",
       "      <td>46825</td>\n",
       "    </tr>\n",
       "    <tr>\n",
       "      <th>3</th>\n",
       "      <td>PaymentScreenSuccessful</td>\n",
       "      <td>34313</td>\n",
       "    </tr>\n",
       "    <tr>\n",
       "      <th>4</th>\n",
       "      <td>Tutorial</td>\n",
       "      <td>1052</td>\n",
       "    </tr>\n",
       "  </tbody>\n",
       "</table>\n",
       "</div>"
      ],
      "text/plain": [
       "                      name  n_events\n",
       "0         CartScreenAppear     42731\n",
       "1         MainScreenAppear    119205\n",
       "2       OffersScreenAppear     46825\n",
       "3  PaymentScreenSuccessful     34313\n",
       "4                 Tutorial      1052"
      ]
     },
     "execution_count": 9,
     "metadata": {},
     "output_type": "execute_result"
    }
   ],
   "source": [
    "# Contamos la cantidad de eventos en los registros\n",
    "# por tipo de evento\n",
    "events = logs.groupby(by='name', as_index=False).count()[['name', 'id']]\n",
    "events.columns = ['name', 'n_events']\n",
    "events"
   ]
  },
  {
   "cell_type": "code",
   "execution_count": 10,
   "metadata": {},
   "outputs": [
    {
     "data": {
      "image/png": "[encoded data removed]",
      "text/plain": [
       "<Figure size 640x480 with 1 Axes>"
      ]
     },
     "metadata": {},
     "output_type": "display_data"
    }
   ],
   "source": [
    "# Grafico de barras\n",
    "sns.barplot(x='name', y='n_events', data=events)\n",
    "\n",
    "plt.xlabel('Tipo de evento')\n",
    "plt.xticks(rotation=90)\n",
    "plt.ylabel('Numero de eventos')\n",
    "plt.title('¿Cuántos eventos tenemos?')\n",
    "plt.show()"
   ]
  },
  {
   "cell_type": "code",
   "execution_count": 11,
   "metadata": {},
   "outputs": [
    {
     "name": "stdout",
     "output_type": "stream",
     "text": [
      "Eventos totales:  244126\n"
     ]
    }
   ],
   "source": [
    "# Total de eventos\n",
    "print('Eventos totales: ', events['n_events'].sum())"
   ]
  },
  {
   "cell_type": "markdown",
   "metadata": {},
   "source": [
    "Contamos con un total de 244126 enventos. El evento mas comun es la pantalla de inicio, lo cual no es una sorpresa. Luego, los eventos van de mayor a menor entre la pantalla de oferta, la pantalla del carrito y la pantalla del pago exitoso.\n",
    "\n",
    "Si bien los numeros decrecen, estan bastante cerca entre si. Esto indica que entre ellos tenemos una buena conversion. El problema parece ser de la pantalla de inicio a la pantalla de oferta."
   ]
  },
  {
   "cell_type": "markdown",
   "metadata": {},
   "source": [
    "### Cantidad de usuarios"
   ]
  },
  {
   "cell_type": "code",
   "execution_count": 12,
   "metadata": {},
   "outputs": [
    {
     "name": "stdout",
     "output_type": "stream",
     "text": [
      "Cantidad total de usuarios:  7551\n"
     ]
    }
   ],
   "source": [
    "# Calculamos la cantidad de usuarios\n",
    "print('Cantidad total de usuarios: ', logs['id'].nunique())"
   ]
  },
  {
   "cell_type": "markdown",
   "metadata": {},
   "source": [
    "Contamos con un total del 7551 usuarios. Podria decirse que a 244126 eventos y 7551 usuarios hay alrededor de 32 eventos por usuario."
   ]
  },
  {
   "cell_type": "markdown",
   "metadata": {},
   "source": [
    "### Promedio de eventos por usuario"
   ]
  },
  {
   "cell_type": "code",
   "execution_count": 13,
   "metadata": {},
   "outputs": [
    {
     "data": {
      "text/plain": [
       "count    7551.000000\n",
       "mean       32.330287\n",
       "std        65.312344\n",
       "min         1.000000\n",
       "25%         9.000000\n",
       "50%        20.000000\n",
       "75%        37.500000\n",
       "max      2308.000000\n",
       "Name: name, dtype: float64"
      ]
     },
     "execution_count": 13,
     "metadata": {},
     "output_type": "execute_result"
    }
   ],
   "source": [
    "# Describimos los datos\n",
    "logs.groupby(by='id').count()['name'].describe()"
   ]
  },
  {
   "cell_type": "code",
   "execution_count": 14,
   "metadata": {},
   "outputs": [
    {
     "data": {
      "image/png": "[encoded data removed]",
      "text/plain": [
       "<Figure size 640x480 with 1 Axes>"
      ]
     },
     "metadata": {},
     "output_type": "display_data"
    }
   ],
   "source": [
    "# Graficamos un histograma\n",
    "logs.groupby(by='id').count()['name'].hist(bins=500)\n",
    "\n",
    "plt.xlabel('Numero de eventos')\n",
    "plt.xlim([0, 200])\n",
    "plt.ylabel('Cantidad de usuarios')\n",
    "plt.title('Numero de eventos por usuario')\n",
    "plt.show()"
   ]
  },
  {
   "cell_type": "markdown",
   "metadata": {},
   "source": [
    "Observamos que hay una poca cantidad de usuarios que realizan muchos eventos, lo que inclina la media hacia arriba. Si nos enfocamos en la mediana, podemos decir que un usario promedio hace alrededor de 20 eventos."
   ]
  },
  {
   "cell_type": "markdown",
   "metadata": {},
   "source": [
    "### Linea de tiempo"
   ]
  },
  {
   "cell_type": "code",
   "execution_count": 15,
   "metadata": {},
   "outputs": [
    {
     "name": "stdout",
     "output_type": "stream",
     "text": [
      "Fecha maxima:  2019-08-07\n"
     ]
    }
   ],
   "source": [
    "# Imprimimos la fecha maxima\n",
    "print('Fecha maxima: ', logs['date'].max())"
   ]
  },
  {
   "cell_type": "code",
   "execution_count": 16,
   "metadata": {},
   "outputs": [
    {
     "name": "stdout",
     "output_type": "stream",
     "text": [
      "Fecha minima:  2019-07-25\n"
     ]
    }
   ],
   "source": [
    "# Imprimimos la fecha minima\n",
    "print('Fecha minima: ', logs['date'].min())"
   ]
  },
  {
   "cell_type": "code",
   "execution_count": 17,
   "metadata": {},
   "outputs": [
    {
     "data": {
      "image/png": "[encoded data removed]",
      "text/plain": [
       "<Figure size 1000x900 with 1 Axes>"
      ]
     },
     "metadata": {},
     "output_type": "display_data"
    }
   ],
   "source": [
    "# Graficamos un histograma por fecha y hora\n",
    "plt.figure(figsize=(10,9))\n",
    "sns.histplot(data=logs, x='date_time')\n",
    "\n",
    "plt.xlabel('Fecha')\n",
    "plt.xticks(rotation=45)\n",
    "plt.ylabel('Numero de eventos')\n",
    "plt.title('Numero de eventos a traves del tiempo')\n",
    "plt.show()"
   ]
  },
  {
   "cell_type": "markdown",
   "metadata": {},
   "source": [
    "Observamos que la cantidad de eventos al inicio del registro es bastante menor en comparacion a la segunda mitad. Es probable que estos registros esten errados y sesguen nuestro analisis. Es preferible retirarlos y analizar los registros con informacion uniforme."
   ]
  },
  {
   "cell_type": "code",
   "execution_count": 18,
   "metadata": {},
   "outputs": [
    {
     "data": {
      "text/plain": [
       "date\n",
       "2019-07-25        9\n",
       "2019-07-26       31\n",
       "2019-07-27       55\n",
       "2019-07-28      105\n",
       "2019-07-29      184\n",
       "2019-07-30      413\n",
       "2019-07-31     2031\n",
       "2019-08-01    36229\n",
       "2019-08-02    35606\n",
       "2019-08-03    33351\n",
       "2019-08-04    33033\n",
       "2019-08-05    36113\n",
       "2019-08-06    35822\n",
       "2019-08-07    31144\n",
       "Name: name, dtype: int64"
      ]
     },
     "execution_count": 18,
     "metadata": {},
     "output_type": "execute_result"
    }
   ],
   "source": [
    "# Mostramos los datos agrupados por fecha\n",
    "logs.groupby(by='date').count()['name']"
   ]
  },
  {
   "cell_type": "code",
   "execution_count": 19,
   "metadata": {},
   "outputs": [
    {
     "data": {
      "text/html": [
       "<div>\n",
       "<style scoped>\n",
       "    .dataframe tbody tr th:only-of-type {\n",
       "        vertical-align: middle;\n",
       "    }\n",
       "\n",
       "    .dataframe tbody tr th {\n",
       "        vertical-align: top;\n",
       "    }\n",
       "\n",
       "    .dataframe thead th {\n",
       "        text-align: right;\n",
       "    }\n",
       "</style>\n",
       "<table border=\"1\" class=\"dataframe\">\n",
       "  <thead>\n",
       "    <tr style=\"text-align: right;\">\n",
       "      <th></th>\n",
       "      <th>name</th>\n",
       "      <th>id</th>\n",
       "      <th>ts</th>\n",
       "      <th>exp</th>\n",
       "      <th>date_time</th>\n",
       "      <th>date</th>\n",
       "    </tr>\n",
       "  </thead>\n",
       "  <tbody>\n",
       "    <tr>\n",
       "      <th>0</th>\n",
       "      <td>Tutorial</td>\n",
       "      <td>3737462046622621720</td>\n",
       "      <td>1564618048</td>\n",
       "      <td>246</td>\n",
       "      <td>2019-08-01 00:07:28</td>\n",
       "      <td>2019-08-01</td>\n",
       "    </tr>\n",
       "    <tr>\n",
       "      <th>1</th>\n",
       "      <td>MainScreenAppear</td>\n",
       "      <td>3737462046622621720</td>\n",
       "      <td>1564618080</td>\n",
       "      <td>246</td>\n",
       "      <td>2019-08-01 00:08:00</td>\n",
       "      <td>2019-08-01</td>\n",
       "    </tr>\n",
       "    <tr>\n",
       "      <th>2</th>\n",
       "      <td>MainScreenAppear</td>\n",
       "      <td>3737462046622621720</td>\n",
       "      <td>1564618135</td>\n",
       "      <td>246</td>\n",
       "      <td>2019-08-01 00:08:55</td>\n",
       "      <td>2019-08-01</td>\n",
       "    </tr>\n",
       "    <tr>\n",
       "      <th>3</th>\n",
       "      <td>OffersScreenAppear</td>\n",
       "      <td>3737462046622621720</td>\n",
       "      <td>1564618138</td>\n",
       "      <td>246</td>\n",
       "      <td>2019-08-01 00:08:58</td>\n",
       "      <td>2019-08-01</td>\n",
       "    </tr>\n",
       "    <tr>\n",
       "      <th>4</th>\n",
       "      <td>MainScreenAppear</td>\n",
       "      <td>1433840883824088890</td>\n",
       "      <td>1564618139</td>\n",
       "      <td>247</td>\n",
       "      <td>2019-08-01 00:08:59</td>\n",
       "      <td>2019-08-01</td>\n",
       "    </tr>\n",
       "  </tbody>\n",
       "</table>\n",
       "</div>"
      ],
      "text/plain": [
       "                 name                   id          ts  exp  \\\n",
       "0            Tutorial  3737462046622621720  1564618048  246   \n",
       "1    MainScreenAppear  3737462046622621720  1564618080  246   \n",
       "2    MainScreenAppear  3737462046622621720  1564618135  246   \n",
       "3  OffersScreenAppear  3737462046622621720  1564618138  246   \n",
       "4    MainScreenAppear  1433840883824088890  1564618139  247   \n",
       "\n",
       "            date_time        date  \n",
       "0 2019-08-01 00:07:28  2019-08-01  \n",
       "1 2019-08-01 00:08:00  2019-08-01  \n",
       "2 2019-08-01 00:08:55  2019-08-01  \n",
       "3 2019-08-01 00:08:58  2019-08-01  \n",
       "4 2019-08-01 00:08:59  2019-08-01  "
      ]
     },
     "execution_count": 19,
     "metadata": {},
     "output_type": "execute_result"
    }
   ],
   "source": [
    "# Nos quedamos con el mes de agosto\n",
    "logs_aug = logs[logs['date'] >= datetime.date(2019,8,1)]\n",
    "logs_aug = logs_aug.reset_index(drop=True)\n",
    "logs_aug.head()"
   ]
  },
  {
   "cell_type": "markdown",
   "metadata": {},
   "source": [
    "Podemos observar que los datos representan en realidad a los eventos registrados durante la primera semana de agosto. Esto debido a que del 31 de julio al primero de agosto hay un salto brusco de 2k eventos registrados a 36k eventos registrados.\n",
    "\n",
    "Es posible que los primeros registros sean producto de una falla tecnica."
   ]
  },
  {
   "cell_type": "markdown",
   "metadata": {},
   "source": [
    "### Eventos y usuarios perdidos"
   ]
  },
  {
   "cell_type": "code",
   "execution_count": 20,
   "metadata": {},
   "outputs": [
    {
     "name": "stdout",
     "output_type": "stream",
     "text": [
      "Eventos iniciales:  244126\n"
     ]
    }
   ],
   "source": [
    "# Eventos totales iniciales\n",
    "print('Eventos iniciales: ', logs.shape[0])"
   ]
  },
  {
   "cell_type": "code",
   "execution_count": 21,
   "metadata": {},
   "outputs": [
    {
     "name": "stdout",
     "output_type": "stream",
     "text": [
      "Eventos de agosto:  241298\n"
     ]
    }
   ],
   "source": [
    "# Eventos totales de agosto\n",
    "print('Eventos de agosto: ', logs_aug.shape[0])"
   ]
  },
  {
   "cell_type": "code",
   "execution_count": 22,
   "metadata": {},
   "outputs": [
    {
     "name": "stdout",
     "output_type": "stream",
     "text": [
      "Eventos perdidos:  2828\n"
     ]
    }
   ],
   "source": [
    "# Eventos perdidos\n",
    "print('Eventos perdidos: ', logs.shape[0] - logs_aug.shape[0])"
   ]
  },
  {
   "cell_type": "code",
   "execution_count": 23,
   "metadata": {},
   "outputs": [
    {
     "name": "stdout",
     "output_type": "stream",
     "text": [
      "Usuarios iniciales:  7551\n"
     ]
    }
   ],
   "source": [
    "# Usuarios iniciales\n",
    "print('Usuarios iniciales: ', logs['id'].nunique())"
   ]
  },
  {
   "cell_type": "code",
   "execution_count": 24,
   "metadata": {},
   "outputs": [
    {
     "name": "stdout",
     "output_type": "stream",
     "text": [
      "Usuarios actuales:  7534\n"
     ]
    }
   ],
   "source": [
    "# Usuarios actuales\n",
    "print('Usuarios actuales: ', logs_aug['id'].nunique())"
   ]
  },
  {
   "cell_type": "code",
   "execution_count": 25,
   "metadata": {},
   "outputs": [
    {
     "name": "stdout",
     "output_type": "stream",
     "text": [
      "Usuarios perdidos:  17\n"
     ]
    }
   ],
   "source": [
    "# Usuarios perdidos\n",
    "print('Usuarios perdidos: ', logs['id'].nunique() - logs_aug['id'].nunique())"
   ]
  },
  {
   "cell_type": "markdown",
   "metadata": {},
   "source": [
    "En total se perdieron 2828 eventos y 17 usuarios. Esto corresponde al 1% de los eventos y al 0.2% de los usuarios. Estas perdidas con mas que aceptables."
   ]
  },
  {
   "cell_type": "markdown",
   "metadata": {},
   "source": [
    "### Cantidad de usuarios por grupo"
   ]
  },
  {
   "cell_type": "code",
   "execution_count": 26,
   "metadata": {},
   "outputs": [
    {
     "data": {
      "text/html": [
       "<div>\n",
       "<style scoped>\n",
       "    .dataframe tbody tr th:only-of-type {\n",
       "        vertical-align: middle;\n",
       "    }\n",
       "\n",
       "    .dataframe tbody tr th {\n",
       "        vertical-align: top;\n",
       "    }\n",
       "\n",
       "    .dataframe thead th {\n",
       "        text-align: right;\n",
       "    }\n",
       "</style>\n",
       "<table border=\"1\" class=\"dataframe\">\n",
       "  <thead>\n",
       "    <tr style=\"text-align: right;\">\n",
       "      <th></th>\n",
       "      <th>exp</th>\n",
       "      <th>n_users</th>\n",
       "    </tr>\n",
       "  </thead>\n",
       "  <tbody>\n",
       "    <tr>\n",
       "      <th>0</th>\n",
       "      <td>246</td>\n",
       "      <td>2484</td>\n",
       "    </tr>\n",
       "    <tr>\n",
       "      <th>1</th>\n",
       "      <td>247</td>\n",
       "      <td>2513</td>\n",
       "    </tr>\n",
       "    <tr>\n",
       "      <th>2</th>\n",
       "      <td>248</td>\n",
       "      <td>2537</td>\n",
       "    </tr>\n",
       "  </tbody>\n",
       "</table>\n",
       "</div>"
      ],
      "text/plain": [
       "   exp  n_users\n",
       "0  246     2484\n",
       "1  247     2513\n",
       "2  248     2537"
      ]
     },
     "execution_count": 26,
     "metadata": {},
     "output_type": "execute_result"
    }
   ],
   "source": [
    "# Encontramos la cantidad de usuarios por grupo\n",
    "users_by_exp = logs_aug.groupby(by='exp', as_index=False).agg({'id': 'nunique'})\n",
    "users_by_exp.columns = ['exp', 'n_users']\n",
    "users_by_exp"
   ]
  },
  {
   "cell_type": "code",
   "execution_count": 27,
   "metadata": {},
   "outputs": [
    {
     "data": {
      "image/png": "[encoded data removed]",
      "text/plain": [
       "<Figure size 640x480 with 1 Axes>"
      ]
     },
     "metadata": {},
     "output_type": "display_data"
    }
   ],
   "source": [
    "# Graficamos\n",
    "sns.barplot(data=users_by_exp, x='exp', y='n_users')\n",
    "\n",
    "plt.xlabel('Grupo experimental')\n",
    "plt.ylabel('Cantidad de usuarios')\n",
    "plt.title('Distribucion de usuarios por test A/A/B')\n",
    "plt.show()"
   ]
  },
  {
   "cell_type": "markdown",
   "metadata": {},
   "source": [
    "Vemos que contamos con alrededor de 2500 usuarios por cada grupo experimental. Podemos decir que estan bastante uniformemente distribuidos."
   ]
  },
  {
   "cell_type": "markdown",
   "metadata": {},
   "source": [
    "### Conclusiones\n",
    "\n",
    "- Contamos con mas de 240k eventos y alrededor de 7500 usuarios\n",
    "- En promedio cada usuario realiza alrededor de 20 eventos\n",
    "- Los datos comprenden el mes de agosto\n",
    "- Los usuarios estan divididos en 3 grupos de aprox. 2500 usuarios"
   ]
  },
  {
   "cell_type": "markdown",
   "metadata": {},
   "source": [
    "## Estudiar el embudo"
   ]
  },
  {
   "cell_type": "markdown",
   "metadata": {},
   "source": [
    "### Tipos de evento por frecuencia"
   ]
  },
  {
   "cell_type": "code",
   "execution_count": 28,
   "metadata": {},
   "outputs": [
    {
     "data": {
      "text/plain": [
       "name\n",
       "MainScreenAppear           117431\n",
       "OffersScreenAppear          46350\n",
       "CartScreenAppear            42365\n",
       "PaymentScreenSuccessful     34113\n",
       "Tutorial                     1039\n",
       "Name: count, dtype: int64"
      ]
     },
     "execution_count": 28,
     "metadata": {},
     "output_type": "execute_result"
    }
   ],
   "source": [
    "# Mostramos los tipos de evento y su frecuencia en orden descendente\n",
    "logs_aug['name'].value_counts()"
   ]
  },
  {
   "cell_type": "markdown",
   "metadata": {},
   "source": [
    "Observamos que existen 5 eventos. Ordenados por frecuencia estos son:\n",
    " - main screen\n",
    " - offers screen\n",
    " - cart screen\n",
    " - paypent screen\n",
    " - tutorial\n",
    " \n",
    "Vemos que el evento mas frecuente es la pantalla principal, lo que tiene sentido. El menos frecuente es el tutorial, lo cual tambien tiene sentido ya que muchas personas lo saltan."
   ]
  },
  {
   "cell_type": "markdown",
   "metadata": {},
   "source": [
    "### Numero de usuarios por evento"
   ]
  },
  {
   "cell_type": "code",
   "execution_count": 29,
   "metadata": {},
   "outputs": [
    {
     "name": "stderr",
     "output_type": "stream",
     "text": [
      "C:\\Users\\ayrto\\AppData\\Local\\Temp\\ipykernel_9716\\3196846505.py:3: FutureWarning: The default of observed=False is deprecated and will be changed to True in a future version of pandas. Pass observed=False to retain current behavior or observed=True to adopt the future default and silence this warning.\n",
      "  .groupby(by='name', as_index=False)\n"
     ]
    },
    {
     "data": {
      "text/html": [
       "<div>\n",
       "<style scoped>\n",
       "    .dataframe tbody tr th:only-of-type {\n",
       "        vertical-align: middle;\n",
       "    }\n",
       "\n",
       "    .dataframe tbody tr th {\n",
       "        vertical-align: top;\n",
       "    }\n",
       "\n",
       "    .dataframe thead th {\n",
       "        text-align: right;\n",
       "    }\n",
       "</style>\n",
       "<table border=\"1\" class=\"dataframe\">\n",
       "  <thead>\n",
       "    <tr style=\"text-align: right;\">\n",
       "      <th></th>\n",
       "      <th>event</th>\n",
       "      <th>n_users</th>\n",
       "    </tr>\n",
       "  </thead>\n",
       "  <tbody>\n",
       "    <tr>\n",
       "      <th>0</th>\n",
       "      <td>MainScreenAppear</td>\n",
       "      <td>7419</td>\n",
       "    </tr>\n",
       "    <tr>\n",
       "      <th>1</th>\n",
       "      <td>OffersScreenAppear</td>\n",
       "      <td>4593</td>\n",
       "    </tr>\n",
       "    <tr>\n",
       "      <th>2</th>\n",
       "      <td>CartScreenAppear</td>\n",
       "      <td>3734</td>\n",
       "    </tr>\n",
       "    <tr>\n",
       "      <th>3</th>\n",
       "      <td>PaymentScreenSuccessful</td>\n",
       "      <td>3539</td>\n",
       "    </tr>\n",
       "    <tr>\n",
       "      <th>4</th>\n",
       "      <td>Tutorial</td>\n",
       "      <td>840</td>\n",
       "    </tr>\n",
       "  </tbody>\n",
       "</table>\n",
       "</div>"
      ],
      "text/plain": [
       "                     event  n_users\n",
       "0         MainScreenAppear     7419\n",
       "1       OffersScreenAppear     4593\n",
       "2         CartScreenAppear     3734\n",
       "3  PaymentScreenSuccessful     3539\n",
       "4                 Tutorial      840"
      ]
     },
     "execution_count": 29,
     "metadata": {},
     "output_type": "execute_result"
    }
   ],
   "source": [
    "# Calculamos la cantidad de usuarios unicos que realizaron cada evento\n",
    "user_by_event = (logs_aug\n",
    "                 .groupby(by='name', as_index=False)\n",
    "                 .agg({\n",
    "                     'id': 'nunique'\n",
    "                 })\n",
    "                 .sort_values(by='id', ascending=False).\n",
    "                 reset_index(drop=True))\n",
    "user_by_event.columns = ['event', 'n_users']\n",
    "user_by_event"
   ]
  },
  {
   "cell_type": "code",
   "execution_count": 30,
   "metadata": {},
   "outputs": [
    {
     "data": {
      "text/html": [
       "<div>\n",
       "<style scoped>\n",
       "    .dataframe tbody tr th:only-of-type {\n",
       "        vertical-align: middle;\n",
       "    }\n",
       "\n",
       "    .dataframe tbody tr th {\n",
       "        vertical-align: top;\n",
       "    }\n",
       "\n",
       "    .dataframe thead th {\n",
       "        text-align: right;\n",
       "    }\n",
       "</style>\n",
       "<table border=\"1\" class=\"dataframe\">\n",
       "  <thead>\n",
       "    <tr style=\"text-align: right;\">\n",
       "      <th></th>\n",
       "      <th>event</th>\n",
       "      <th>n_users</th>\n",
       "      <th>proportion_total</th>\n",
       "    </tr>\n",
       "  </thead>\n",
       "  <tbody>\n",
       "    <tr>\n",
       "      <th>0</th>\n",
       "      <td>MainScreenAppear</td>\n",
       "      <td>7419</td>\n",
       "      <td>0.984736</td>\n",
       "    </tr>\n",
       "    <tr>\n",
       "      <th>1</th>\n",
       "      <td>OffersScreenAppear</td>\n",
       "      <td>4593</td>\n",
       "      <td>0.609636</td>\n",
       "    </tr>\n",
       "    <tr>\n",
       "      <th>2</th>\n",
       "      <td>CartScreenAppear</td>\n",
       "      <td>3734</td>\n",
       "      <td>0.495620</td>\n",
       "    </tr>\n",
       "    <tr>\n",
       "      <th>3</th>\n",
       "      <td>PaymentScreenSuccessful</td>\n",
       "      <td>3539</td>\n",
       "      <td>0.469737</td>\n",
       "    </tr>\n",
       "    <tr>\n",
       "      <th>4</th>\n",
       "      <td>Tutorial</td>\n",
       "      <td>840</td>\n",
       "      <td>0.111495</td>\n",
       "    </tr>\n",
       "  </tbody>\n",
       "</table>\n",
       "</div>"
      ],
      "text/plain": [
       "                     event  n_users  proportion_total\n",
       "0         MainScreenAppear     7419          0.984736\n",
       "1       OffersScreenAppear     4593          0.609636\n",
       "2         CartScreenAppear     3734          0.495620\n",
       "3  PaymentScreenSuccessful     3539          0.469737\n",
       "4                 Tutorial      840          0.111495"
      ]
     },
     "execution_count": 30,
     "metadata": {},
     "output_type": "execute_result"
    }
   ],
   "source": [
    "# Calculasmos la proporcion de usuarios totales eb cada evento\n",
    "total_users = logs_aug['id'].nunique()\n",
    "user_by_event['proportion_total'] = user_by_event['n_users'] / total_users\n",
    "user_by_event"
   ]
  },
  {
   "cell_type": "code",
   "execution_count": 31,
   "metadata": {},
   "outputs": [
    {
     "data": {
      "image/png": "[encoded data removed]",
      "text/plain": [
       "<Figure size 640x480 with 1 Axes>"
      ]
     },
     "metadata": {},
     "output_type": "display_data"
    }
   ],
   "source": [
    "# Grafico de barras\n",
    "sns.barplot(x='event', y='proportion_total', data=user_by_event)\n",
    "\n",
    "plt.xlabel('Tipo de evento')\n",
    "plt.xticks(rotation=90)\n",
    "plt.ylabel('Proporcion de usuarios totales')\n",
    "plt.title('¿Que proporción de usuarios realizó cada evento?')\n",
    "plt.show()"
   ]
  },
  {
   "cell_type": "markdown",
   "metadata": {},
   "source": [
    "Vemos que no todos los usuarios llegan al menu principal (falta un 2%). Esto podria indicar que algunos usuarios llevan el tutorial, mas no lo terminan y abandonan el proceso; por lo que no llegan al menu principal.\n",
    "\n",
    "Para el resto de los eventos, entre 47% y 61% de los usuarios o ha realizado al menos una vez."
   ]
  },
  {
   "cell_type": "markdown",
   "metadata": {},
   "source": [
    "### Secuencia de los eventos"
   ]
  },
  {
   "cell_type": "code",
   "execution_count": 32,
   "metadata": {},
   "outputs": [
    {
     "data": {
      "text/html": [
       "<div>\n",
       "<style scoped>\n",
       "    .dataframe tbody tr th:only-of-type {\n",
       "        vertical-align: middle;\n",
       "    }\n",
       "\n",
       "    .dataframe tbody tr th {\n",
       "        vertical-align: top;\n",
       "    }\n",
       "\n",
       "    .dataframe thead th {\n",
       "        text-align: right;\n",
       "    }\n",
       "</style>\n",
       "<table border=\"1\" class=\"dataframe\">\n",
       "  <thead>\n",
       "    <tr style=\"text-align: right;\">\n",
       "      <th></th>\n",
       "      <th>event</th>\n",
       "      <th>n_users</th>\n",
       "      <th>proportion_total</th>\n",
       "    </tr>\n",
       "  </thead>\n",
       "  <tbody>\n",
       "    <tr>\n",
       "      <th>0</th>\n",
       "      <td>MainScreenAppear</td>\n",
       "      <td>7419</td>\n",
       "      <td>0.984736</td>\n",
       "    </tr>\n",
       "    <tr>\n",
       "      <th>1</th>\n",
       "      <td>OffersScreenAppear</td>\n",
       "      <td>4593</td>\n",
       "      <td>0.609636</td>\n",
       "    </tr>\n",
       "    <tr>\n",
       "      <th>2</th>\n",
       "      <td>CartScreenAppear</td>\n",
       "      <td>3734</td>\n",
       "      <td>0.495620</td>\n",
       "    </tr>\n",
       "    <tr>\n",
       "      <th>3</th>\n",
       "      <td>PaymentScreenSuccessful</td>\n",
       "      <td>3539</td>\n",
       "      <td>0.469737</td>\n",
       "    </tr>\n",
       "    <tr>\n",
       "      <th>4</th>\n",
       "      <td>Tutorial</td>\n",
       "      <td>840</td>\n",
       "      <td>0.111495</td>\n",
       "    </tr>\n",
       "  </tbody>\n",
       "</table>\n",
       "</div>"
      ],
      "text/plain": [
       "                     event  n_users  proportion_total\n",
       "0         MainScreenAppear     7419          0.984736\n",
       "1       OffersScreenAppear     4593          0.609636\n",
       "2         CartScreenAppear     3734          0.495620\n",
       "3  PaymentScreenSuccessful     3539          0.469737\n",
       "4                 Tutorial      840          0.111495"
      ]
     },
     "execution_count": 32,
     "metadata": {},
     "output_type": "execute_result"
    }
   ],
   "source": [
    "# Mostramos los eventos\n",
    "user_by_event"
   ]
  },
  {
   "cell_type": "markdown",
   "metadata": {},
   "source": [
    "La tabla sugiere que el orden es el siguiente:\n",
    " 1. Tutorial (no obligatorio)\n",
    " 2. Pantalla principal\n",
    " 3. Pantalla de ventas\n",
    " 4. Pantalla del carrito\n",
    " 5. Pantalla de pago exitoso\n",
    " \n",
    "El tutorial, al no ser un evento obligatorio, puede ser excluido de la secuencia. Tenemos lo siguiente\n",
    " 1. Pantalla principal\n",
    " 2. Pantalla de ventas\n",
    " 3. Pantalla del carrito\n",
    " 4. Pantalla de pago exitoso"
   ]
  },
  {
   "cell_type": "markdown",
   "metadata": {},
   "source": [
    "### Proporcion de usuarios por etapas"
   ]
  },
  {
   "cell_type": "code",
   "execution_count": 33,
   "metadata": {},
   "outputs": [
    {
     "data": {
      "text/html": [
       "<div>\n",
       "<style scoped>\n",
       "    .dataframe tbody tr th:only-of-type {\n",
       "        vertical-align: middle;\n",
       "    }\n",
       "\n",
       "    .dataframe tbody tr th {\n",
       "        vertical-align: top;\n",
       "    }\n",
       "\n",
       "    .dataframe thead th {\n",
       "        text-align: right;\n",
       "    }\n",
       "</style>\n",
       "<table border=\"1\" class=\"dataframe\">\n",
       "  <thead>\n",
       "    <tr style=\"text-align: right;\">\n",
       "      <th></th>\n",
       "      <th>event</th>\n",
       "      <th>n_users</th>\n",
       "      <th>proportion_total</th>\n",
       "    </tr>\n",
       "  </thead>\n",
       "  <tbody>\n",
       "    <tr>\n",
       "      <th>0</th>\n",
       "      <td>MainScreenAppear</td>\n",
       "      <td>7419</td>\n",
       "      <td>0.984736</td>\n",
       "    </tr>\n",
       "    <tr>\n",
       "      <th>1</th>\n",
       "      <td>OffersScreenAppear</td>\n",
       "      <td>4593</td>\n",
       "      <td>0.609636</td>\n",
       "    </tr>\n",
       "    <tr>\n",
       "      <th>2</th>\n",
       "      <td>CartScreenAppear</td>\n",
       "      <td>3734</td>\n",
       "      <td>0.495620</td>\n",
       "    </tr>\n",
       "    <tr>\n",
       "      <th>3</th>\n",
       "      <td>PaymentScreenSuccessful</td>\n",
       "      <td>3539</td>\n",
       "      <td>0.469737</td>\n",
       "    </tr>\n",
       "  </tbody>\n",
       "</table>\n",
       "</div>"
      ],
      "text/plain": [
       "                     event  n_users  proportion_total\n",
       "0         MainScreenAppear     7419          0.984736\n",
       "1       OffersScreenAppear     4593          0.609636\n",
       "2         CartScreenAppear     3734          0.495620\n",
       "3  PaymentScreenSuccessful     3539          0.469737"
      ]
     },
     "execution_count": 33,
     "metadata": {},
     "output_type": "execute_result"
    }
   ],
   "source": [
    "# Excluimos el tutorial\n",
    "user_by_event_no_tutorial = user_by_event[0:4]\n",
    "user_by_event_no_tutorial"
   ]
  },
  {
   "cell_type": "code",
   "execution_count": 34,
   "metadata": {},
   "outputs": [
    {
     "name": "stderr",
     "output_type": "stream",
     "text": [
      "C:\\Users\\ayrto\\AppData\\Local\\Temp\\ipykernel_9716\\3844279633.py:1: SettingWithCopyWarning: \n",
      "A value is trying to be set on a copy of a slice from a DataFrame.\n",
      "Try using .loc[row_indexer,col_indexer] = value instead\n",
      "\n",
      "See the caveats in the documentation: https://pandas.pydata.org/pandas-docs/stable/user_guide/indexing.html#returning-a-view-versus-a-copy\n",
      "  user_by_event_no_tutorial.loc[:, 'proportion_last'] = (user_by_event_no_tutorial['n_users']\n"
     ]
    },
    {
     "data": {
      "text/html": [
       "<div>\n",
       "<style scoped>\n",
       "    .dataframe tbody tr th:only-of-type {\n",
       "        vertical-align: middle;\n",
       "    }\n",
       "\n",
       "    .dataframe tbody tr th {\n",
       "        vertical-align: top;\n",
       "    }\n",
       "\n",
       "    .dataframe thead th {\n",
       "        text-align: right;\n",
       "    }\n",
       "</style>\n",
       "<table border=\"1\" class=\"dataframe\">\n",
       "  <thead>\n",
       "    <tr style=\"text-align: right;\">\n",
       "      <th></th>\n",
       "      <th>event</th>\n",
       "      <th>n_users</th>\n",
       "      <th>proportion_total</th>\n",
       "      <th>proportion_last</th>\n",
       "    </tr>\n",
       "  </thead>\n",
       "  <tbody>\n",
       "    <tr>\n",
       "      <th>0</th>\n",
       "      <td>MainScreenAppear</td>\n",
       "      <td>7419</td>\n",
       "      <td>0.984736</td>\n",
       "      <td>1.000000</td>\n",
       "    </tr>\n",
       "    <tr>\n",
       "      <th>1</th>\n",
       "      <td>OffersScreenAppear</td>\n",
       "      <td>4593</td>\n",
       "      <td>0.609636</td>\n",
       "      <td>0.619086</td>\n",
       "    </tr>\n",
       "    <tr>\n",
       "      <th>2</th>\n",
       "      <td>CartScreenAppear</td>\n",
       "      <td>3734</td>\n",
       "      <td>0.495620</td>\n",
       "      <td>0.812976</td>\n",
       "    </tr>\n",
       "    <tr>\n",
       "      <th>3</th>\n",
       "      <td>PaymentScreenSuccessful</td>\n",
       "      <td>3539</td>\n",
       "      <td>0.469737</td>\n",
       "      <td>0.947777</td>\n",
       "    </tr>\n",
       "  </tbody>\n",
       "</table>\n",
       "</div>"
      ],
      "text/plain": [
       "                     event  n_users  proportion_total  proportion_last\n",
       "0         MainScreenAppear     7419          0.984736         1.000000\n",
       "1       OffersScreenAppear     4593          0.609636         0.619086\n",
       "2         CartScreenAppear     3734          0.495620         0.812976\n",
       "3  PaymentScreenSuccessful     3539          0.469737         0.947777"
      ]
     },
     "execution_count": 34,
     "metadata": {},
     "output_type": "execute_result"
    }
   ],
   "source": [
    "user_by_event_no_tutorial.loc[:, 'proportion_last'] = (user_by_event_no_tutorial['n_users']\n",
    "                                                       .div(user_by_event_no_tutorial['n_users'].shift(1)))\n",
    "user_by_event_no_tutorial.loc[0, 'proportion_last'] = 1\n",
    "user_by_event_no_tutorial"
   ]
  },
  {
   "cell_type": "code",
   "execution_count": 35,
   "metadata": {},
   "outputs": [
    {
     "data": {
      "application/vnd.plotly.v1+json": {
       "config": {
        "plotlyServerURL": "https://plot.ly"
       },
       "data": [
        {
         "type": "funnel",
         "x": [
          7419,
          4593,
          3734,
          3539
         ],
         "y": [
          "MainScreenAppear",
          "OffersScreenAppear",
          "CartScreenAppear",
          "PaymentScreenSuccessful"
         ]
        }
       ],
       "layout": {
        "template": {
         "data": {
          "bar": [
           {
            "error_x": {
             "color": "#2a3f5f"
            },
            "error_y": {
             "color": "#2a3f5f"
            },
            "marker": {
             "line": {
              "color": "#E5ECF6",
              "width": 0.5
             },
             "pattern": {
              "fillmode": "overlay",
              "size": 10,
              "solidity": 0.2
             }
            },
            "type": "bar"
           }
          ],
          "barpolar": [
           {
            "marker": {
             "line": {
              "color": "#E5ECF6",
              "width": 0.5
             },
             "pattern": {
              "fillmode": "overlay",
              "size": 10,
              "solidity": 0.2
             }
            },
            "type": "barpolar"
           }
          ],
          "carpet": [
           {
            "aaxis": {
             "endlinecolor": "#2a3f5f",
             "gridcolor": "white",
             "linecolor": "white",
             "minorgridcolor": "white",
             "startlinecolor": "#2a3f5f"
            },
            "baxis": {
             "endlinecolor": "#2a3f5f",
             "gridcolor": "white",
             "linecolor": "white",
             "minorgridcolor": "white",
             "startlinecolor": "#2a3f5f"
            },
            "type": "carpet"
           }
          ],
          "choropleth": [
           {
            "colorbar": {
             "outlinewidth": 0,
             "ticks": ""
            },
            "type": "choropleth"
           }
          ],
          "contour": [
           {
            "colorbar": {
             "outlinewidth": 0,
             "ticks": ""
            },
            "colorscale": [
             [
              0,
              "#0d0887"
             ],
             [
              0.1111111111111111,
              "#46039f"
             ],
             [
              0.2222222222222222,
              "#7201a8"
             ],
             [
              0.3333333333333333,
              "#9c179e"
             ],
             [
              0.4444444444444444,
              "#bd3786"
             ],
             [
              0.5555555555555556,
              "#d8576b"
             ],
             [
              0.6666666666666666,
              "#ed7953"
             ],
             [
              0.7777777777777778,
              "#fb9f3a"
             ],
             [
              0.8888888888888888,
              "#fdca26"
             ],
             [
              1,
              "#f0f921"
             ]
            ],
            "type": "contour"
           }
          ],
          "contourcarpet": [
           {
            "colorbar": {
             "outlinewidth": 0,
             "ticks": ""
            },
            "type": "contourcarpet"
           }
          ],
          "heatmap": [
           {
            "colorbar": {
             "outlinewidth": 0,
             "ticks": ""
            },
            "colorscale": [
             [
              0,
              "#0d0887"
             ],
             [
              0.1111111111111111,
              "#46039f"
             ],
             [
              0.2222222222222222,
              "#7201a8"
             ],
             [
              0.3333333333333333,
              "#9c179e"
             ],
             [
              0.4444444444444444,
              "#bd3786"
             ],
             [
              0.5555555555555556,
              "#d8576b"
             ],
             [
              0.6666666666666666,
              "#ed7953"
             ],
             [
              0.7777777777777778,
              "#fb9f3a"
             ],
             [
              0.8888888888888888,
              "#fdca26"
             ],
             [
              1,
              "#f0f921"
             ]
            ],
            "type": "heatmap"
           }
          ],
          "heatmapgl": [
           {
            "colorbar": {
             "outlinewidth": 0,
             "ticks": ""
            },
            "colorscale": [
             [
              0,
              "#0d0887"
             ],
             [
              0.1111111111111111,
              "#46039f"
             ],
             [
              0.2222222222222222,
              "#7201a8"
             ],
             [
              0.3333333333333333,
              "#9c179e"
             ],
             [
              0.4444444444444444,
              "#bd3786"
             ],
             [
              0.5555555555555556,
              "#d8576b"
             ],
             [
              0.6666666666666666,
              "#ed7953"
             ],
             [
              0.7777777777777778,
              "#fb9f3a"
             ],
             [
              0.8888888888888888,
              "#fdca26"
             ],
             [
              1,
              "#f0f921"
             ]
            ],
            "type": "heatmapgl"
           }
          ],
          "histogram": [
           {
            "marker": {
             "pattern": {
              "fillmode": "overlay",
              "size": 10,
              "solidity": 0.2
             }
            },
            "type": "histogram"
           }
          ],
          "histogram2d": [
           {
            "colorbar": {
             "outlinewidth": 0,
             "ticks": ""
            },
            "colorscale": [
             [
              0,
              "#0d0887"
             ],
             [
              0.1111111111111111,
              "#46039f"
             ],
             [
              0.2222222222222222,
              "#7201a8"
             ],
             [
              0.3333333333333333,
              "#9c179e"
             ],
             [
              0.4444444444444444,
              "#bd3786"
             ],
             [
              0.5555555555555556,
              "#d8576b"
             ],
             [
              0.6666666666666666,
              "#ed7953"
             ],
             [
              0.7777777777777778,
              "#fb9f3a"
             ],
             [
              0.8888888888888888,
              "#fdca26"
             ],
             [
              1,
              "#f0f921"
             ]
            ],
            "type": "histogram2d"
           }
          ],
          "histogram2dcontour": [
           {
            "colorbar": {
             "outlinewidth": 0,
             "ticks": ""
            },
            "colorscale": [
             [
              0,
              "#0d0887"
             ],
             [
              0.1111111111111111,
              "#46039f"
             ],
             [
              0.2222222222222222,
              "#7201a8"
             ],
             [
              0.3333333333333333,
              "#9c179e"
             ],
             [
              0.4444444444444444,
              "#bd3786"
             ],
             [
              0.5555555555555556,
              "#d8576b"
             ],
             [
              0.6666666666666666,
              "#ed7953"
             ],
             [
              0.7777777777777778,
              "#fb9f3a"
             ],
             [
              0.8888888888888888,
              "#fdca26"
             ],
             [
              1,
              "#f0f921"
             ]
            ],
            "type": "histogram2dcontour"
           }
          ],
          "mesh3d": [
           {
            "colorbar": {
             "outlinewidth": 0,
             "ticks": ""
            },
            "type": "mesh3d"
           }
          ],
          "parcoords": [
           {
            "line": {
             "colorbar": {
              "outlinewidth": 0,
              "ticks": ""
             }
            },
            "type": "parcoords"
           }
          ],
          "pie": [
           {
            "automargin": true,
            "type": "pie"
           }
          ],
          "scatter": [
           {
            "fillpattern": {
             "fillmode": "overlay",
             "size": 10,
             "solidity": 0.2
            },
            "type": "scatter"
           }
          ],
          "scatter3d": [
           {
            "line": {
             "colorbar": {
              "outlinewidth": 0,
              "ticks": ""
             }
            },
            "marker": {
             "colorbar": {
              "outlinewidth": 0,
              "ticks": ""
             }
            },
            "type": "scatter3d"
           }
          ],
          "scattercarpet": [
           {
            "marker": {
             "colorbar": {
              "outlinewidth": 0,
              "ticks": ""
             }
            },
            "type": "scattercarpet"
           }
          ],
          "scattergeo": [
           {
            "marker": {
             "colorbar": {
              "outlinewidth": 0,
              "ticks": ""
             }
            },
            "type": "scattergeo"
           }
          ],
          "scattergl": [
           {
            "marker": {
             "colorbar": {
              "outlinewidth": 0,
              "ticks": ""
             }
            },
            "type": "scattergl"
           }
          ],
          "scattermapbox": [
           {
            "marker": {
             "colorbar": {
              "outlinewidth": 0,
              "ticks": ""
             }
            },
            "type": "scattermapbox"
           }
          ],
          "scatterpolar": [
           {
            "marker": {
             "colorbar": {
              "outlinewidth": 0,
              "ticks": ""
             }
            },
            "type": "scatterpolar"
           }
          ],
          "scatterpolargl": [
           {
            "marker": {
             "colorbar": {
              "outlinewidth": 0,
              "ticks": ""
             }
            },
            "type": "scatterpolargl"
           }
          ],
          "scatterternary": [
           {
            "marker": {
             "colorbar": {
              "outlinewidth": 0,
              "ticks": ""
             }
            },
            "type": "scatterternary"
           }
          ],
          "surface": [
           {
            "colorbar": {
             "outlinewidth": 0,
             "ticks": ""
            },
            "colorscale": [
             [
              0,
              "#0d0887"
             ],
             [
              0.1111111111111111,
              "#46039f"
             ],
             [
              0.2222222222222222,
              "#7201a8"
             ],
             [
              0.3333333333333333,
              "#9c179e"
             ],
             [
              0.4444444444444444,
              "#bd3786"
             ],
             [
              0.5555555555555556,
              "#d8576b"
             ],
             [
              0.6666666666666666,
              "#ed7953"
             ],
             [
              0.7777777777777778,
              "#fb9f3a"
             ],
             [
              0.8888888888888888,
              "#fdca26"
             ],
             [
              1,
              "#f0f921"
             ]
            ],
            "type": "surface"
           }
          ],
          "table": [
           {
            "cells": {
             "fill": {
              "color": "#EBF0F8"
             },
             "line": {
              "color": "white"
             }
            },
            "header": {
             "fill": {
              "color": "#C8D4E3"
             },
             "line": {
              "color": "white"
             }
            },
            "type": "table"
           }
          ]
         },
         "layout": {
          "annotationdefaults": {
           "arrowcolor": "#2a3f5f",
           "arrowhead": 0,
           "arrowwidth": 1
          },
          "autotypenumbers": "strict",
          "coloraxis": {
           "colorbar": {
            "outlinewidth": 0,
            "ticks": ""
           }
          },
          "colorscale": {
           "diverging": [
            [
             0,
             "#8e0152"
            ],
            [
             0.1,
             "#c51b7d"
            ],
            [
             0.2,
             "#de77ae"
            ],
            [
             0.3,
             "#f1b6da"
            ],
            [
             0.4,
             "#fde0ef"
            ],
            [
             0.5,
             "#f7f7f7"
            ],
            [
             0.6,
             "#e6f5d0"
            ],
            [
             0.7,
             "#b8e186"
            ],
            [
             0.8,
             "#7fbc41"
            ],
            [
             0.9,
             "#4d9221"
            ],
            [
             1,
             "#276419"
            ]
           ],
           "sequential": [
            [
             0,
             "#0d0887"
            ],
            [
             0.1111111111111111,
             "#46039f"
            ],
            [
             0.2222222222222222,
             "#7201a8"
            ],
            [
             0.3333333333333333,
             "#9c179e"
            ],
            [
             0.4444444444444444,
             "#bd3786"
            ],
            [
             0.5555555555555556,
             "#d8576b"
            ],
            [
             0.6666666666666666,
             "#ed7953"
            ],
            [
             0.7777777777777778,
             "#fb9f3a"
            ],
            [
             0.8888888888888888,
             "#fdca26"
            ],
            [
             1,
             "#f0f921"
            ]
           ],
           "sequentialminus": [
            [
             0,
             "#0d0887"
            ],
            [
             0.1111111111111111,
             "#46039f"
            ],
            [
             0.2222222222222222,
             "#7201a8"
            ],
            [
             0.3333333333333333,
             "#9c179e"
            ],
            [
             0.4444444444444444,
             "#bd3786"
            ],
            [
             0.5555555555555556,
             "#d8576b"
            ],
            [
             0.6666666666666666,
             "#ed7953"
            ],
            [
             0.7777777777777778,
             "#fb9f3a"
            ],
            [
             0.8888888888888888,
             "#fdca26"
            ],
            [
             1,
             "#f0f921"
            ]
           ]
          },
          "colorway": [
           "#636efa",
           "#EF553B",
           "#00cc96",
           "#ab63fa",
           "#FFA15A",
           "#19d3f3",
           "#FF6692",
           "#B6E880",
           "#FF97FF",
           "#FECB52"
          ],
          "font": {
           "color": "#2a3f5f"
          },
          "geo": {
           "bgcolor": "white",
           "lakecolor": "white",
           "landcolor": "#E5ECF6",
           "showlakes": true,
           "showland": true,
           "subunitcolor": "white"
          },
          "hoverlabel": {
           "align": "left"
          },
          "hovermode": "closest",
          "mapbox": {
           "style": "light"
          },
          "paper_bgcolor": "white",
          "plot_bgcolor": "#E5ECF6",
          "polar": {
           "angularaxis": {
            "gridcolor": "white",
            "linecolor": "white",
            "ticks": ""
           },
           "bgcolor": "#E5ECF6",
           "radialaxis": {
            "gridcolor": "white",
            "linecolor": "white",
            "ticks": ""
           }
          },
          "scene": {
           "xaxis": {
            "backgroundcolor": "#E5ECF6",
            "gridcolor": "white",
            "gridwidth": 2,
            "linecolor": "white",
            "showbackground": true,
            "ticks": "",
            "zerolinecolor": "white"
           },
           "yaxis": {
            "backgroundcolor": "#E5ECF6",
            "gridcolor": "white",
            "gridwidth": 2,
            "linecolor": "white",
            "showbackground": true,
            "ticks": "",
            "zerolinecolor": "white"
           },
           "zaxis": {
            "backgroundcolor": "#E5ECF6",
            "gridcolor": "white",
            "gridwidth": 2,
            "linecolor": "white",
            "showbackground": true,
            "ticks": "",
            "zerolinecolor": "white"
           }
          },
          "shapedefaults": {
           "line": {
            "color": "#2a3f5f"
           }
          },
          "ternary": {
           "aaxis": {
            "gridcolor": "white",
            "linecolor": "white",
            "ticks": ""
           },
           "baxis": {
            "gridcolor": "white",
            "linecolor": "white",
            "ticks": ""
           },
           "bgcolor": "#E5ECF6",
           "caxis": {
            "gridcolor": "white",
            "linecolor": "white",
            "ticks": ""
           }
          },
          "title": {
           "x": 0.05
          },
          "xaxis": {
           "automargin": true,
           "gridcolor": "white",
           "linecolor": "white",
           "ticks": "",
           "title": {
            "standoff": 15
           },
           "zerolinecolor": "white",
           "zerolinewidth": 2
          },
          "yaxis": {
           "automargin": true,
           "gridcolor": "white",
           "linecolor": "white",
           "ticks": "",
           "title": {
            "standoff": 15
           },
           "zerolinecolor": "white",
           "zerolinewidth": 2
          }
         }
        }
       }
      }
     },
     "metadata": {},
     "output_type": "display_data"
    }
   ],
   "source": [
    "# Graficamos el embudo\n",
    "fig = go.Figure(go.Funnel(\n",
    "    y = user_by_event_no_tutorial['event'],\n",
    "    x = user_by_event_no_tutorial['n_users']))\n",
    "\n",
    "fig.show()"
   ]
  },
  {
   "cell_type": "markdown",
   "metadata": {},
   "source": [
    "Excluimos del analisis al evento Tutorial ya que no es obligatorio. De esta amnera se puede obtener un embudo con los 4 eventos mencionados anteriormente. Se puede obervar que, como es de esperar en un embudo, en cada seccion siguiente hay menos usuarios que en la anterior."
   ]
  },
  {
   "cell_type": "markdown",
   "metadata": {},
   "source": [
    "### Etapa de mayor perdida de usuarios"
   ]
  },
  {
   "cell_type": "code",
   "execution_count": 36,
   "metadata": {},
   "outputs": [
    {
     "data": {
      "text/html": [
       "<div>\n",
       "<style scoped>\n",
       "    .dataframe tbody tr th:only-of-type {\n",
       "        vertical-align: middle;\n",
       "    }\n",
       "\n",
       "    .dataframe tbody tr th {\n",
       "        vertical-align: top;\n",
       "    }\n",
       "\n",
       "    .dataframe thead th {\n",
       "        text-align: right;\n",
       "    }\n",
       "</style>\n",
       "<table border=\"1\" class=\"dataframe\">\n",
       "  <thead>\n",
       "    <tr style=\"text-align: right;\">\n",
       "      <th></th>\n",
       "      <th>event</th>\n",
       "      <th>n_users</th>\n",
       "      <th>proportion_total</th>\n",
       "      <th>proportion_last</th>\n",
       "    </tr>\n",
       "  </thead>\n",
       "  <tbody>\n",
       "    <tr>\n",
       "      <th>0</th>\n",
       "      <td>MainScreenAppear</td>\n",
       "      <td>7419</td>\n",
       "      <td>0.984736</td>\n",
       "      <td>1.000000</td>\n",
       "    </tr>\n",
       "    <tr>\n",
       "      <th>1</th>\n",
       "      <td>OffersScreenAppear</td>\n",
       "      <td>4593</td>\n",
       "      <td>0.609636</td>\n",
       "      <td>0.619086</td>\n",
       "    </tr>\n",
       "    <tr>\n",
       "      <th>2</th>\n",
       "      <td>CartScreenAppear</td>\n",
       "      <td>3734</td>\n",
       "      <td>0.495620</td>\n",
       "      <td>0.812976</td>\n",
       "    </tr>\n",
       "    <tr>\n",
       "      <th>3</th>\n",
       "      <td>PaymentScreenSuccessful</td>\n",
       "      <td>3539</td>\n",
       "      <td>0.469737</td>\n",
       "      <td>0.947777</td>\n",
       "    </tr>\n",
       "  </tbody>\n",
       "</table>\n",
       "</div>"
      ],
      "text/plain": [
       "                     event  n_users  proportion_total  proportion_last\n",
       "0         MainScreenAppear     7419          0.984736         1.000000\n",
       "1       OffersScreenAppear     4593          0.609636         0.619086\n",
       "2         CartScreenAppear     3734          0.495620         0.812976\n",
       "3  PaymentScreenSuccessful     3539          0.469737         0.947777"
      ]
     },
     "execution_count": 36,
     "metadata": {},
     "output_type": "execute_result"
    }
   ],
   "source": [
    "# Mostramos la tabla\n",
    "user_by_event_no_tutorial"
   ]
  },
  {
   "cell_type": "markdown",
   "metadata": {},
   "source": [
    "Podemos ver en la tabla que la etapa donde perdemos la mayor cantidad de usuarios es la primera: solo un 62% de los usuarios llega de la pantalla principal a la pantalla de ofertas. Esto quiere decir que 4 de cada 10 usuarios se quedan en la pantalla principal y no continuan usando la aplicacion.\n",
    "\n",
    "Esto puede ser producto de diversas fuentes, no es posible saber de momento que produce este resultado."
   ]
  },
  {
   "cell_type": "markdown",
   "metadata": {},
   "source": [
    "### Porcentaje de usuarios que completan el recorrido"
   ]
  },
  {
   "cell_type": "code",
   "execution_count": 37,
   "metadata": {},
   "outputs": [
    {
     "data": {
      "application/vnd.plotly.v1+json": {
       "config": {
        "plotlyServerURL": "https://plot.ly"
       },
       "data": [
        {
         "type": "funnel",
         "x": [
          7419,
          4593,
          3734,
          3539
         ],
         "y": [
          "MainScreenAppear",
          "OffersScreenAppear",
          "CartScreenAppear",
          "PaymentScreenSuccessful"
         ]
        }
       ],
       "layout": {
        "template": {
         "data": {
          "bar": [
           {
            "error_x": {
             "color": "#2a3f5f"
            },
            "error_y": {
             "color": "#2a3f5f"
            },
            "marker": {
             "line": {
              "color": "#E5ECF6",
              "width": 0.5
             },
             "pattern": {
              "fillmode": "overlay",
              "size": 10,
              "solidity": 0.2
             }
            },
            "type": "bar"
           }
          ],
          "barpolar": [
           {
            "marker": {
             "line": {
              "color": "#E5ECF6",
              "width": 0.5
             },
             "pattern": {
              "fillmode": "overlay",
              "size": 10,
              "solidity": 0.2
             }
            },
            "type": "barpolar"
           }
          ],
          "carpet": [
           {
            "aaxis": {
             "endlinecolor": "#2a3f5f",
             "gridcolor": "white",
             "linecolor": "white",
             "minorgridcolor": "white",
             "startlinecolor": "#2a3f5f"
            },
            "baxis": {
             "endlinecolor": "#2a3f5f",
             "gridcolor": "white",
             "linecolor": "white",
             "minorgridcolor": "white",
             "startlinecolor": "#2a3f5f"
            },
            "type": "carpet"
           }
          ],
          "choropleth": [
           {
            "colorbar": {
             "outlinewidth": 0,
             "ticks": ""
            },
            "type": "choropleth"
           }
          ],
          "contour": [
           {
            "colorbar": {
             "outlinewidth": 0,
             "ticks": ""
            },
            "colorscale": [
             [
              0,
              "#0d0887"
             ],
             [
              0.1111111111111111,
              "#46039f"
             ],
             [
              0.2222222222222222,
              "#7201a8"
             ],
             [
              0.3333333333333333,
              "#9c179e"
             ],
             [
              0.4444444444444444,
              "#bd3786"
             ],
             [
              0.5555555555555556,
              "#d8576b"
             ],
             [
              0.6666666666666666,
              "#ed7953"
             ],
             [
              0.7777777777777778,
              "#fb9f3a"
             ],
             [
              0.8888888888888888,
              "#fdca26"
             ],
             [
              1,
              "#f0f921"
             ]
            ],
            "type": "contour"
           }
          ],
          "contourcarpet": [
           {
            "colorbar": {
             "outlinewidth": 0,
             "ticks": ""
            },
            "type": "contourcarpet"
           }
          ],
          "heatmap": [
           {
            "colorbar": {
             "outlinewidth": 0,
             "ticks": ""
            },
            "colorscale": [
             [
              0,
              "#0d0887"
             ],
             [
              0.1111111111111111,
              "#46039f"
             ],
             [
              0.2222222222222222,
              "#7201a8"
             ],
             [
              0.3333333333333333,
              "#9c179e"
             ],
             [
              0.4444444444444444,
              "#bd3786"
             ],
             [
              0.5555555555555556,
              "#d8576b"
             ],
             [
              0.6666666666666666,
              "#ed7953"
             ],
             [
              0.7777777777777778,
              "#fb9f3a"
             ],
             [
              0.8888888888888888,
              "#fdca26"
             ],
             [
              1,
              "#f0f921"
             ]
            ],
            "type": "heatmap"
           }
          ],
          "heatmapgl": [
           {
            "colorbar": {
             "outlinewidth": 0,
             "ticks": ""
            },
            "colorscale": [
             [
              0,
              "#0d0887"
             ],
             [
              0.1111111111111111,
              "#46039f"
             ],
             [
              0.2222222222222222,
              "#7201a8"
             ],
             [
              0.3333333333333333,
              "#9c179e"
             ],
             [
              0.4444444444444444,
              "#bd3786"
             ],
             [
              0.5555555555555556,
              "#d8576b"
             ],
             [
              0.6666666666666666,
              "#ed7953"
             ],
             [
              0.7777777777777778,
              "#fb9f3a"
             ],
             [
              0.8888888888888888,
              "#fdca26"
             ],
             [
              1,
              "#f0f921"
             ]
            ],
            "type": "heatmapgl"
           }
          ],
          "histogram": [
           {
            "marker": {
             "pattern": {
              "fillmode": "overlay",
              "size": 10,
              "solidity": 0.2
             }
            },
            "type": "histogram"
           }
          ],
          "histogram2d": [
           {
            "colorbar": {
             "outlinewidth": 0,
             "ticks": ""
            },
            "colorscale": [
             [
              0,
              "#0d0887"
             ],
             [
              0.1111111111111111,
              "#46039f"
             ],
             [
              0.2222222222222222,
              "#7201a8"
             ],
             [
              0.3333333333333333,
              "#9c179e"
             ],
             [
              0.4444444444444444,
              "#bd3786"
             ],
             [
              0.5555555555555556,
              "#d8576b"
             ],
             [
              0.6666666666666666,
              "#ed7953"
             ],
             [
              0.7777777777777778,
              "#fb9f3a"
             ],
             [
              0.8888888888888888,
              "#fdca26"
             ],
             [
              1,
              "#f0f921"
             ]
            ],
            "type": "histogram2d"
           }
          ],
          "histogram2dcontour": [
           {
            "colorbar": {
             "outlinewidth": 0,
             "ticks": ""
            },
            "colorscale": [
             [
              0,
              "#0d0887"
             ],
             [
              0.1111111111111111,
              "#46039f"
             ],
             [
              0.2222222222222222,
              "#7201a8"
             ],
             [
              0.3333333333333333,
              "#9c179e"
             ],
             [
              0.4444444444444444,
              "#bd3786"
             ],
             [
              0.5555555555555556,
              "#d8576b"
             ],
             [
              0.6666666666666666,
              "#ed7953"
             ],
             [
              0.7777777777777778,
              "#fb9f3a"
             ],
             [
              0.8888888888888888,
              "#fdca26"
             ],
             [
              1,
              "#f0f921"
             ]
            ],
            "type": "histogram2dcontour"
           }
          ],
          "mesh3d": [
           {
            "colorbar": {
             "outlinewidth": 0,
             "ticks": ""
            },
            "type": "mesh3d"
           }
          ],
          "parcoords": [
           {
            "line": {
             "colorbar": {
              "outlinewidth": 0,
              "ticks": ""
             }
            },
            "type": "parcoords"
           }
          ],
          "pie": [
           {
            "automargin": true,
            "type": "pie"
           }
          ],
          "scatter": [
           {
            "fillpattern": {
             "fillmode": "overlay",
             "size": 10,
             "solidity": 0.2
            },
            "type": "scatter"
           }
          ],
          "scatter3d": [
           {
            "line": {
             "colorbar": {
              "outlinewidth": 0,
              "ticks": ""
             }
            },
            "marker": {
             "colorbar": {
              "outlinewidth": 0,
              "ticks": ""
             }
            },
            "type": "scatter3d"
           }
          ],
          "scattercarpet": [
           {
            "marker": {
             "colorbar": {
              "outlinewidth": 0,
              "ticks": ""
             }
            },
            "type": "scattercarpet"
           }
          ],
          "scattergeo": [
           {
            "marker": {
             "colorbar": {
              "outlinewidth": 0,
              "ticks": ""
             }
            },
            "type": "scattergeo"
           }
          ],
          "scattergl": [
           {
            "marker": {
             "colorbar": {
              "outlinewidth": 0,
              "ticks": ""
             }
            },
            "type": "scattergl"
           }
          ],
          "scattermapbox": [
           {
            "marker": {
             "colorbar": {
              "outlinewidth": 0,
              "ticks": ""
             }
            },
            "type": "scattermapbox"
           }
          ],
          "scatterpolar": [
           {
            "marker": {
             "colorbar": {
              "outlinewidth": 0,
              "ticks": ""
             }
            },
            "type": "scatterpolar"
           }
          ],
          "scatterpolargl": [
           {
            "marker": {
             "colorbar": {
              "outlinewidth": 0,
              "ticks": ""
             }
            },
            "type": "scatterpolargl"
           }
          ],
          "scatterternary": [
           {
            "marker": {
             "colorbar": {
              "outlinewidth": 0,
              "ticks": ""
             }
            },
            "type": "scatterternary"
           }
          ],
          "surface": [
           {
            "colorbar": {
             "outlinewidth": 0,
             "ticks": ""
            },
            "colorscale": [
             [
              0,
              "#0d0887"
             ],
             [
              0.1111111111111111,
              "#46039f"
             ],
             [
              0.2222222222222222,
              "#7201a8"
             ],
             [
              0.3333333333333333,
              "#9c179e"
             ],
             [
              0.4444444444444444,
              "#bd3786"
             ],
             [
              0.5555555555555556,
              "#d8576b"
             ],
             [
              0.6666666666666666,
              "#ed7953"
             ],
             [
              0.7777777777777778,
              "#fb9f3a"
             ],
             [
              0.8888888888888888,
              "#fdca26"
             ],
             [
              1,
              "#f0f921"
             ]
            ],
            "type": "surface"
           }
          ],
          "table": [
           {
            "cells": {
             "fill": {
              "color": "#EBF0F8"
             },
             "line": {
              "color": "white"
             }
            },
            "header": {
             "fill": {
              "color": "#C8D4E3"
             },
             "line": {
              "color": "white"
             }
            },
            "type": "table"
           }
          ]
         },
         "layout": {
          "annotationdefaults": {
           "arrowcolor": "#2a3f5f",
           "arrowhead": 0,
           "arrowwidth": 1
          },
          "autotypenumbers": "strict",
          "coloraxis": {
           "colorbar": {
            "outlinewidth": 0,
            "ticks": ""
           }
          },
          "colorscale": {
           "diverging": [
            [
             0,
             "#8e0152"
            ],
            [
             0.1,
             "#c51b7d"
            ],
            [
             0.2,
             "#de77ae"
            ],
            [
             0.3,
             "#f1b6da"
            ],
            [
             0.4,
             "#fde0ef"
            ],
            [
             0.5,
             "#f7f7f7"
            ],
            [
             0.6,
             "#e6f5d0"
            ],
            [
             0.7,
             "#b8e186"
            ],
            [
             0.8,
             "#7fbc41"
            ],
            [
             0.9,
             "#4d9221"
            ],
            [
             1,
             "#276419"
            ]
           ],
           "sequential": [
            [
             0,
             "#0d0887"
            ],
            [
             0.1111111111111111,
             "#46039f"
            ],
            [
             0.2222222222222222,
             "#7201a8"
            ],
            [
             0.3333333333333333,
             "#9c179e"
            ],
            [
             0.4444444444444444,
             "#bd3786"
            ],
            [
             0.5555555555555556,
             "#d8576b"
            ],
            [
             0.6666666666666666,
             "#ed7953"
            ],
            [
             0.7777777777777778,
             "#fb9f3a"
            ],
            [
             0.8888888888888888,
             "#fdca26"
            ],
            [
             1,
             "#f0f921"
            ]
           ],
           "sequentialminus": [
            [
             0,
             "#0d0887"
            ],
            [
             0.1111111111111111,
             "#46039f"
            ],
            [
             0.2222222222222222,
             "#7201a8"
            ],
            [
             0.3333333333333333,
             "#9c179e"
            ],
            [
             0.4444444444444444,
             "#bd3786"
            ],
            [
             0.5555555555555556,
             "#d8576b"
            ],
            [
             0.6666666666666666,
             "#ed7953"
            ],
            [
             0.7777777777777778,
             "#fb9f3a"
            ],
            [
             0.8888888888888888,
             "#fdca26"
            ],
            [
             1,
             "#f0f921"
            ]
           ]
          },
          "colorway": [
           "#636efa",
           "#EF553B",
           "#00cc96",
           "#ab63fa",
           "#FFA15A",
           "#19d3f3",
           "#FF6692",
           "#B6E880",
           "#FF97FF",
           "#FECB52"
          ],
          "font": {
           "color": "#2a3f5f"
          },
          "geo": {
           "bgcolor": "white",
           "lakecolor": "white",
           "landcolor": "#E5ECF6",
           "showlakes": true,
           "showland": true,
           "subunitcolor": "white"
          },
          "hoverlabel": {
           "align": "left"
          },
          "hovermode": "closest",
          "mapbox": {
           "style": "light"
          },
          "paper_bgcolor": "white",
          "plot_bgcolor": "#E5ECF6",
          "polar": {
           "angularaxis": {
            "gridcolor": "white",
            "linecolor": "white",
            "ticks": ""
           },
           "bgcolor": "#E5ECF6",
           "radialaxis": {
            "gridcolor": "white",
            "linecolor": "white",
            "ticks": ""
           }
          },
          "scene": {
           "xaxis": {
            "backgroundcolor": "#E5ECF6",
            "gridcolor": "white",
            "gridwidth": 2,
            "linecolor": "white",
            "showbackground": true,
            "ticks": "",
            "zerolinecolor": "white"
           },
           "yaxis": {
            "backgroundcolor": "#E5ECF6",
            "gridcolor": "white",
            "gridwidth": 2,
            "linecolor": "white",
            "showbackground": true,
            "ticks": "",
            "zerolinecolor": "white"
           },
           "zaxis": {
            "backgroundcolor": "#E5ECF6",
            "gridcolor": "white",
            "gridwidth": 2,
            "linecolor": "white",
            "showbackground": true,
            "ticks": "",
            "zerolinecolor": "white"
           }
          },
          "shapedefaults": {
           "line": {
            "color": "#2a3f5f"
           }
          },
          "ternary": {
           "aaxis": {
            "gridcolor": "white",
            "linecolor": "white",
            "ticks": ""
           },
           "baxis": {
            "gridcolor": "white",
            "linecolor": "white",
            "ticks": ""
           },
           "bgcolor": "#E5ECF6",
           "caxis": {
            "gridcolor": "white",
            "linecolor": "white",
            "ticks": ""
           }
          },
          "title": {
           "x": 0.05
          },
          "xaxis": {
           "automargin": true,
           "gridcolor": "white",
           "linecolor": "white",
           "ticks": "",
           "title": {
            "standoff": 15
           },
           "zerolinecolor": "white",
           "zerolinewidth": 2
          },
          "yaxis": {
           "automargin": true,
           "gridcolor": "white",
           "linecolor": "white",
           "ticks": "",
           "title": {
            "standoff": 15
           },
           "zerolinecolor": "white",
           "zerolinewidth": 2
          }
         }
        }
       }
      }
     },
     "metadata": {},
     "output_type": "display_data"
    }
   ],
   "source": [
    "# Graficamos el embudo\n",
    "fig = go.Figure(go.Funnel(\n",
    "    y = user_by_event_no_tutorial['event'],\n",
    "    x = user_by_event_no_tutorial['n_users']))\n",
    "\n",
    "fig.show()"
   ]
  },
  {
   "cell_type": "markdown",
   "metadata": {},
   "source": [
    "Como muestra el grafico interactivo: solo un 48% de los clientes realiza el recorrido completo desde la pantalla de inicio hasta la pantalla de compra exitosa. Esto indica que en el camino estamos perdiendo a mas de la mitad de los usuarios.\n",
    "\n",
    "El problema que tenemos de la pantalla de inicio a la pantalla de ofertas de seguro es el mayor culpable. Observaremos si hay algun cambio de conducta entre los grupos experimentales."
   ]
  },
  {
   "cell_type": "markdown",
   "metadata": {},
   "source": [
    "### Conclusiones\n",
    "\n",
    " - Contamos con 5 eventos: tutorial, inicio, ofertas, carrito, pago\n",
    " - La secuencia es la anterior, descontando el tutorial que es opcional\n",
    " - La mayor perdida de usuarios se da entre la pantalla de inidio y las ofertas"
   ]
  },
  {
   "cell_type": "markdown",
   "metadata": {},
   "source": [
    "## Estudiar los resultados del experimento"
   ]
  },
  {
   "cell_type": "markdown",
   "metadata": {},
   "source": [
    "### Usuarios por grupo"
   ]
  },
  {
   "cell_type": "code",
   "execution_count": 38,
   "metadata": {},
   "outputs": [
    {
     "data": {
      "text/html": [
       "<div>\n",
       "<style scoped>\n",
       "    .dataframe tbody tr th:only-of-type {\n",
       "        vertical-align: middle;\n",
       "    }\n",
       "\n",
       "    .dataframe tbody tr th {\n",
       "        vertical-align: top;\n",
       "    }\n",
       "\n",
       "    .dataframe thead th {\n",
       "        text-align: right;\n",
       "    }\n",
       "</style>\n",
       "<table border=\"1\" class=\"dataframe\">\n",
       "  <thead>\n",
       "    <tr style=\"text-align: right;\">\n",
       "      <th></th>\n",
       "      <th>exp</th>\n",
       "      <th>n_users</th>\n",
       "    </tr>\n",
       "  </thead>\n",
       "  <tbody>\n",
       "    <tr>\n",
       "      <th>0</th>\n",
       "      <td>246</td>\n",
       "      <td>2484</td>\n",
       "    </tr>\n",
       "    <tr>\n",
       "      <th>1</th>\n",
       "      <td>247</td>\n",
       "      <td>2513</td>\n",
       "    </tr>\n",
       "    <tr>\n",
       "      <th>2</th>\n",
       "      <td>248</td>\n",
       "      <td>2537</td>\n",
       "    </tr>\n",
       "  </tbody>\n",
       "</table>\n",
       "</div>"
      ],
      "text/plain": [
       "   exp  n_users\n",
       "0  246     2484\n",
       "1  247     2513\n",
       "2  248     2537"
      ]
     },
     "execution_count": 38,
     "metadata": {},
     "output_type": "execute_result"
    }
   ],
   "source": [
    "# Mostramos la tabla\n",
    "users_by_exp"
   ]
  },
  {
   "cell_type": "markdown",
   "metadata": {},
   "source": [
    "Tenemos alrededor de 2500 usuarios por grupo."
   ]
  },
  {
   "cell_type": "markdown",
   "metadata": {},
   "source": [
    "### Diferencias entre grupos control"
   ]
  },
  {
   "cell_type": "code",
   "execution_count": 39,
   "metadata": {},
   "outputs": [
    {
     "data": {
      "text/html": [
       "<div>\n",
       "<style scoped>\n",
       "    .dataframe tbody tr th:only-of-type {\n",
       "        vertical-align: middle;\n",
       "    }\n",
       "\n",
       "    .dataframe tbody tr th {\n",
       "        vertical-align: top;\n",
       "    }\n",
       "\n",
       "    .dataframe thead th {\n",
       "        text-align: right;\n",
       "    }\n",
       "</style>\n",
       "<table border=\"1\" class=\"dataframe\">\n",
       "  <thead>\n",
       "    <tr style=\"text-align: right;\">\n",
       "      <th></th>\n",
       "      <th>name</th>\n",
       "      <th>id</th>\n",
       "      <th>ts</th>\n",
       "      <th>exp</th>\n",
       "      <th>date_time</th>\n",
       "      <th>date</th>\n",
       "    </tr>\n",
       "  </thead>\n",
       "  <tbody>\n",
       "    <tr>\n",
       "      <th>0</th>\n",
       "      <td>Tutorial</td>\n",
       "      <td>3737462046622621720</td>\n",
       "      <td>1564618048</td>\n",
       "      <td>246</td>\n",
       "      <td>2019-08-01 00:07:28</td>\n",
       "      <td>2019-08-01</td>\n",
       "    </tr>\n",
       "    <tr>\n",
       "      <th>1</th>\n",
       "      <td>MainScreenAppear</td>\n",
       "      <td>3737462046622621720</td>\n",
       "      <td>1564618080</td>\n",
       "      <td>246</td>\n",
       "      <td>2019-08-01 00:08:00</td>\n",
       "      <td>2019-08-01</td>\n",
       "    </tr>\n",
       "    <tr>\n",
       "      <th>2</th>\n",
       "      <td>MainScreenAppear</td>\n",
       "      <td>3737462046622621720</td>\n",
       "      <td>1564618135</td>\n",
       "      <td>246</td>\n",
       "      <td>2019-08-01 00:08:55</td>\n",
       "      <td>2019-08-01</td>\n",
       "    </tr>\n",
       "    <tr>\n",
       "      <th>3</th>\n",
       "      <td>OffersScreenAppear</td>\n",
       "      <td>3737462046622621720</td>\n",
       "      <td>1564618138</td>\n",
       "      <td>246</td>\n",
       "      <td>2019-08-01 00:08:58</td>\n",
       "      <td>2019-08-01</td>\n",
       "    </tr>\n",
       "    <tr>\n",
       "      <th>6</th>\n",
       "      <td>OffersScreenAppear</td>\n",
       "      <td>3737462046622621720</td>\n",
       "      <td>1564618226</td>\n",
       "      <td>246</td>\n",
       "      <td>2019-08-01 00:10:26</td>\n",
       "      <td>2019-08-01</td>\n",
       "    </tr>\n",
       "  </tbody>\n",
       "</table>\n",
       "</div>"
      ],
      "text/plain": [
       "                 name                   id          ts  exp  \\\n",
       "0            Tutorial  3737462046622621720  1564618048  246   \n",
       "1    MainScreenAppear  3737462046622621720  1564618080  246   \n",
       "2    MainScreenAppear  3737462046622621720  1564618135  246   \n",
       "3  OffersScreenAppear  3737462046622621720  1564618138  246   \n",
       "6  OffersScreenAppear  3737462046622621720  1564618226  246   \n",
       "\n",
       "            date_time        date  \n",
       "0 2019-08-01 00:07:28  2019-08-01  \n",
       "1 2019-08-01 00:08:00  2019-08-01  \n",
       "2 2019-08-01 00:08:55  2019-08-01  \n",
       "3 2019-08-01 00:08:58  2019-08-01  \n",
       "6 2019-08-01 00:10:26  2019-08-01  "
      ]
     },
     "metadata": {},
     "output_type": "display_data"
    },
    {
     "data": {
      "text/html": [
       "<div>\n",
       "<style scoped>\n",
       "    .dataframe tbody tr th:only-of-type {\n",
       "        vertical-align: middle;\n",
       "    }\n",
       "\n",
       "    .dataframe tbody tr th {\n",
       "        vertical-align: top;\n",
       "    }\n",
       "\n",
       "    .dataframe thead th {\n",
       "        text-align: right;\n",
       "    }\n",
       "</style>\n",
       "<table border=\"1\" class=\"dataframe\">\n",
       "  <thead>\n",
       "    <tr style=\"text-align: right;\">\n",
       "      <th></th>\n",
       "      <th>name</th>\n",
       "      <th>id</th>\n",
       "      <th>ts</th>\n",
       "      <th>exp</th>\n",
       "      <th>date_time</th>\n",
       "      <th>date</th>\n",
       "    </tr>\n",
       "  </thead>\n",
       "  <tbody>\n",
       "    <tr>\n",
       "      <th>4</th>\n",
       "      <td>MainScreenAppear</td>\n",
       "      <td>1433840883824088890</td>\n",
       "      <td>1564618139</td>\n",
       "      <td>247</td>\n",
       "      <td>2019-08-01 00:08:59</td>\n",
       "      <td>2019-08-01</td>\n",
       "    </tr>\n",
       "    <tr>\n",
       "      <th>5</th>\n",
       "      <td>MainScreenAppear</td>\n",
       "      <td>4899590676214355127</td>\n",
       "      <td>1564618215</td>\n",
       "      <td>247</td>\n",
       "      <td>2019-08-01 00:10:15</td>\n",
       "      <td>2019-08-01</td>\n",
       "    </tr>\n",
       "    <tr>\n",
       "      <th>10</th>\n",
       "      <td>MainScreenAppear</td>\n",
       "      <td>4899590676214355127</td>\n",
       "      <td>1564618288</td>\n",
       "      <td>247</td>\n",
       "      <td>2019-08-01 00:11:28</td>\n",
       "      <td>2019-08-01</td>\n",
       "    </tr>\n",
       "    <tr>\n",
       "      <th>11</th>\n",
       "      <td>OffersScreenAppear</td>\n",
       "      <td>4899590676214355127</td>\n",
       "      <td>1564618290</td>\n",
       "      <td>247</td>\n",
       "      <td>2019-08-01 00:11:30</td>\n",
       "      <td>2019-08-01</td>\n",
       "    </tr>\n",
       "    <tr>\n",
       "      <th>15</th>\n",
       "      <td>OffersScreenAppear</td>\n",
       "      <td>4899590676214355127</td>\n",
       "      <td>1564618356</td>\n",
       "      <td>247</td>\n",
       "      <td>2019-08-01 00:12:36</td>\n",
       "      <td>2019-08-01</td>\n",
       "    </tr>\n",
       "  </tbody>\n",
       "</table>\n",
       "</div>"
      ],
      "text/plain": [
       "                  name                   id          ts  exp  \\\n",
       "4     MainScreenAppear  1433840883824088890  1564618139  247   \n",
       "5     MainScreenAppear  4899590676214355127  1564618215  247   \n",
       "10    MainScreenAppear  4899590676214355127  1564618288  247   \n",
       "11  OffersScreenAppear  4899590676214355127  1564618290  247   \n",
       "15  OffersScreenAppear  4899590676214355127  1564618356  247   \n",
       "\n",
       "             date_time        date  \n",
       "4  2019-08-01 00:08:59  2019-08-01  \n",
       "5  2019-08-01 00:10:15  2019-08-01  \n",
       "10 2019-08-01 00:11:28  2019-08-01  \n",
       "11 2019-08-01 00:11:30  2019-08-01  \n",
       "15 2019-08-01 00:12:36  2019-08-01  "
      ]
     },
     "metadata": {},
     "output_type": "display_data"
    }
   ],
   "source": [
    "# Agrupamos a cada grupo de control\n",
    "exp_246 = logs_aug[logs_aug['exp'] == 246]\n",
    "exp_247 = logs_aug[logs_aug['exp'] == 247]\n",
    "\n",
    "display(exp_246.head())\n",
    "display(exp_247.head())"
   ]
  },
  {
   "cell_type": "code",
   "execution_count": 40,
   "metadata": {},
   "outputs": [
    {
     "data": {
      "text/html": [
       "<div>\n",
       "<style scoped>\n",
       "    .dataframe tbody tr th:only-of-type {\n",
       "        vertical-align: middle;\n",
       "    }\n",
       "\n",
       "    .dataframe tbody tr th {\n",
       "        vertical-align: top;\n",
       "    }\n",
       "\n",
       "    .dataframe thead th {\n",
       "        text-align: right;\n",
       "    }\n",
       "</style>\n",
       "<table border=\"1\" class=\"dataframe\">\n",
       "  <thead>\n",
       "    <tr style=\"text-align: right;\">\n",
       "      <th></th>\n",
       "      <th>name</th>\n",
       "      <th>id</th>\n",
       "      <th>ts</th>\n",
       "      <th>exp</th>\n",
       "      <th>date_time</th>\n",
       "      <th>date</th>\n",
       "    </tr>\n",
       "  </thead>\n",
       "  <tbody>\n",
       "    <tr>\n",
       "      <th>0</th>\n",
       "      <td>Tutorial</td>\n",
       "      <td>3737462046622621720</td>\n",
       "      <td>1564618048</td>\n",
       "      <td>246</td>\n",
       "      <td>2019-08-01 00:07:28</td>\n",
       "      <td>2019-08-01</td>\n",
       "    </tr>\n",
       "    <tr>\n",
       "      <th>1</th>\n",
       "      <td>MainScreenAppear</td>\n",
       "      <td>3737462046622621720</td>\n",
       "      <td>1564618080</td>\n",
       "      <td>246</td>\n",
       "      <td>2019-08-01 00:08:00</td>\n",
       "      <td>2019-08-01</td>\n",
       "    </tr>\n",
       "    <tr>\n",
       "      <th>2</th>\n",
       "      <td>MainScreenAppear</td>\n",
       "      <td>3737462046622621720</td>\n",
       "      <td>1564618135</td>\n",
       "      <td>246</td>\n",
       "      <td>2019-08-01 00:08:55</td>\n",
       "      <td>2019-08-01</td>\n",
       "    </tr>\n",
       "    <tr>\n",
       "      <th>3</th>\n",
       "      <td>OffersScreenAppear</td>\n",
       "      <td>3737462046622621720</td>\n",
       "      <td>1564618138</td>\n",
       "      <td>246</td>\n",
       "      <td>2019-08-01 00:08:58</td>\n",
       "      <td>2019-08-01</td>\n",
       "    </tr>\n",
       "    <tr>\n",
       "      <th>6</th>\n",
       "      <td>OffersScreenAppear</td>\n",
       "      <td>3737462046622621720</td>\n",
       "      <td>1564618226</td>\n",
       "      <td>246</td>\n",
       "      <td>2019-08-01 00:10:26</td>\n",
       "      <td>2019-08-01</td>\n",
       "    </tr>\n",
       "  </tbody>\n",
       "</table>\n",
       "</div>"
      ],
      "text/plain": [
       "                 name                   id          ts  exp  \\\n",
       "0            Tutorial  3737462046622621720  1564618048  246   \n",
       "1    MainScreenAppear  3737462046622621720  1564618080  246   \n",
       "2    MainScreenAppear  3737462046622621720  1564618135  246   \n",
       "3  OffersScreenAppear  3737462046622621720  1564618138  246   \n",
       "6  OffersScreenAppear  3737462046622621720  1564618226  246   \n",
       "\n",
       "            date_time        date  \n",
       "0 2019-08-01 00:07:28  2019-08-01  \n",
       "1 2019-08-01 00:08:00  2019-08-01  \n",
       "2 2019-08-01 00:08:55  2019-08-01  \n",
       "3 2019-08-01 00:08:58  2019-08-01  \n",
       "6 2019-08-01 00:10:26  2019-08-01  "
      ]
     },
     "execution_count": 40,
     "metadata": {},
     "output_type": "execute_result"
    }
   ],
   "source": [
    "# Agrupamos a ambos grupos de control\n",
    "exp_a = pd.concat([exp_246, exp_247])\n",
    "exp_a.head()"
   ]
  },
  {
   "cell_type": "code",
   "execution_count": 41,
   "metadata": {},
   "outputs": [
    {
     "name": "stderr",
     "output_type": "stream",
     "text": [
      "C:\\Users\\ayrto\\AppData\\Local\\Temp\\ipykernel_9716\\3322483640.py:4: FutureWarning:\n",
      "\n",
      "The default of observed=False is deprecated and will be changed to True in a future version of pandas. Pass observed=False to retain current behavior or observed=True to adopt the future default and silence this warning.\n",
      "\n"
     ]
    },
    {
     "data": {
      "text/html": [
       "<div>\n",
       "<style scoped>\n",
       "    .dataframe tbody tr th:only-of-type {\n",
       "        vertical-align: middle;\n",
       "    }\n",
       "\n",
       "    .dataframe tbody tr th {\n",
       "        vertical-align: top;\n",
       "    }\n",
       "\n",
       "    .dataframe thead th {\n",
       "        text-align: right;\n",
       "    }\n",
       "</style>\n",
       "<table border=\"1\" class=\"dataframe\">\n",
       "  <thead>\n",
       "    <tr style=\"text-align: right;\">\n",
       "      <th></th>\n",
       "      <th>n_users</th>\n",
       "    </tr>\n",
       "    <tr>\n",
       "      <th>name</th>\n",
       "      <th></th>\n",
       "    </tr>\n",
       "  </thead>\n",
       "  <tbody>\n",
       "    <tr>\n",
       "      <th>MainScreenAppear</th>\n",
       "      <td>2450</td>\n",
       "    </tr>\n",
       "    <tr>\n",
       "      <th>OffersScreenAppear</th>\n",
       "      <td>1542</td>\n",
       "    </tr>\n",
       "    <tr>\n",
       "      <th>CartScreenAppear</th>\n",
       "      <td>1266</td>\n",
       "    </tr>\n",
       "    <tr>\n",
       "      <th>PaymentScreenSuccessful</th>\n",
       "      <td>1200</td>\n",
       "    </tr>\n",
       "    <tr>\n",
       "      <th>Tutorial</th>\n",
       "      <td>278</td>\n",
       "    </tr>\n",
       "  </tbody>\n",
       "</table>\n",
       "</div>"
      ],
      "text/plain": [
       "                         n_users\n",
       "name                            \n",
       "MainScreenAppear            2450\n",
       "OffersScreenAppear          1542\n",
       "CartScreenAppear            1266\n",
       "PaymentScreenSuccessful     1200\n",
       "Tutorial                     278"
      ]
     },
     "metadata": {},
     "output_type": "display_data"
    },
    {
     "name": "stdout",
     "output_type": "stream",
     "text": [
      "Proporcion de usarios exp.246 (P1):  0.4897959183673469\n"
     ]
    }
   ],
   "source": [
    "# Calculamos la proporcion de usuarios\n",
    "# que terminan el recorrido completo\n",
    "# para el grupo 246\n",
    "users_by_event_246 = (exp_246.groupby(by='name')\n",
    "                      .agg({'id': 'nunique'})\n",
    "                      .sort_values(by='id', ascending=False))\n",
    "users_by_event_246.columns = ['n_users']\n",
    "display(users_by_event_246)\n",
    "\n",
    "p1 = (users_by_event_246\n",
    "      .loc['PaymentScreenSuccessful', 'n_users'] /\n",
    "      users_by_event_246\n",
    "      .loc['MainScreenAppear', 'n_users'])\n",
    "print('Proporcion de usarios exp.246 (P1): ', p1)"
   ]
  },
  {
   "cell_type": "code",
   "execution_count": 42,
   "metadata": {},
   "outputs": [
    {
     "name": "stderr",
     "output_type": "stream",
     "text": [
      "C:\\Users\\ayrto\\AppData\\Local\\Temp\\ipykernel_9716\\2828967531.py:4: FutureWarning:\n",
      "\n",
      "The default of observed=False is deprecated and will be changed to True in a future version of pandas. Pass observed=False to retain current behavior or observed=True to adopt the future default and silence this warning.\n",
      "\n"
     ]
    },
    {
     "data": {
      "text/html": [
       "<div>\n",
       "<style scoped>\n",
       "    .dataframe tbody tr th:only-of-type {\n",
       "        vertical-align: middle;\n",
       "    }\n",
       "\n",
       "    .dataframe tbody tr th {\n",
       "        vertical-align: top;\n",
       "    }\n",
       "\n",
       "    .dataframe thead th {\n",
       "        text-align: right;\n",
       "    }\n",
       "</style>\n",
       "<table border=\"1\" class=\"dataframe\">\n",
       "  <thead>\n",
       "    <tr style=\"text-align: right;\">\n",
       "      <th></th>\n",
       "      <th>n_users</th>\n",
       "    </tr>\n",
       "    <tr>\n",
       "      <th>name</th>\n",
       "      <th></th>\n",
       "    </tr>\n",
       "  </thead>\n",
       "  <tbody>\n",
       "    <tr>\n",
       "      <th>MainScreenAppear</th>\n",
       "      <td>2476</td>\n",
       "    </tr>\n",
       "    <tr>\n",
       "      <th>OffersScreenAppear</th>\n",
       "      <td>1520</td>\n",
       "    </tr>\n",
       "    <tr>\n",
       "      <th>CartScreenAppear</th>\n",
       "      <td>1238</td>\n",
       "    </tr>\n",
       "    <tr>\n",
       "      <th>PaymentScreenSuccessful</th>\n",
       "      <td>1158</td>\n",
       "    </tr>\n",
       "    <tr>\n",
       "      <th>Tutorial</th>\n",
       "      <td>283</td>\n",
       "    </tr>\n",
       "  </tbody>\n",
       "</table>\n",
       "</div>"
      ],
      "text/plain": [
       "                         n_users\n",
       "name                            \n",
       "MainScreenAppear            2476\n",
       "OffersScreenAppear          1520\n",
       "CartScreenAppear            1238\n",
       "PaymentScreenSuccessful     1158\n",
       "Tutorial                     283"
      ]
     },
     "metadata": {},
     "output_type": "display_data"
    },
    {
     "name": "stdout",
     "output_type": "stream",
     "text": [
      "Proporcion de usarios exp.247 (P2):  0.4676898222940226\n"
     ]
    }
   ],
   "source": [
    "# Calculamos la proporcion de usuarios\n",
    "# que terminan el recorrido completo\n",
    "# para el grupo 247\n",
    "users_by_event_247 = (exp_247.groupby(by='name')\n",
    "                      .agg({'id': 'nunique'})\n",
    "                      .sort_values(by='id', ascending=False))\n",
    "users_by_event_247.columns = ['n_users']\n",
    "display(users_by_event_247)\n",
    "\n",
    "p2 = (users_by_event_247\n",
    "      .loc['PaymentScreenSuccessful', 'n_users'] /\n",
    "      users_by_event_247\n",
    "      .loc['MainScreenAppear', 'n_users'])\n",
    "print('Proporcion de usarios exp.247 (P2): ', p2)"
   ]
  },
  {
   "cell_type": "code",
   "execution_count": 43,
   "metadata": {},
   "outputs": [
    {
     "name": "stderr",
     "output_type": "stream",
     "text": [
      "C:\\Users\\ayrto\\AppData\\Local\\Temp\\ipykernel_9716\\4070742918.py:4: FutureWarning:\n",
      "\n",
      "The default of observed=False is deprecated and will be changed to True in a future version of pandas. Pass observed=False to retain current behavior or observed=True to adopt the future default and silence this warning.\n",
      "\n"
     ]
    },
    {
     "data": {
      "text/html": [
       "<div>\n",
       "<style scoped>\n",
       "    .dataframe tbody tr th:only-of-type {\n",
       "        vertical-align: middle;\n",
       "    }\n",
       "\n",
       "    .dataframe tbody tr th {\n",
       "        vertical-align: top;\n",
       "    }\n",
       "\n",
       "    .dataframe thead th {\n",
       "        text-align: right;\n",
       "    }\n",
       "</style>\n",
       "<table border=\"1\" class=\"dataframe\">\n",
       "  <thead>\n",
       "    <tr style=\"text-align: right;\">\n",
       "      <th></th>\n",
       "      <th>n_users</th>\n",
       "    </tr>\n",
       "    <tr>\n",
       "      <th>name</th>\n",
       "      <th></th>\n",
       "    </tr>\n",
       "  </thead>\n",
       "  <tbody>\n",
       "    <tr>\n",
       "      <th>MainScreenAppear</th>\n",
       "      <td>4926</td>\n",
       "    </tr>\n",
       "    <tr>\n",
       "      <th>OffersScreenAppear</th>\n",
       "      <td>3062</td>\n",
       "    </tr>\n",
       "    <tr>\n",
       "      <th>CartScreenAppear</th>\n",
       "      <td>2504</td>\n",
       "    </tr>\n",
       "    <tr>\n",
       "      <th>PaymentScreenSuccessful</th>\n",
       "      <td>2358</td>\n",
       "    </tr>\n",
       "    <tr>\n",
       "      <th>Tutorial</th>\n",
       "      <td>561</td>\n",
       "    </tr>\n",
       "  </tbody>\n",
       "</table>\n",
       "</div>"
      ],
      "text/plain": [
       "                         n_users\n",
       "name                            \n",
       "MainScreenAppear            4926\n",
       "OffersScreenAppear          3062\n",
       "CartScreenAppear            2504\n",
       "PaymentScreenSuccessful     2358\n",
       "Tutorial                     561"
      ]
     },
     "metadata": {},
     "output_type": "display_data"
    },
    {
     "name": "stdout",
     "output_type": "stream",
     "text": [
      "Proporcion de usarios grupo A (P):  0.47868453105968334\n"
     ]
    }
   ],
   "source": [
    "# Calculamos la proporcion de usuarios\n",
    "# que terminan el recorrido completo\n",
    "# para todo el grupo A\n",
    "users_by_event_a = (exp_a.groupby(by='name')\n",
    "                    .agg({'id': 'nunique'})\n",
    "                    .sort_values(by='id', ascending=False))\n",
    "users_by_event_a.columns = ['n_users']\n",
    "display(users_by_event_a)\n",
    "\n",
    "p = (users_by_event_a\n",
    "      .loc['PaymentScreenSuccessful', 'n_users'] /\n",
    "      users_by_event_a\n",
    "      .loc['MainScreenAppear', 'n_users'])\n",
    "print('Proporcion de usarios grupo A (P): ', p)"
   ]
  },
  {
   "cell_type": "code",
   "execution_count": 44,
   "metadata": {},
   "outputs": [
    {
     "name": "stdout",
     "output_type": "stream",
     "text": [
      "Valor del estadistico para proporciones (Z):  1.5529168745114943\n"
     ]
    }
   ],
   "source": [
    "# Definimos nuestro estadistico para proporciones\n",
    "# Asumimos que las proporciones poblacionales son iguales\n",
    "n1 = (users_by_event_246\n",
    "      .loc['MainScreenAppear', 'n_users'])\n",
    "n2 = (users_by_event_247\n",
    "      .loc['MainScreenAppear', 'n_users'])\n",
    "        \n",
    "z = (p1 - p2) / mth.sqrt(p * (1 - p) * (1/n1 + 1/n2))\n",
    "\n",
    "print('Valor del estadistico para proporciones (Z): ', z)"
   ]
  },
  {
   "cell_type": "code",
   "execution_count": 45,
   "metadata": {},
   "outputs": [
    {
     "name": "stdout",
     "output_type": "stream",
     "text": [
      "El p-value es:  0.12044299485641763\n"
     ]
    }
   ],
   "source": [
    "# Calculamos el p-value\n",
    "norm_distr = st.norm(0, 1)\n",
    "p_value = (1 - norm_distr.cdf(abs(z))) * 2\n",
    "\n",
    "print('El p-value es: ', p_value)"
   ]
  },
  {
   "cell_type": "markdown",
   "metadata": {},
   "source": [
    "Segun el analisis hecho, obtenemos los siguientes resultados:\n",
    " - El 49% de los usuarios en el grupo 246 termina el recorrido\n",
    " - El 47% de los usuarios en el grupo 247 termina el recorrido\n",
    " - El 48% de los usuarios en el grupo A (246 y 247 juntos) termia el recorrido\n",
    " - Existe un 12% de probabilidad de que exista esta diferencia en proporciones\n",
    " \n",
    "Dado que la probabilidad de exista este 2% de diferencia entre las proporciones de las muestras es alta (superior a un alpha de 5% e incluso un alpha de 10%), podemos concluir que las proporciones de ambas muestras son iguales (no podemos rechazar la hipotesis nula de que ambas muestras poseen la misma proporcion)."
   ]
  },
  {
   "cell_type": "markdown",
   "metadata": {},
   "source": [
    "### Diferencias en las proporciones en cada evento"
   ]
  },
  {
   "cell_type": "code",
   "execution_count": 46,
   "metadata": {},
   "outputs": [
    {
     "data": {
      "text/plain": [
       "name\n",
       "MainScreenAppear           76831\n",
       "OffersScreenAppear         29955\n",
       "CartScreenAppear           27167\n",
       "PaymentScreenSuccessful    21953\n",
       "Tutorial                     666\n",
       "Name: count, dtype: int64"
      ]
     },
     "metadata": {},
     "output_type": "display_data"
    },
    {
     "name": "stdout",
     "output_type": "stream",
     "text": [
      "Evento mas popular:  OffersScreenAppear\n"
     ]
    }
   ],
   "source": [
    "# Encontramos el evento mas popular entre los grupos de control\n",
    "display(exp_a['name'].value_counts())\n",
    "\n",
    "# Excluimos la pantalla de inicio\n",
    "pop_event = exp_a['name'].value_counts().index[1]\n",
    "\n",
    "print('Evento mas popular: ', pop_event)"
   ]
  },
  {
   "cell_type": "code",
   "execution_count": 47,
   "metadata": {},
   "outputs": [],
   "source": [
    "# Definimos una funcion\n",
    "# Determinamos la significancia estadistica\n",
    "# Entre las proporciones de cada muestra\n",
    "def stat_significance_proportions(samp_a, samp_b):\n",
    "    succ_a = samp_a[0]    #cantidad de usuarios que realizan la accion en la muestra A\n",
    "    tot_a = samp_a[1]     #usuarios totales de la muestra A\n",
    "    succ_b = samp_b[0]    #cantidad de usuarios que realizan la accion en la muestra B\n",
    "    tot_b = samp_b[1]     #usuarios totales de la muestra B\n",
    "    \n",
    "    p_a = succ_a / tot_a  #proporcion de usuarios que realiza la accion en la muestra A\n",
    "    p_b = succ_b / tot_b  #proporcion de usuarios que realiza la accion en la muestra B\n",
    "    p_comb = ((succ_a + succ_b) / \n",
    "              (tot_a + tot_b)) #proporcion  total de usuarios que realiza la accion \n",
    "    \n",
    "    z = ((p_a - p_b) / \n",
    "         mth.sqrt(p_comb * (1 - p_comb) * (1/tot_a + 1/tot_b))) #estadistico\n",
    "    \n",
    "    norm_distr = st.norm(0, 1)\n",
    "    p_value = (1 - norm_distr.cdf(abs(z))) * 2 #p_value\n",
    "    \n",
    "    return (z, p_value)\n",
    "    \n",
    "    "
   ]
  },
  {
   "cell_type": "code",
   "execution_count": 48,
   "metadata": {},
   "outputs": [
    {
     "name": "stdout",
     "output_type": "stream",
     "text": [
      "[1542, 2450]\n",
      "[1520, 2476]\n"
     ]
    }
   ],
   "source": [
    "# Preparamos las muestras\n",
    "samp_246 = [users_by_event_246\n",
    "            .loc[pop_event, 'n_users'],\n",
    "           users_by_event_246\n",
    "            .loc['MainScreenAppear', 'n_users']]\n",
    "samp_247 = [users_by_event_247\n",
    "            .loc[pop_event, 'n_users'],\n",
    "           users_by_event_247\n",
    "            .loc['MainScreenAppear', 'n_users']]\n",
    "\n",
    "print(samp_246)\n",
    "print(samp_247)"
   ]
  },
  {
   "cell_type": "code",
   "execution_count": 49,
   "metadata": {},
   "outputs": [
    {
     "name": "stdout",
     "output_type": "stream",
     "text": [
      "El valor del estadistico es:  1.1211253819992044\n",
      "p_value:  0.2622344959255778\n"
     ]
    }
   ],
   "source": [
    "# Llamamos a la funcion\n",
    "res_offers = stat_significance_proportions(samp_246, samp_247)\n",
    "\n",
    "print('El valor del estadistico es: ', res_offers[0])\n",
    "print('p_value: ', res_offers[1])"
   ]
  },
  {
   "cell_type": "markdown",
   "metadata": {},
   "source": [
    "Vemos que segun el analisis realizado, existe un 26% de probabilidad de obtener la diferencia observada entre las muestras para la proporcion de usuarios que llega a la pantalla de ofertas; nada fuera de lo comun."
   ]
  },
  {
   "cell_type": "code",
   "execution_count": 50,
   "metadata": {},
   "outputs": [
    {
     "name": "stdout",
     "output_type": "stream",
     "text": [
      "[1266, 2450]\n",
      "[1238, 2476]\n"
     ]
    }
   ],
   "source": [
    "# Se repite el proceso para la pantalla del carrito\n",
    "samp_246 = [users_by_event_246\n",
    "            .loc['CartScreenAppear', 'n_users'],\n",
    "           users_by_event_246\n",
    "            .loc['MainScreenAppear', 'n_users']]\n",
    "samp_247 = [users_by_event_247\n",
    "            .loc['CartScreenAppear', 'n_users'],\n",
    "           users_by_event_247\n",
    "            .loc['MainScreenAppear', 'n_users']]\n",
    "\n",
    "print(samp_246)\n",
    "print(samp_247)"
   ]
  },
  {
   "cell_type": "code",
   "execution_count": 51,
   "metadata": {},
   "outputs": [
    {
     "name": "stdout",
     "output_type": "stream",
     "text": [
      "El valor del estadistico es:  1.1746787347900784\n",
      "p_value:  0.24012327015939383\n"
     ]
    }
   ],
   "source": [
    "# Llamamos a la funcion\n",
    "res_cart = stat_significance_proportions(samp_246, samp_247)\n",
    "\n",
    "print('El valor del estadistico es: ', res_cart[0])\n",
    "print('p_value: ', res_cart[1])"
   ]
  },
  {
   "cell_type": "markdown",
   "metadata": {},
   "source": [
    "Segun el analisis realizado, existe un 24% de probabilidad de obtener la diferencia observada entre las muestras para la proporcion de usuarios que llega a la pantalla del carrito; bastante ordinario."
   ]
  },
  {
   "cell_type": "code",
   "execution_count": 52,
   "metadata": {},
   "outputs": [
    {
     "name": "stdout",
     "output_type": "stream",
     "text": [
      "[278, 2450]\n",
      "[283, 2476]\n"
     ]
    }
   ],
   "source": [
    "# Se repite el proceso para el tutorial\n",
    "samp_246 = [users_by_event_246\n",
    "            .loc['Tutorial', 'n_users'],\n",
    "           users_by_event_246\n",
    "            .loc['MainScreenAppear', 'n_users']]\n",
    "samp_247 = [users_by_event_247\n",
    "            .loc['Tutorial', 'n_users'],\n",
    "           users_by_event_247\n",
    "            .loc['MainScreenAppear', 'n_users']]\n",
    "\n",
    "print(samp_246)\n",
    "print(samp_247)"
   ]
  },
  {
   "cell_type": "code",
   "execution_count": 53,
   "metadata": {},
   "outputs": [
    {
     "name": "stdout",
     "output_type": "stream",
     "text": [
      "El valor del estadistico es:  -0.0914517446661978\n",
      "p_value:  0.927133647669905\n"
     ]
    }
   ],
   "source": [
    "# Llamamos a la funcion\n",
    "res_tut = stat_significance_proportions(samp_246, samp_247)\n",
    "\n",
    "print('El valor del estadistico es: ', res_tut[0])\n",
    "print('p_value: ', res_tut[1])"
   ]
  },
  {
   "cell_type": "markdown",
   "metadata": {},
   "source": [
    "Incluso para el tutorial, el cual es opcional, vemos que las proporciones son consistentes entre sí (93% de probabilidad de obtener la diferencia en proporcions observada.\n",
    "\n",
    "Podemos concluir que la prueba A/A ha sido exitosa y que los grupos de control fueron divididos exitosamente: ambos grupos son equivalentes."
   ]
  },
  {
   "cell_type": "markdown",
   "metadata": {},
   "source": [
    "### Diferencias en proporciones para el grupo de testeo"
   ]
  },
  {
   "cell_type": "code",
   "execution_count": 54,
   "metadata": {},
   "outputs": [
    {
     "data": {
      "text/html": [
       "<div>\n",
       "<style scoped>\n",
       "    .dataframe tbody tr th:only-of-type {\n",
       "        vertical-align: middle;\n",
       "    }\n",
       "\n",
       "    .dataframe tbody tr th {\n",
       "        vertical-align: top;\n",
       "    }\n",
       "\n",
       "    .dataframe thead th {\n",
       "        text-align: right;\n",
       "    }\n",
       "</style>\n",
       "<table border=\"1\" class=\"dataframe\">\n",
       "  <thead>\n",
       "    <tr style=\"text-align: right;\">\n",
       "      <th></th>\n",
       "      <th>name</th>\n",
       "      <th>id</th>\n",
       "      <th>ts</th>\n",
       "      <th>exp</th>\n",
       "      <th>date_time</th>\n",
       "      <th>date</th>\n",
       "    </tr>\n",
       "  </thead>\n",
       "  <tbody>\n",
       "    <tr>\n",
       "      <th>16</th>\n",
       "      <td>MainScreenAppear</td>\n",
       "      <td>4613461174774205834</td>\n",
       "      <td>1564618471</td>\n",
       "      <td>248</td>\n",
       "      <td>2019-08-01 00:14:31</td>\n",
       "      <td>2019-08-01</td>\n",
       "    </tr>\n",
       "    <tr>\n",
       "      <th>17</th>\n",
       "      <td>MainScreenAppear</td>\n",
       "      <td>4613461174774205834</td>\n",
       "      <td>1564618474</td>\n",
       "      <td>248</td>\n",
       "      <td>2019-08-01 00:14:34</td>\n",
       "      <td>2019-08-01</td>\n",
       "    </tr>\n",
       "    <tr>\n",
       "      <th>18</th>\n",
       "      <td>CartScreenAppear</td>\n",
       "      <td>4613461174774205834</td>\n",
       "      <td>1564618474</td>\n",
       "      <td>248</td>\n",
       "      <td>2019-08-01 00:14:34</td>\n",
       "      <td>2019-08-01</td>\n",
       "    </tr>\n",
       "    <tr>\n",
       "      <th>19</th>\n",
       "      <td>PaymentScreenSuccessful</td>\n",
       "      <td>4613461174774205834</td>\n",
       "      <td>1564618483</td>\n",
       "      <td>248</td>\n",
       "      <td>2019-08-01 00:14:43</td>\n",
       "      <td>2019-08-01</td>\n",
       "    </tr>\n",
       "    <tr>\n",
       "      <th>20</th>\n",
       "      <td>OffersScreenAppear</td>\n",
       "      <td>4613461174774205834</td>\n",
       "      <td>1564618491</td>\n",
       "      <td>248</td>\n",
       "      <td>2019-08-01 00:14:51</td>\n",
       "      <td>2019-08-01</td>\n",
       "    </tr>\n",
       "  </tbody>\n",
       "</table>\n",
       "</div>"
      ],
      "text/plain": [
       "                       name                   id          ts  exp  \\\n",
       "16         MainScreenAppear  4613461174774205834  1564618471  248   \n",
       "17         MainScreenAppear  4613461174774205834  1564618474  248   \n",
       "18         CartScreenAppear  4613461174774205834  1564618474  248   \n",
       "19  PaymentScreenSuccessful  4613461174774205834  1564618483  248   \n",
       "20       OffersScreenAppear  4613461174774205834  1564618491  248   \n",
       "\n",
       "             date_time        date  \n",
       "16 2019-08-01 00:14:31  2019-08-01  \n",
       "17 2019-08-01 00:14:34  2019-08-01  \n",
       "18 2019-08-01 00:14:34  2019-08-01  \n",
       "19 2019-08-01 00:14:43  2019-08-01  \n",
       "20 2019-08-01 00:14:51  2019-08-01  "
      ]
     },
     "execution_count": 54,
     "metadata": {},
     "output_type": "execute_result"
    }
   ],
   "source": [
    "# Agrupamos al grupo de testeo\n",
    "exp_248 = logs_aug[logs_aug['exp'] == 248]\n",
    "exp_248.head()"
   ]
  },
  {
   "cell_type": "code",
   "execution_count": 55,
   "metadata": {},
   "outputs": [
    {
     "name": "stderr",
     "output_type": "stream",
     "text": [
      "C:\\Users\\ayrto\\AppData\\Local\\Temp\\ipykernel_9716\\3744539692.py:2: FutureWarning:\n",
      "\n",
      "The default of observed=False is deprecated and will be changed to True in a future version of pandas. Pass observed=False to retain current behavior or observed=True to adopt the future default and silence this warning.\n",
      "\n"
     ]
    },
    {
     "data": {
      "text/html": [
       "<div>\n",
       "<style scoped>\n",
       "    .dataframe tbody tr th:only-of-type {\n",
       "        vertical-align: middle;\n",
       "    }\n",
       "\n",
       "    .dataframe tbody tr th {\n",
       "        vertical-align: top;\n",
       "    }\n",
       "\n",
       "    .dataframe thead th {\n",
       "        text-align: right;\n",
       "    }\n",
       "</style>\n",
       "<table border=\"1\" class=\"dataframe\">\n",
       "  <thead>\n",
       "    <tr style=\"text-align: right;\">\n",
       "      <th></th>\n",
       "      <th>n_users</th>\n",
       "    </tr>\n",
       "    <tr>\n",
       "      <th>name</th>\n",
       "      <th></th>\n",
       "    </tr>\n",
       "  </thead>\n",
       "  <tbody>\n",
       "    <tr>\n",
       "      <th>MainScreenAppear</th>\n",
       "      <td>2493</td>\n",
       "    </tr>\n",
       "    <tr>\n",
       "      <th>OffersScreenAppear</th>\n",
       "      <td>1531</td>\n",
       "    </tr>\n",
       "    <tr>\n",
       "      <th>CartScreenAppear</th>\n",
       "      <td>1230</td>\n",
       "    </tr>\n",
       "    <tr>\n",
       "      <th>PaymentScreenSuccessful</th>\n",
       "      <td>1181</td>\n",
       "    </tr>\n",
       "    <tr>\n",
       "      <th>Tutorial</th>\n",
       "      <td>279</td>\n",
       "    </tr>\n",
       "  </tbody>\n",
       "</table>\n",
       "</div>"
      ],
      "text/plain": [
       "                         n_users\n",
       "name                            \n",
       "MainScreenAppear            2493\n",
       "OffersScreenAppear          1531\n",
       "CartScreenAppear            1230\n",
       "PaymentScreenSuccessful     1181\n",
       "Tutorial                     279"
      ]
     },
     "execution_count": 55,
     "metadata": {},
     "output_type": "execute_result"
    }
   ],
   "source": [
    "# Agrupamos los usuarios unicos en cada evento\n",
    "users_by_event_248 = (exp_248.groupby(by='name')\n",
    "                      .agg({'id': 'nunique'})\n",
    "                      .sort_values(by='id', ascending=False))\n",
    "users_by_event_248.columns = ['n_users']\n",
    "users_by_event_248"
   ]
  },
  {
   "cell_type": "code",
   "execution_count": 56,
   "metadata": {},
   "outputs": [
    {
     "data": {
      "application/vnd.plotly.v1+json": {
       "config": {
        "plotlyServerURL": "https://plot.ly"
       },
       "data": [
        {
         "type": "funnel",
         "x": [
          2493,
          1531,
          1230,
          1181,
          279
         ],
         "y": [
          "MainScreenAppear",
          "OffersScreenAppear",
          "CartScreenAppear",
          "PaymentScreenSuccessful",
          "Tutorial"
         ]
        }
       ],
       "layout": {
        "template": {
         "data": {
          "bar": [
           {
            "error_x": {
             "color": "#2a3f5f"
            },
            "error_y": {
             "color": "#2a3f5f"
            },
            "marker": {
             "line": {
              "color": "#E5ECF6",
              "width": 0.5
             },
             "pattern": {
              "fillmode": "overlay",
              "size": 10,
              "solidity": 0.2
             }
            },
            "type": "bar"
           }
          ],
          "barpolar": [
           {
            "marker": {
             "line": {
              "color": "#E5ECF6",
              "width": 0.5
             },
             "pattern": {
              "fillmode": "overlay",
              "size": 10,
              "solidity": 0.2
             }
            },
            "type": "barpolar"
           }
          ],
          "carpet": [
           {
            "aaxis": {
             "endlinecolor": "#2a3f5f",
             "gridcolor": "white",
             "linecolor": "white",
             "minorgridcolor": "white",
             "startlinecolor": "#2a3f5f"
            },
            "baxis": {
             "endlinecolor": "#2a3f5f",
             "gridcolor": "white",
             "linecolor": "white",
             "minorgridcolor": "white",
             "startlinecolor": "#2a3f5f"
            },
            "type": "carpet"
           }
          ],
          "choropleth": [
           {
            "colorbar": {
             "outlinewidth": 0,
             "ticks": ""
            },
            "type": "choropleth"
           }
          ],
          "contour": [
           {
            "colorbar": {
             "outlinewidth": 0,
             "ticks": ""
            },
            "colorscale": [
             [
              0,
              "#0d0887"
             ],
             [
              0.1111111111111111,
              "#46039f"
             ],
             [
              0.2222222222222222,
              "#7201a8"
             ],
             [
              0.3333333333333333,
              "#9c179e"
             ],
             [
              0.4444444444444444,
              "#bd3786"
             ],
             [
              0.5555555555555556,
              "#d8576b"
             ],
             [
              0.6666666666666666,
              "#ed7953"
             ],
             [
              0.7777777777777778,
              "#fb9f3a"
             ],
             [
              0.8888888888888888,
              "#fdca26"
             ],
             [
              1,
              "#f0f921"
             ]
            ],
            "type": "contour"
           }
          ],
          "contourcarpet": [
           {
            "colorbar": {
             "outlinewidth": 0,
             "ticks": ""
            },
            "type": "contourcarpet"
           }
          ],
          "heatmap": [
           {
            "colorbar": {
             "outlinewidth": 0,
             "ticks": ""
            },
            "colorscale": [
             [
              0,
              "#0d0887"
             ],
             [
              0.1111111111111111,
              "#46039f"
             ],
             [
              0.2222222222222222,
              "#7201a8"
             ],
             [
              0.3333333333333333,
              "#9c179e"
             ],
             [
              0.4444444444444444,
              "#bd3786"
             ],
             [
              0.5555555555555556,
              "#d8576b"
             ],
             [
              0.6666666666666666,
              "#ed7953"
             ],
             [
              0.7777777777777778,
              "#fb9f3a"
             ],
             [
              0.8888888888888888,
              "#fdca26"
             ],
             [
              1,
              "#f0f921"
             ]
            ],
            "type": "heatmap"
           }
          ],
          "heatmapgl": [
           {
            "colorbar": {
             "outlinewidth": 0,
             "ticks": ""
            },
            "colorscale": [
             [
              0,
              "#0d0887"
             ],
             [
              0.1111111111111111,
              "#46039f"
             ],
             [
              0.2222222222222222,
              "#7201a8"
             ],
             [
              0.3333333333333333,
              "#9c179e"
             ],
             [
              0.4444444444444444,
              "#bd3786"
             ],
             [
              0.5555555555555556,
              "#d8576b"
             ],
             [
              0.6666666666666666,
              "#ed7953"
             ],
             [
              0.7777777777777778,
              "#fb9f3a"
             ],
             [
              0.8888888888888888,
              "#fdca26"
             ],
             [
              1,
              "#f0f921"
             ]
            ],
            "type": "heatmapgl"
           }
          ],
          "histogram": [
           {
            "marker": {
             "pattern": {
              "fillmode": "overlay",
              "size": 10,
              "solidity": 0.2
             }
            },
            "type": "histogram"
           }
          ],
          "histogram2d": [
           {
            "colorbar": {
             "outlinewidth": 0,
             "ticks": ""
            },
            "colorscale": [
             [
              0,
              "#0d0887"
             ],
             [
              0.1111111111111111,
              "#46039f"
             ],
             [
              0.2222222222222222,
              "#7201a8"
             ],
             [
              0.3333333333333333,
              "#9c179e"
             ],
             [
              0.4444444444444444,
              "#bd3786"
             ],
             [
              0.5555555555555556,
              "#d8576b"
             ],
             [
              0.6666666666666666,
              "#ed7953"
             ],
             [
              0.7777777777777778,
              "#fb9f3a"
             ],
             [
              0.8888888888888888,
              "#fdca26"
             ],
             [
              1,
              "#f0f921"
             ]
            ],
            "type": "histogram2d"
           }
          ],
          "histogram2dcontour": [
           {
            "colorbar": {
             "outlinewidth": 0,
             "ticks": ""
            },
            "colorscale": [
             [
              0,
              "#0d0887"
             ],
             [
              0.1111111111111111,
              "#46039f"
             ],
             [
              0.2222222222222222,
              "#7201a8"
             ],
             [
              0.3333333333333333,
              "#9c179e"
             ],
             [
              0.4444444444444444,
              "#bd3786"
             ],
             [
              0.5555555555555556,
              "#d8576b"
             ],
             [
              0.6666666666666666,
              "#ed7953"
             ],
             [
              0.7777777777777778,
              "#fb9f3a"
             ],
             [
              0.8888888888888888,
              "#fdca26"
             ],
             [
              1,
              "#f0f921"
             ]
            ],
            "type": "histogram2dcontour"
           }
          ],
          "mesh3d": [
           {
            "colorbar": {
             "outlinewidth": 0,
             "ticks": ""
            },
            "type": "mesh3d"
           }
          ],
          "parcoords": [
           {
            "line": {
             "colorbar": {
              "outlinewidth": 0,
              "ticks": ""
             }
            },
            "type": "parcoords"
           }
          ],
          "pie": [
           {
            "automargin": true,
            "type": "pie"
           }
          ],
          "scatter": [
           {
            "fillpattern": {
             "fillmode": "overlay",
             "size": 10,
             "solidity": 0.2
            },
            "type": "scatter"
           }
          ],
          "scatter3d": [
           {
            "line": {
             "colorbar": {
              "outlinewidth": 0,
              "ticks": ""
             }
            },
            "marker": {
             "colorbar": {
              "outlinewidth": 0,
              "ticks": ""
             }
            },
            "type": "scatter3d"
           }
          ],
          "scattercarpet": [
           {
            "marker": {
             "colorbar": {
              "outlinewidth": 0,
              "ticks": ""
             }
            },
            "type": "scattercarpet"
           }
          ],
          "scattergeo": [
           {
            "marker": {
             "colorbar": {
              "outlinewidth": 0,
              "ticks": ""
             }
            },
            "type": "scattergeo"
           }
          ],
          "scattergl": [
           {
            "marker": {
             "colorbar": {
              "outlinewidth": 0,
              "ticks": ""
             }
            },
            "type": "scattergl"
           }
          ],
          "scattermapbox": [
           {
            "marker": {
             "colorbar": {
              "outlinewidth": 0,
              "ticks": ""
             }
            },
            "type": "scattermapbox"
           }
          ],
          "scatterpolar": [
           {
            "marker": {
             "colorbar": {
              "outlinewidth": 0,
              "ticks": ""
             }
            },
            "type": "scatterpolar"
           }
          ],
          "scatterpolargl": [
           {
            "marker": {
             "colorbar": {
              "outlinewidth": 0,
              "ticks": ""
             }
            },
            "type": "scatterpolargl"
           }
          ],
          "scatterternary": [
           {
            "marker": {
             "colorbar": {
              "outlinewidth": 0,
              "ticks": ""
             }
            },
            "type": "scatterternary"
           }
          ],
          "surface": [
           {
            "colorbar": {
             "outlinewidth": 0,
             "ticks": ""
            },
            "colorscale": [
             [
              0,
              "#0d0887"
             ],
             [
              0.1111111111111111,
              "#46039f"
             ],
             [
              0.2222222222222222,
              "#7201a8"
             ],
             [
              0.3333333333333333,
              "#9c179e"
             ],
             [
              0.4444444444444444,
              "#bd3786"
             ],
             [
              0.5555555555555556,
              "#d8576b"
             ],
             [
              0.6666666666666666,
              "#ed7953"
             ],
             [
              0.7777777777777778,
              "#fb9f3a"
             ],
             [
              0.8888888888888888,
              "#fdca26"
             ],
             [
              1,
              "#f0f921"
             ]
            ],
            "type": "surface"
           }
          ],
          "table": [
           {
            "cells": {
             "fill": {
              "color": "#EBF0F8"
             },
             "line": {
              "color": "white"
             }
            },
            "header": {
             "fill": {
              "color": "#C8D4E3"
             },
             "line": {
              "color": "white"
             }
            },
            "type": "table"
           }
          ]
         },
         "layout": {
          "annotationdefaults": {
           "arrowcolor": "#2a3f5f",
           "arrowhead": 0,
           "arrowwidth": 1
          },
          "autotypenumbers": "strict",
          "coloraxis": {
           "colorbar": {
            "outlinewidth": 0,
            "ticks": ""
           }
          },
          "colorscale": {
           "diverging": [
            [
             0,
             "#8e0152"
            ],
            [
             0.1,
             "#c51b7d"
            ],
            [
             0.2,
             "#de77ae"
            ],
            [
             0.3,
             "#f1b6da"
            ],
            [
             0.4,
             "#fde0ef"
            ],
            [
             0.5,
             "#f7f7f7"
            ],
            [
             0.6,
             "#e6f5d0"
            ],
            [
             0.7,
             "#b8e186"
            ],
            [
             0.8,
             "#7fbc41"
            ],
            [
             0.9,
             "#4d9221"
            ],
            [
             1,
             "#276419"
            ]
           ],
           "sequential": [
            [
             0,
             "#0d0887"
            ],
            [
             0.1111111111111111,
             "#46039f"
            ],
            [
             0.2222222222222222,
             "#7201a8"
            ],
            [
             0.3333333333333333,
             "#9c179e"
            ],
            [
             0.4444444444444444,
             "#bd3786"
            ],
            [
             0.5555555555555556,
             "#d8576b"
            ],
            [
             0.6666666666666666,
             "#ed7953"
            ],
            [
             0.7777777777777778,
             "#fb9f3a"
            ],
            [
             0.8888888888888888,
             "#fdca26"
            ],
            [
             1,
             "#f0f921"
            ]
           ],
           "sequentialminus": [
            [
             0,
             "#0d0887"
            ],
            [
             0.1111111111111111,
             "#46039f"
            ],
            [
             0.2222222222222222,
             "#7201a8"
            ],
            [
             0.3333333333333333,
             "#9c179e"
            ],
            [
             0.4444444444444444,
             "#bd3786"
            ],
            [
             0.5555555555555556,
             "#d8576b"
            ],
            [
             0.6666666666666666,
             "#ed7953"
            ],
            [
             0.7777777777777778,
             "#fb9f3a"
            ],
            [
             0.8888888888888888,
             "#fdca26"
            ],
            [
             1,
             "#f0f921"
            ]
           ]
          },
          "colorway": [
           "#636efa",
           "#EF553B",
           "#00cc96",
           "#ab63fa",
           "#FFA15A",
           "#19d3f3",
           "#FF6692",
           "#B6E880",
           "#FF97FF",
           "#FECB52"
          ],
          "font": {
           "color": "#2a3f5f"
          },
          "geo": {
           "bgcolor": "white",
           "lakecolor": "white",
           "landcolor": "#E5ECF6",
           "showlakes": true,
           "showland": true,
           "subunitcolor": "white"
          },
          "hoverlabel": {
           "align": "left"
          },
          "hovermode": "closest",
          "mapbox": {
           "style": "light"
          },
          "paper_bgcolor": "white",
          "plot_bgcolor": "#E5ECF6",
          "polar": {
           "angularaxis": {
            "gridcolor": "white",
            "linecolor": "white",
            "ticks": ""
           },
           "bgcolor": "#E5ECF6",
           "radialaxis": {
            "gridcolor": "white",
            "linecolor": "white",
            "ticks": ""
           }
          },
          "scene": {
           "xaxis": {
            "backgroundcolor": "#E5ECF6",
            "gridcolor": "white",
            "gridwidth": 2,
            "linecolor": "white",
            "showbackground": true,
            "ticks": "",
            "zerolinecolor": "white"
           },
           "yaxis": {
            "backgroundcolor": "#E5ECF6",
            "gridcolor": "white",
            "gridwidth": 2,
            "linecolor": "white",
            "showbackground": true,
            "ticks": "",
            "zerolinecolor": "white"
           },
           "zaxis": {
            "backgroundcolor": "#E5ECF6",
            "gridcolor": "white",
            "gridwidth": 2,
            "linecolor": "white",
            "showbackground": true,
            "ticks": "",
            "zerolinecolor": "white"
           }
          },
          "shapedefaults": {
           "line": {
            "color": "#2a3f5f"
           }
          },
          "ternary": {
           "aaxis": {
            "gridcolor": "white",
            "linecolor": "white",
            "ticks": ""
           },
           "baxis": {
            "gridcolor": "white",
            "linecolor": "white",
            "ticks": ""
           },
           "bgcolor": "#E5ECF6",
           "caxis": {
            "gridcolor": "white",
            "linecolor": "white",
            "ticks": ""
           }
          },
          "title": {
           "x": 0.05
          },
          "xaxis": {
           "automargin": true,
           "gridcolor": "white",
           "linecolor": "white",
           "ticks": "",
           "title": {
            "standoff": 15
           },
           "zerolinecolor": "white",
           "zerolinewidth": 2
          },
          "yaxis": {
           "automargin": true,
           "gridcolor": "white",
           "linecolor": "white",
           "ticks": "",
           "title": {
            "standoff": 15
           },
           "zerolinecolor": "white",
           "zerolinewidth": 2
          }
         }
        }
       }
      }
     },
     "metadata": {},
     "output_type": "display_data"
    }
   ],
   "source": [
    "# Graficamos el embudo del exp248 para observar las proporciones\n",
    "fig = go.Figure(go.Funnel(\n",
    "    y = users_by_event_248.index,\n",
    "    x = users_by_event_248['n_users']))\n",
    "\n",
    "fig.show()"
   ]
  },
  {
   "cell_type": "code",
   "execution_count": 57,
   "metadata": {},
   "outputs": [
    {
     "data": {
      "application/vnd.plotly.v1+json": {
       "config": {
        "plotlyServerURL": "https://plot.ly"
       },
       "data": [
        {
         "type": "funnel",
         "x": [
          2450,
          1542,
          1266,
          1200,
          278
         ],
         "y": [
          "MainScreenAppear",
          "OffersScreenAppear",
          "CartScreenAppear",
          "PaymentScreenSuccessful",
          "Tutorial"
         ]
        }
       ],
       "layout": {
        "template": {
         "data": {
          "bar": [
           {
            "error_x": {
             "color": "#2a3f5f"
            },
            "error_y": {
             "color": "#2a3f5f"
            },
            "marker": {
             "line": {
              "color": "#E5ECF6",
              "width": 0.5
             },
             "pattern": {
              "fillmode": "overlay",
              "size": 10,
              "solidity": 0.2
             }
            },
            "type": "bar"
           }
          ],
          "barpolar": [
           {
            "marker": {
             "line": {
              "color": "#E5ECF6",
              "width": 0.5
             },
             "pattern": {
              "fillmode": "overlay",
              "size": 10,
              "solidity": 0.2
             }
            },
            "type": "barpolar"
           }
          ],
          "carpet": [
           {
            "aaxis": {
             "endlinecolor": "#2a3f5f",
             "gridcolor": "white",
             "linecolor": "white",
             "minorgridcolor": "white",
             "startlinecolor": "#2a3f5f"
            },
            "baxis": {
             "endlinecolor": "#2a3f5f",
             "gridcolor": "white",
             "linecolor": "white",
             "minorgridcolor": "white",
             "startlinecolor": "#2a3f5f"
            },
            "type": "carpet"
           }
          ],
          "choropleth": [
           {
            "colorbar": {
             "outlinewidth": 0,
             "ticks": ""
            },
            "type": "choropleth"
           }
          ],
          "contour": [
           {
            "colorbar": {
             "outlinewidth": 0,
             "ticks": ""
            },
            "colorscale": [
             [
              0,
              "#0d0887"
             ],
             [
              0.1111111111111111,
              "#46039f"
             ],
             [
              0.2222222222222222,
              "#7201a8"
             ],
             [
              0.3333333333333333,
              "#9c179e"
             ],
             [
              0.4444444444444444,
              "#bd3786"
             ],
             [
              0.5555555555555556,
              "#d8576b"
             ],
             [
              0.6666666666666666,
              "#ed7953"
             ],
             [
              0.7777777777777778,
              "#fb9f3a"
             ],
             [
              0.8888888888888888,
              "#fdca26"
             ],
             [
              1,
              "#f0f921"
             ]
            ],
            "type": "contour"
           }
          ],
          "contourcarpet": [
           {
            "colorbar": {
             "outlinewidth": 0,
             "ticks": ""
            },
            "type": "contourcarpet"
           }
          ],
          "heatmap": [
           {
            "colorbar": {
             "outlinewidth": 0,
             "ticks": ""
            },
            "colorscale": [
             [
              0,
              "#0d0887"
             ],
             [
              0.1111111111111111,
              "#46039f"
             ],
             [
              0.2222222222222222,
              "#7201a8"
             ],
             [
              0.3333333333333333,
              "#9c179e"
             ],
             [
              0.4444444444444444,
              "#bd3786"
             ],
             [
              0.5555555555555556,
              "#d8576b"
             ],
             [
              0.6666666666666666,
              "#ed7953"
             ],
             [
              0.7777777777777778,
              "#fb9f3a"
             ],
             [
              0.8888888888888888,
              "#fdca26"
             ],
             [
              1,
              "#f0f921"
             ]
            ],
            "type": "heatmap"
           }
          ],
          "heatmapgl": [
           {
            "colorbar": {
             "outlinewidth": 0,
             "ticks": ""
            },
            "colorscale": [
             [
              0,
              "#0d0887"
             ],
             [
              0.1111111111111111,
              "#46039f"
             ],
             [
              0.2222222222222222,
              "#7201a8"
             ],
             [
              0.3333333333333333,
              "#9c179e"
             ],
             [
              0.4444444444444444,
              "#bd3786"
             ],
             [
              0.5555555555555556,
              "#d8576b"
             ],
             [
              0.6666666666666666,
              "#ed7953"
             ],
             [
              0.7777777777777778,
              "#fb9f3a"
             ],
             [
              0.8888888888888888,
              "#fdca26"
             ],
             [
              1,
              "#f0f921"
             ]
            ],
            "type": "heatmapgl"
           }
          ],
          "histogram": [
           {
            "marker": {
             "pattern": {
              "fillmode": "overlay",
              "size": 10,
              "solidity": 0.2
             }
            },
            "type": "histogram"
           }
          ],
          "histogram2d": [
           {
            "colorbar": {
             "outlinewidth": 0,
             "ticks": ""
            },
            "colorscale": [
             [
              0,
              "#0d0887"
             ],
             [
              0.1111111111111111,
              "#46039f"
             ],
             [
              0.2222222222222222,
              "#7201a8"
             ],
             [
              0.3333333333333333,
              "#9c179e"
             ],
             [
              0.4444444444444444,
              "#bd3786"
             ],
             [
              0.5555555555555556,
              "#d8576b"
             ],
             [
              0.6666666666666666,
              "#ed7953"
             ],
             [
              0.7777777777777778,
              "#fb9f3a"
             ],
             [
              0.8888888888888888,
              "#fdca26"
             ],
             [
              1,
              "#f0f921"
             ]
            ],
            "type": "histogram2d"
           }
          ],
          "histogram2dcontour": [
           {
            "colorbar": {
             "outlinewidth": 0,
             "ticks": ""
            },
            "colorscale": [
             [
              0,
              "#0d0887"
             ],
             [
              0.1111111111111111,
              "#46039f"
             ],
             [
              0.2222222222222222,
              "#7201a8"
             ],
             [
              0.3333333333333333,
              "#9c179e"
             ],
             [
              0.4444444444444444,
              "#bd3786"
             ],
             [
              0.5555555555555556,
              "#d8576b"
             ],
             [
              0.6666666666666666,
              "#ed7953"
             ],
             [
              0.7777777777777778,
              "#fb9f3a"
             ],
             [
              0.8888888888888888,
              "#fdca26"
             ],
             [
              1,
              "#f0f921"
             ]
            ],
            "type": "histogram2dcontour"
           }
          ],
          "mesh3d": [
           {
            "colorbar": {
             "outlinewidth": 0,
             "ticks": ""
            },
            "type": "mesh3d"
           }
          ],
          "parcoords": [
           {
            "line": {
             "colorbar": {
              "outlinewidth": 0,
              "ticks": ""
             }
            },
            "type": "parcoords"
           }
          ],
          "pie": [
           {
            "automargin": true,
            "type": "pie"
           }
          ],
          "scatter": [
           {
            "fillpattern": {
             "fillmode": "overlay",
             "size": 10,
             "solidity": 0.2
            },
            "type": "scatter"
           }
          ],
          "scatter3d": [
           {
            "line": {
             "colorbar": {
              "outlinewidth": 0,
              "ticks": ""
             }
            },
            "marker": {
             "colorbar": {
              "outlinewidth": 0,
              "ticks": ""
             }
            },
            "type": "scatter3d"
           }
          ],
          "scattercarpet": [
           {
            "marker": {
             "colorbar": {
              "outlinewidth": 0,
              "ticks": ""
             }
            },
            "type": "scattercarpet"
           }
          ],
          "scattergeo": [
           {
            "marker": {
             "colorbar": {
              "outlinewidth": 0,
              "ticks": ""
             }
            },
            "type": "scattergeo"
           }
          ],
          "scattergl": [
           {
            "marker": {
             "colorbar": {
              "outlinewidth": 0,
              "ticks": ""
             }
            },
            "type": "scattergl"
           }
          ],
          "scattermapbox": [
           {
            "marker": {
             "colorbar": {
              "outlinewidth": 0,
              "ticks": ""
             }
            },
            "type": "scattermapbox"
           }
          ],
          "scatterpolar": [
           {
            "marker": {
             "colorbar": {
              "outlinewidth": 0,
              "ticks": ""
             }
            },
            "type": "scatterpolar"
           }
          ],
          "scatterpolargl": [
           {
            "marker": {
             "colorbar": {
              "outlinewidth": 0,
              "ticks": ""
             }
            },
            "type": "scatterpolargl"
           }
          ],
          "scatterternary": [
           {
            "marker": {
             "colorbar": {
              "outlinewidth": 0,
              "ticks": ""
             }
            },
            "type": "scatterternary"
           }
          ],
          "surface": [
           {
            "colorbar": {
             "outlinewidth": 0,
             "ticks": ""
            },
            "colorscale": [
             [
              0,
              "#0d0887"
             ],
             [
              0.1111111111111111,
              "#46039f"
             ],
             [
              0.2222222222222222,
              "#7201a8"
             ],
             [
              0.3333333333333333,
              "#9c179e"
             ],
             [
              0.4444444444444444,
              "#bd3786"
             ],
             [
              0.5555555555555556,
              "#d8576b"
             ],
             [
              0.6666666666666666,
              "#ed7953"
             ],
             [
              0.7777777777777778,
              "#fb9f3a"
             ],
             [
              0.8888888888888888,
              "#fdca26"
             ],
             [
              1,
              "#f0f921"
             ]
            ],
            "type": "surface"
           }
          ],
          "table": [
           {
            "cells": {
             "fill": {
              "color": "#EBF0F8"
             },
             "line": {
              "color": "white"
             }
            },
            "header": {
             "fill": {
              "color": "#C8D4E3"
             },
             "line": {
              "color": "white"
             }
            },
            "type": "table"
           }
          ]
         },
         "layout": {
          "annotationdefaults": {
           "arrowcolor": "#2a3f5f",
           "arrowhead": 0,
           "arrowwidth": 1
          },
          "autotypenumbers": "strict",
          "coloraxis": {
           "colorbar": {
            "outlinewidth": 0,
            "ticks": ""
           }
          },
          "colorscale": {
           "diverging": [
            [
             0,
             "#8e0152"
            ],
            [
             0.1,
             "#c51b7d"
            ],
            [
             0.2,
             "#de77ae"
            ],
            [
             0.3,
             "#f1b6da"
            ],
            [
             0.4,
             "#fde0ef"
            ],
            [
             0.5,
             "#f7f7f7"
            ],
            [
             0.6,
             "#e6f5d0"
            ],
            [
             0.7,
             "#b8e186"
            ],
            [
             0.8,
             "#7fbc41"
            ],
            [
             0.9,
             "#4d9221"
            ],
            [
             1,
             "#276419"
            ]
           ],
           "sequential": [
            [
             0,
             "#0d0887"
            ],
            [
             0.1111111111111111,
             "#46039f"
            ],
            [
             0.2222222222222222,
             "#7201a8"
            ],
            [
             0.3333333333333333,
             "#9c179e"
            ],
            [
             0.4444444444444444,
             "#bd3786"
            ],
            [
             0.5555555555555556,
             "#d8576b"
            ],
            [
             0.6666666666666666,
             "#ed7953"
            ],
            [
             0.7777777777777778,
             "#fb9f3a"
            ],
            [
             0.8888888888888888,
             "#fdca26"
            ],
            [
             1,
             "#f0f921"
            ]
           ],
           "sequentialminus": [
            [
             0,
             "#0d0887"
            ],
            [
             0.1111111111111111,
             "#46039f"
            ],
            [
             0.2222222222222222,
             "#7201a8"
            ],
            [
             0.3333333333333333,
             "#9c179e"
            ],
            [
             0.4444444444444444,
             "#bd3786"
            ],
            [
             0.5555555555555556,
             "#d8576b"
            ],
            [
             0.6666666666666666,
             "#ed7953"
            ],
            [
             0.7777777777777778,
             "#fb9f3a"
            ],
            [
             0.8888888888888888,
             "#fdca26"
            ],
            [
             1,
             "#f0f921"
            ]
           ]
          },
          "colorway": [
           "#636efa",
           "#EF553B",
           "#00cc96",
           "#ab63fa",
           "#FFA15A",
           "#19d3f3",
           "#FF6692",
           "#B6E880",
           "#FF97FF",
           "#FECB52"
          ],
          "font": {
           "color": "#2a3f5f"
          },
          "geo": {
           "bgcolor": "white",
           "lakecolor": "white",
           "landcolor": "#E5ECF6",
           "showlakes": true,
           "showland": true,
           "subunitcolor": "white"
          },
          "hoverlabel": {
           "align": "left"
          },
          "hovermode": "closest",
          "mapbox": {
           "style": "light"
          },
          "paper_bgcolor": "white",
          "plot_bgcolor": "#E5ECF6",
          "polar": {
           "angularaxis": {
            "gridcolor": "white",
            "linecolor": "white",
            "ticks": ""
           },
           "bgcolor": "#E5ECF6",
           "radialaxis": {
            "gridcolor": "white",
            "linecolor": "white",
            "ticks": ""
           }
          },
          "scene": {
           "xaxis": {
            "backgroundcolor": "#E5ECF6",
            "gridcolor": "white",
            "gridwidth": 2,
            "linecolor": "white",
            "showbackground": true,
            "ticks": "",
            "zerolinecolor": "white"
           },
           "yaxis": {
            "backgroundcolor": "#E5ECF6",
            "gridcolor": "white",
            "gridwidth": 2,
            "linecolor": "white",
            "showbackground": true,
            "ticks": "",
            "zerolinecolor": "white"
           },
           "zaxis": {
            "backgroundcolor": "#E5ECF6",
            "gridcolor": "white",
            "gridwidth": 2,
            "linecolor": "white",
            "showbackground": true,
            "ticks": "",
            "zerolinecolor": "white"
           }
          },
          "shapedefaults": {
           "line": {
            "color": "#2a3f5f"
           }
          },
          "ternary": {
           "aaxis": {
            "gridcolor": "white",
            "linecolor": "white",
            "ticks": ""
           },
           "baxis": {
            "gridcolor": "white",
            "linecolor": "white",
            "ticks": ""
           },
           "bgcolor": "#E5ECF6",
           "caxis": {
            "gridcolor": "white",
            "linecolor": "white",
            "ticks": ""
           }
          },
          "title": {
           "x": 0.05
          },
          "xaxis": {
           "automargin": true,
           "gridcolor": "white",
           "linecolor": "white",
           "ticks": "",
           "title": {
            "standoff": 15
           },
           "zerolinecolor": "white",
           "zerolinewidth": 2
          },
          "yaxis": {
           "automargin": true,
           "gridcolor": "white",
           "linecolor": "white",
           "ticks": "",
           "title": {
            "standoff": 15
           },
           "zerolinecolor": "white",
           "zerolinewidth": 2
          }
         }
        }
       }
      }
     },
     "metadata": {},
     "output_type": "display_data"
    }
   ],
   "source": [
    "# Graficamos el embudo del exp 246 y comparamos proporciones\n",
    "fig = go.Figure(go.Funnel(\n",
    "    y = users_by_event_246.index,\n",
    "    x = users_by_event_246['n_users']))\n",
    "\n",
    "fig.show()"
   ]
  },
  {
   "cell_type": "markdown",
   "metadata": {},
   "source": [
    "Observamos que existen ligeras diferencias entre las proporciones del primer grupo de control (exp 246) y el grupo de testeo (exp 248). Procedemos a analizar si estas diferencias observadas son estadisticamente significativas."
   ]
  },
  {
   "cell_type": "code",
   "execution_count": 58,
   "metadata": {},
   "outputs": [
    {
     "data": {
      "text/plain": [
       "['MainScreenAppear',\n",
       " 'OffersScreenAppear',\n",
       " 'CartScreenAppear',\n",
       " 'PaymentScreenSuccessful',\n",
       " 'Tutorial']"
      ]
     },
     "execution_count": 58,
     "metadata": {},
     "output_type": "execute_result"
    }
   ],
   "source": [
    "# Se preparan la lista con los eventos\n",
    "events = users_by_event_248.index.to_list()\n",
    "events"
   ]
  },
  {
   "cell_type": "code",
   "execution_count": 59,
   "metadata": {},
   "outputs": [
    {
     "name": "stdout",
     "output_type": "stream",
     "text": [
      "El p_value para el OffersScreenAppear es: 0.2684281587249231\n",
      "El p_value para el CartScreenAppear es: 0.1006104270048993\n",
      "El p_value para el PaymentScreenSuccessful es: 0.2582638437556217\n",
      "El p_value para el Tutorial es: 0.8626672274025511\n"
     ]
    }
   ],
   "source": [
    "# Se prepara un bucle sobre los eventos\n",
    "results_246_248 = []\n",
    "for event in events:\n",
    "    if (event == 'MainScreenAppear'):\n",
    "        # Se guardan los usuarios totales en 246\n",
    "        total_246 = (users_by_event_246\n",
    "                     .loc[event, 'n_users'])\n",
    "        # Se guardan los usuarios totales en 248\n",
    "        total_248 = (users_by_event_248\n",
    "                     .loc[event, 'n_users'])\n",
    "        continue\n",
    "    else:\n",
    "        # Se prepara la muestra 246 para cada evento\n",
    "        samp_246 = [users_by_event_246\n",
    "                    .loc[event, 'n_users'],\n",
    "                    total_246]\n",
    "        # Se prepara la muestra 248 para cada evento\n",
    "        samp_248 = [users_by_event_248\n",
    "                    .loc[event, 'n_users'],\n",
    "                    total_248]\n",
    "        \n",
    "        # Se obtienen los resultados para cada evento\n",
    "        results = stat_significance_proportions(samp_246, samp_248)\n",
    "        results_246_248.append(results)\n",
    "        \n",
    "        # Se imprimen los resultados para cada evento\n",
    "        print('El p_value para el {evento} es: {p}'.format(evento=event, p=results[1]))"
   ]
  },
  {
   "cell_type": "markdown",
   "metadata": {},
   "source": [
    "Observamos que los p_values son bastante altos (mayores o iguales que 10%). Esto nos indica que las proporciones de cada evento con respecto al total son bastante similares en el grupo de testeo y en este grupo de control. Las diferencias en proporciones observadas en los embudos no son estadisticamente significativas.\n",
    "\n",
    "Procedemos a comparar con el otro grupo de control."
   ]
  },
  {
   "cell_type": "code",
   "execution_count": 60,
   "metadata": {},
   "outputs": [
    {
     "data": {
      "application/vnd.plotly.v1+json": {
       "config": {
        "plotlyServerURL": "https://plot.ly"
       },
       "data": [
        {
         "type": "funnel",
         "x": [
          2476,
          1520,
          1238,
          1158,
          283
         ],
         "y": [
          "MainScreenAppear",
          "OffersScreenAppear",
          "CartScreenAppear",
          "PaymentScreenSuccessful",
          "Tutorial"
         ]
        }
       ],
       "layout": {
        "template": {
         "data": {
          "bar": [
           {
            "error_x": {
             "color": "#2a3f5f"
            },
            "error_y": {
             "color": "#2a3f5f"
            },
            "marker": {
             "line": {
              "color": "#E5ECF6",
              "width": 0.5
             },
             "pattern": {
              "fillmode": "overlay",
              "size": 10,
              "solidity": 0.2
             }
            },
            "type": "bar"
           }
          ],
          "barpolar": [
           {
            "marker": {
             "line": {
              "color": "#E5ECF6",
              "width": 0.5
             },
             "pattern": {
              "fillmode": "overlay",
              "size": 10,
              "solidity": 0.2
             }
            },
            "type": "barpolar"
           }
          ],
          "carpet": [
           {
            "aaxis": {
             "endlinecolor": "#2a3f5f",
             "gridcolor": "white",
             "linecolor": "white",
             "minorgridcolor": "white",
             "startlinecolor": "#2a3f5f"
            },
            "baxis": {
             "endlinecolor": "#2a3f5f",
             "gridcolor": "white",
             "linecolor": "white",
             "minorgridcolor": "white",
             "startlinecolor": "#2a3f5f"
            },
            "type": "carpet"
           }
          ],
          "choropleth": [
           {
            "colorbar": {
             "outlinewidth": 0,
             "ticks": ""
            },
            "type": "choropleth"
           }
          ],
          "contour": [
           {
            "colorbar": {
             "outlinewidth": 0,
             "ticks": ""
            },
            "colorscale": [
             [
              0,
              "#0d0887"
             ],
             [
              0.1111111111111111,
              "#46039f"
             ],
             [
              0.2222222222222222,
              "#7201a8"
             ],
             [
              0.3333333333333333,
              "#9c179e"
             ],
             [
              0.4444444444444444,
              "#bd3786"
             ],
             [
              0.5555555555555556,
              "#d8576b"
             ],
             [
              0.6666666666666666,
              "#ed7953"
             ],
             [
              0.7777777777777778,
              "#fb9f3a"
             ],
             [
              0.8888888888888888,
              "#fdca26"
             ],
             [
              1,
              "#f0f921"
             ]
            ],
            "type": "contour"
           }
          ],
          "contourcarpet": [
           {
            "colorbar": {
             "outlinewidth": 0,
             "ticks": ""
            },
            "type": "contourcarpet"
           }
          ],
          "heatmap": [
           {
            "colorbar": {
             "outlinewidth": 0,
             "ticks": ""
            },
            "colorscale": [
             [
              0,
              "#0d0887"
             ],
             [
              0.1111111111111111,
              "#46039f"
             ],
             [
              0.2222222222222222,
              "#7201a8"
             ],
             [
              0.3333333333333333,
              "#9c179e"
             ],
             [
              0.4444444444444444,
              "#bd3786"
             ],
             [
              0.5555555555555556,
              "#d8576b"
             ],
             [
              0.6666666666666666,
              "#ed7953"
             ],
             [
              0.7777777777777778,
              "#fb9f3a"
             ],
             [
              0.8888888888888888,
              "#fdca26"
             ],
             [
              1,
              "#f0f921"
             ]
            ],
            "type": "heatmap"
           }
          ],
          "heatmapgl": [
           {
            "colorbar": {
             "outlinewidth": 0,
             "ticks": ""
            },
            "colorscale": [
             [
              0,
              "#0d0887"
             ],
             [
              0.1111111111111111,
              "#46039f"
             ],
             [
              0.2222222222222222,
              "#7201a8"
             ],
             [
              0.3333333333333333,
              "#9c179e"
             ],
             [
              0.4444444444444444,
              "#bd3786"
             ],
             [
              0.5555555555555556,
              "#d8576b"
             ],
             [
              0.6666666666666666,
              "#ed7953"
             ],
             [
              0.7777777777777778,
              "#fb9f3a"
             ],
             [
              0.8888888888888888,
              "#fdca26"
             ],
             [
              1,
              "#f0f921"
             ]
            ],
            "type": "heatmapgl"
           }
          ],
          "histogram": [
           {
            "marker": {
             "pattern": {
              "fillmode": "overlay",
              "size": 10,
              "solidity": 0.2
             }
            },
            "type": "histogram"
           }
          ],
          "histogram2d": [
           {
            "colorbar": {
             "outlinewidth": 0,
             "ticks": ""
            },
            "colorscale": [
             [
              0,
              "#0d0887"
             ],
             [
              0.1111111111111111,
              "#46039f"
             ],
             [
              0.2222222222222222,
              "#7201a8"
             ],
             [
              0.3333333333333333,
              "#9c179e"
             ],
             [
              0.4444444444444444,
              "#bd3786"
             ],
             [
              0.5555555555555556,
              "#d8576b"
             ],
             [
              0.6666666666666666,
              "#ed7953"
             ],
             [
              0.7777777777777778,
              "#fb9f3a"
             ],
             [
              0.8888888888888888,
              "#fdca26"
             ],
             [
              1,
              "#f0f921"
             ]
            ],
            "type": "histogram2d"
           }
          ],
          "histogram2dcontour": [
           {
            "colorbar": {
             "outlinewidth": 0,
             "ticks": ""
            },
            "colorscale": [
             [
              0,
              "#0d0887"
             ],
             [
              0.1111111111111111,
              "#46039f"
             ],
             [
              0.2222222222222222,
              "#7201a8"
             ],
             [
              0.3333333333333333,
              "#9c179e"
             ],
             [
              0.4444444444444444,
              "#bd3786"
             ],
             [
              0.5555555555555556,
              "#d8576b"
             ],
             [
              0.6666666666666666,
              "#ed7953"
             ],
             [
              0.7777777777777778,
              "#fb9f3a"
             ],
             [
              0.8888888888888888,
              "#fdca26"
             ],
             [
              1,
              "#f0f921"
             ]
            ],
            "type": "histogram2dcontour"
           }
          ],
          "mesh3d": [
           {
            "colorbar": {
             "outlinewidth": 0,
             "ticks": ""
            },
            "type": "mesh3d"
           }
          ],
          "parcoords": [
           {
            "line": {
             "colorbar": {
              "outlinewidth": 0,
              "ticks": ""
             }
            },
            "type": "parcoords"
           }
          ],
          "pie": [
           {
            "automargin": true,
            "type": "pie"
           }
          ],
          "scatter": [
           {
            "fillpattern": {
             "fillmode": "overlay",
             "size": 10,
             "solidity": 0.2
            },
            "type": "scatter"
           }
          ],
          "scatter3d": [
           {
            "line": {
             "colorbar": {
              "outlinewidth": 0,
              "ticks": ""
             }
            },
            "marker": {
             "colorbar": {
              "outlinewidth": 0,
              "ticks": ""
             }
            },
            "type": "scatter3d"
           }
          ],
          "scattercarpet": [
           {
            "marker": {
             "colorbar": {
              "outlinewidth": 0,
              "ticks": ""
             }
            },
            "type": "scattercarpet"
           }
          ],
          "scattergeo": [
           {
            "marker": {
             "colorbar": {
              "outlinewidth": 0,
              "ticks": ""
             }
            },
            "type": "scattergeo"
           }
          ],
          "scattergl": [
           {
            "marker": {
             "colorbar": {
              "outlinewidth": 0,
              "ticks": ""
             }
            },
            "type": "scattergl"
           }
          ],
          "scattermapbox": [
           {
            "marker": {
             "colorbar": {
              "outlinewidth": 0,
              "ticks": ""
             }
            },
            "type": "scattermapbox"
           }
          ],
          "scatterpolar": [
           {
            "marker": {
             "colorbar": {
              "outlinewidth": 0,
              "ticks": ""
             }
            },
            "type": "scatterpolar"
           }
          ],
          "scatterpolargl": [
           {
            "marker": {
             "colorbar": {
              "outlinewidth": 0,
              "ticks": ""
             }
            },
            "type": "scatterpolargl"
           }
          ],
          "scatterternary": [
           {
            "marker": {
             "colorbar": {
              "outlinewidth": 0,
              "ticks": ""
             }
            },
            "type": "scatterternary"
           }
          ],
          "surface": [
           {
            "colorbar": {
             "outlinewidth": 0,
             "ticks": ""
            },
            "colorscale": [
             [
              0,
              "#0d0887"
             ],
             [
              0.1111111111111111,
              "#46039f"
             ],
             [
              0.2222222222222222,
              "#7201a8"
             ],
             [
              0.3333333333333333,
              "#9c179e"
             ],
             [
              0.4444444444444444,
              "#bd3786"
             ],
             [
              0.5555555555555556,
              "#d8576b"
             ],
             [
              0.6666666666666666,
              "#ed7953"
             ],
             [
              0.7777777777777778,
              "#fb9f3a"
             ],
             [
              0.8888888888888888,
              "#fdca26"
             ],
             [
              1,
              "#f0f921"
             ]
            ],
            "type": "surface"
           }
          ],
          "table": [
           {
            "cells": {
             "fill": {
              "color": "#EBF0F8"
             },
             "line": {
              "color": "white"
             }
            },
            "header": {
             "fill": {
              "color": "#C8D4E3"
             },
             "line": {
              "color": "white"
             }
            },
            "type": "table"
           }
          ]
         },
         "layout": {
          "annotationdefaults": {
           "arrowcolor": "#2a3f5f",
           "arrowhead": 0,
           "arrowwidth": 1
          },
          "autotypenumbers": "strict",
          "coloraxis": {
           "colorbar": {
            "outlinewidth": 0,
            "ticks": ""
           }
          },
          "colorscale": {
           "diverging": [
            [
             0,
             "#8e0152"
            ],
            [
             0.1,
             "#c51b7d"
            ],
            [
             0.2,
             "#de77ae"
            ],
            [
             0.3,
             "#f1b6da"
            ],
            [
             0.4,
             "#fde0ef"
            ],
            [
             0.5,
             "#f7f7f7"
            ],
            [
             0.6,
             "#e6f5d0"
            ],
            [
             0.7,
             "#b8e186"
            ],
            [
             0.8,
             "#7fbc41"
            ],
            [
             0.9,
             "#4d9221"
            ],
            [
             1,
             "#276419"
            ]
           ],
           "sequential": [
            [
             0,
             "#0d0887"
            ],
            [
             0.1111111111111111,
             "#46039f"
            ],
            [
             0.2222222222222222,
             "#7201a8"
            ],
            [
             0.3333333333333333,
             "#9c179e"
            ],
            [
             0.4444444444444444,
             "#bd3786"
            ],
            [
             0.5555555555555556,
             "#d8576b"
            ],
            [
             0.6666666666666666,
             "#ed7953"
            ],
            [
             0.7777777777777778,
             "#fb9f3a"
            ],
            [
             0.8888888888888888,
             "#fdca26"
            ],
            [
             1,
             "#f0f921"
            ]
           ],
           "sequentialminus": [
            [
             0,
             "#0d0887"
            ],
            [
             0.1111111111111111,
             "#46039f"
            ],
            [
             0.2222222222222222,
             "#7201a8"
            ],
            [
             0.3333333333333333,
             "#9c179e"
            ],
            [
             0.4444444444444444,
             "#bd3786"
            ],
            [
             0.5555555555555556,
             "#d8576b"
            ],
            [
             0.6666666666666666,
             "#ed7953"
            ],
            [
             0.7777777777777778,
             "#fb9f3a"
            ],
            [
             0.8888888888888888,
             "#fdca26"
            ],
            [
             1,
             "#f0f921"
            ]
           ]
          },
          "colorway": [
           "#636efa",
           "#EF553B",
           "#00cc96",
           "#ab63fa",
           "#FFA15A",
           "#19d3f3",
           "#FF6692",
           "#B6E880",
           "#FF97FF",
           "#FECB52"
          ],
          "font": {
           "color": "#2a3f5f"
          },
          "geo": {
           "bgcolor": "white",
           "lakecolor": "white",
           "landcolor": "#E5ECF6",
           "showlakes": true,
           "showland": true,
           "subunitcolor": "white"
          },
          "hoverlabel": {
           "align": "left"
          },
          "hovermode": "closest",
          "mapbox": {
           "style": "light"
          },
          "paper_bgcolor": "white",
          "plot_bgcolor": "#E5ECF6",
          "polar": {
           "angularaxis": {
            "gridcolor": "white",
            "linecolor": "white",
            "ticks": ""
           },
           "bgcolor": "#E5ECF6",
           "radialaxis": {
            "gridcolor": "white",
            "linecolor": "white",
            "ticks": ""
           }
          },
          "scene": {
           "xaxis": {
            "backgroundcolor": "#E5ECF6",
            "gridcolor": "white",
            "gridwidth": 2,
            "linecolor": "white",
            "showbackground": true,
            "ticks": "",
            "zerolinecolor": "white"
           },
           "yaxis": {
            "backgroundcolor": "#E5ECF6",
            "gridcolor": "white",
            "gridwidth": 2,
            "linecolor": "white",
            "showbackground": true,
            "ticks": "",
            "zerolinecolor": "white"
           },
           "zaxis": {
            "backgroundcolor": "#E5ECF6",
            "gridcolor": "white",
            "gridwidth": 2,
            "linecolor": "white",
            "showbackground": true,
            "ticks": "",
            "zerolinecolor": "white"
           }
          },
          "shapedefaults": {
           "line": {
            "color": "#2a3f5f"
           }
          },
          "ternary": {
           "aaxis": {
            "gridcolor": "white",
            "linecolor": "white",
            "ticks": ""
           },
           "baxis": {
            "gridcolor": "white",
            "linecolor": "white",
            "ticks": ""
           },
           "bgcolor": "#E5ECF6",
           "caxis": {
            "gridcolor": "white",
            "linecolor": "white",
            "ticks": ""
           }
          },
          "title": {
           "x": 0.05
          },
          "xaxis": {
           "automargin": true,
           "gridcolor": "white",
           "linecolor": "white",
           "ticks": "",
           "title": {
            "standoff": 15
           },
           "zerolinecolor": "white",
           "zerolinewidth": 2
          },
          "yaxis": {
           "automargin": true,
           "gridcolor": "white",
           "linecolor": "white",
           "ticks": "",
           "title": {
            "standoff": 15
           },
           "zerolinecolor": "white",
           "zerolinewidth": 2
          }
         }
        }
       }
      }
     },
     "metadata": {},
     "output_type": "display_data"
    }
   ],
   "source": [
    "# Graficamos el embudo del exp 247 y comparamos proporciones\n",
    "fig = go.Figure(go.Funnel(\n",
    "    y = users_by_event_247.index,\n",
    "    x = users_by_event_247['n_users']))\n",
    "\n",
    "fig.show()"
   ]
  },
  {
   "cell_type": "markdown",
   "metadata": {},
   "source": [
    "Igual que en el caso anterior, cemos que existen ligeras diferencias entre las proporciones del segundo grupo de control (exp 247) y el grupo de testeo (exp 248). Procedemos a analizar si estas diferencias observadas son estadisticamente significativas."
   ]
  },
  {
   "cell_type": "code",
   "execution_count": 61,
   "metadata": {},
   "outputs": [
    {
     "name": "stdout",
     "output_type": "stream",
     "text": [
      "El p_value para el OffersScreenAppear es: 0.9869365252844515\n",
      "El p_value para el CartScreenAppear es: 0.6408180183192491\n",
      "El p_value para el PaymentScreenSuccessful es: 0.6699208079332859\n",
      "El p_value para el Tutorial es: 0.790787129641324\n"
     ]
    }
   ],
   "source": [
    "# Se prepara un bucle sobre los eventos\n",
    "results_247_248 = []\n",
    "for event in events:\n",
    "    if (event == 'MainScreenAppear'):\n",
    "        # Se guardan los usuarios totales en 246\n",
    "        total_247 = (users_by_event_247\n",
    "                     .loc[event, 'n_users'])\n",
    "        # Se guardan los usuarios totales en 248\n",
    "        total_248 = (users_by_event_248\n",
    "                     .loc[event, 'n_users'])\n",
    "        continue\n",
    "    else:\n",
    "        # Se prepara la muestra 246 para cada evento\n",
    "        samp_247 = [users_by_event_247\n",
    "                    .loc[event, 'n_users'],\n",
    "                    total_247]\n",
    "        # Se prepara la muestra 248 para cada evento\n",
    "        samp_248 = [users_by_event_248\n",
    "                    .loc[event, 'n_users'],\n",
    "                    total_248]\n",
    "        \n",
    "        # Se obtienen los resultados para cada evento\n",
    "        results = stat_significance_proportions(samp_247, samp_248)\n",
    "        results_247_248.append(results)\n",
    "        \n",
    "        # Se imprimen los resultados para cada evento\n",
    "        print('El p_value para el {evento} es: {p}'.format(evento=event, p=results[1]))"
   ]
  },
  {
   "cell_type": "markdown",
   "metadata": {},
   "source": [
    "Para este grupo de control, los p_values son aun mayores (superiores al 60%). Esto indica que las diferencias observadas en las proporciones son muy pequeñas y no son significativas.\n",
    "\n",
    "Todo pareceria indicar que no hay diferencias en las proporciones del grupo de testeo comparado con los grupos de control.\n",
    "\n",
    "Finalizamos comparando contra ambos grupos de control de forma conjunta."
   ]
  },
  {
   "cell_type": "code",
   "execution_count": 62,
   "metadata": {},
   "outputs": [
    {
     "data": {
      "application/vnd.plotly.v1+json": {
       "config": {
        "plotlyServerURL": "https://plot.ly"
       },
       "data": [
        {
         "type": "funnel",
         "x": [
          4926,
          3062,
          2504,
          2358,
          561
         ],
         "y": [
          "MainScreenAppear",
          "OffersScreenAppear",
          "CartScreenAppear",
          "PaymentScreenSuccessful",
          "Tutorial"
         ]
        }
       ],
       "layout": {
        "template": {
         "data": {
          "bar": [
           {
            "error_x": {
             "color": "#2a3f5f"
            },
            "error_y": {
             "color": "#2a3f5f"
            },
            "marker": {
             "line": {
              "color": "#E5ECF6",
              "width": 0.5
             },
             "pattern": {
              "fillmode": "overlay",
              "size": 10,
              "solidity": 0.2
             }
            },
            "type": "bar"
           }
          ],
          "barpolar": [
           {
            "marker": {
             "line": {
              "color": "#E5ECF6",
              "width": 0.5
             },
             "pattern": {
              "fillmode": "overlay",
              "size": 10,
              "solidity": 0.2
             }
            },
            "type": "barpolar"
           }
          ],
          "carpet": [
           {
            "aaxis": {
             "endlinecolor": "#2a3f5f",
             "gridcolor": "white",
             "linecolor": "white",
             "minorgridcolor": "white",
             "startlinecolor": "#2a3f5f"
            },
            "baxis": {
             "endlinecolor": "#2a3f5f",
             "gridcolor": "white",
             "linecolor": "white",
             "minorgridcolor": "white",
             "startlinecolor": "#2a3f5f"
            },
            "type": "carpet"
           }
          ],
          "choropleth": [
           {
            "colorbar": {
             "outlinewidth": 0,
             "ticks": ""
            },
            "type": "choropleth"
           }
          ],
          "contour": [
           {
            "colorbar": {
             "outlinewidth": 0,
             "ticks": ""
            },
            "colorscale": [
             [
              0,
              "#0d0887"
             ],
             [
              0.1111111111111111,
              "#46039f"
             ],
             [
              0.2222222222222222,
              "#7201a8"
             ],
             [
              0.3333333333333333,
              "#9c179e"
             ],
             [
              0.4444444444444444,
              "#bd3786"
             ],
             [
              0.5555555555555556,
              "#d8576b"
             ],
             [
              0.6666666666666666,
              "#ed7953"
             ],
             [
              0.7777777777777778,
              "#fb9f3a"
             ],
             [
              0.8888888888888888,
              "#fdca26"
             ],
             [
              1,
              "#f0f921"
             ]
            ],
            "type": "contour"
           }
          ],
          "contourcarpet": [
           {
            "colorbar": {
             "outlinewidth": 0,
             "ticks": ""
            },
            "type": "contourcarpet"
           }
          ],
          "heatmap": [
           {
            "colorbar": {
             "outlinewidth": 0,
             "ticks": ""
            },
            "colorscale": [
             [
              0,
              "#0d0887"
             ],
             [
              0.1111111111111111,
              "#46039f"
             ],
             [
              0.2222222222222222,
              "#7201a8"
             ],
             [
              0.3333333333333333,
              "#9c179e"
             ],
             [
              0.4444444444444444,
              "#bd3786"
             ],
             [
              0.5555555555555556,
              "#d8576b"
             ],
             [
              0.6666666666666666,
              "#ed7953"
             ],
             [
              0.7777777777777778,
              "#fb9f3a"
             ],
             [
              0.8888888888888888,
              "#fdca26"
             ],
             [
              1,
              "#f0f921"
             ]
            ],
            "type": "heatmap"
           }
          ],
          "heatmapgl": [
           {
            "colorbar": {
             "outlinewidth": 0,
             "ticks": ""
            },
            "colorscale": [
             [
              0,
              "#0d0887"
             ],
             [
              0.1111111111111111,
              "#46039f"
             ],
             [
              0.2222222222222222,
              "#7201a8"
             ],
             [
              0.3333333333333333,
              "#9c179e"
             ],
             [
              0.4444444444444444,
              "#bd3786"
             ],
             [
              0.5555555555555556,
              "#d8576b"
             ],
             [
              0.6666666666666666,
              "#ed7953"
             ],
             [
              0.7777777777777778,
              "#fb9f3a"
             ],
             [
              0.8888888888888888,
              "#fdca26"
             ],
             [
              1,
              "#f0f921"
             ]
            ],
            "type": "heatmapgl"
           }
          ],
          "histogram": [
           {
            "marker": {
             "pattern": {
              "fillmode": "overlay",
              "size": 10,
              "solidity": 0.2
             }
            },
            "type": "histogram"
           }
          ],
          "histogram2d": [
           {
            "colorbar": {
             "outlinewidth": 0,
             "ticks": ""
            },
            "colorscale": [
             [
              0,
              "#0d0887"
             ],
             [
              0.1111111111111111,
              "#46039f"
             ],
             [
              0.2222222222222222,
              "#7201a8"
             ],
             [
              0.3333333333333333,
              "#9c179e"
             ],
             [
              0.4444444444444444,
              "#bd3786"
             ],
             [
              0.5555555555555556,
              "#d8576b"
             ],
             [
              0.6666666666666666,
              "#ed7953"
             ],
             [
              0.7777777777777778,
              "#fb9f3a"
             ],
             [
              0.8888888888888888,
              "#fdca26"
             ],
             [
              1,
              "#f0f921"
             ]
            ],
            "type": "histogram2d"
           }
          ],
          "histogram2dcontour": [
           {
            "colorbar": {
             "outlinewidth": 0,
             "ticks": ""
            },
            "colorscale": [
             [
              0,
              "#0d0887"
             ],
             [
              0.1111111111111111,
              "#46039f"
             ],
             [
              0.2222222222222222,
              "#7201a8"
             ],
             [
              0.3333333333333333,
              "#9c179e"
             ],
             [
              0.4444444444444444,
              "#bd3786"
             ],
             [
              0.5555555555555556,
              "#d8576b"
             ],
             [
              0.6666666666666666,
              "#ed7953"
             ],
             [
              0.7777777777777778,
              "#fb9f3a"
             ],
             [
              0.8888888888888888,
              "#fdca26"
             ],
             [
              1,
              "#f0f921"
             ]
            ],
            "type": "histogram2dcontour"
           }
          ],
          "mesh3d": [
           {
            "colorbar": {
             "outlinewidth": 0,
             "ticks": ""
            },
            "type": "mesh3d"
           }
          ],
          "parcoords": [
           {
            "line": {
             "colorbar": {
              "outlinewidth": 0,
              "ticks": ""
             }
            },
            "type": "parcoords"
           }
          ],
          "pie": [
           {
            "automargin": true,
            "type": "pie"
           }
          ],
          "scatter": [
           {
            "fillpattern": {
             "fillmode": "overlay",
             "size": 10,
             "solidity": 0.2
            },
            "type": "scatter"
           }
          ],
          "scatter3d": [
           {
            "line": {
             "colorbar": {
              "outlinewidth": 0,
              "ticks": ""
             }
            },
            "marker": {
             "colorbar": {
              "outlinewidth": 0,
              "ticks": ""
             }
            },
            "type": "scatter3d"
           }
          ],
          "scattercarpet": [
           {
            "marker": {
             "colorbar": {
              "outlinewidth": 0,
              "ticks": ""
             }
            },
            "type": "scattercarpet"
           }
          ],
          "scattergeo": [
           {
            "marker": {
             "colorbar": {
              "outlinewidth": 0,
              "ticks": ""
             }
            },
            "type": "scattergeo"
           }
          ],
          "scattergl": [
           {
            "marker": {
             "colorbar": {
              "outlinewidth": 0,
              "ticks": ""
             }
            },
            "type": "scattergl"
           }
          ],
          "scattermapbox": [
           {
            "marker": {
             "colorbar": {
              "outlinewidth": 0,
              "ticks": ""
             }
            },
            "type": "scattermapbox"
           }
          ],
          "scatterpolar": [
           {
            "marker": {
             "colorbar": {
              "outlinewidth": 0,
              "ticks": ""
             }
            },
            "type": "scatterpolar"
           }
          ],
          "scatterpolargl": [
           {
            "marker": {
             "colorbar": {
              "outlinewidth": 0,
              "ticks": ""
             }
            },
            "type": "scatterpolargl"
           }
          ],
          "scatterternary": [
           {
            "marker": {
             "colorbar": {
              "outlinewidth": 0,
              "ticks": ""
             }
            },
            "type": "scatterternary"
           }
          ],
          "surface": [
           {
            "colorbar": {
             "outlinewidth": 0,
             "ticks": ""
            },
            "colorscale": [
             [
              0,
              "#0d0887"
             ],
             [
              0.1111111111111111,
              "#46039f"
             ],
             [
              0.2222222222222222,
              "#7201a8"
             ],
             [
              0.3333333333333333,
              "#9c179e"
             ],
             [
              0.4444444444444444,
              "#bd3786"
             ],
             [
              0.5555555555555556,
              "#d8576b"
             ],
             [
              0.6666666666666666,
              "#ed7953"
             ],
             [
              0.7777777777777778,
              "#fb9f3a"
             ],
             [
              0.8888888888888888,
              "#fdca26"
             ],
             [
              1,
              "#f0f921"
             ]
            ],
            "type": "surface"
           }
          ],
          "table": [
           {
            "cells": {
             "fill": {
              "color": "#EBF0F8"
             },
             "line": {
              "color": "white"
             }
            },
            "header": {
             "fill": {
              "color": "#C8D4E3"
             },
             "line": {
              "color": "white"
             }
            },
            "type": "table"
           }
          ]
         },
         "layout": {
          "annotationdefaults": {
           "arrowcolor": "#2a3f5f",
           "arrowhead": 0,
           "arrowwidth": 1
          },
          "autotypenumbers": "strict",
          "coloraxis": {
           "colorbar": {
            "outlinewidth": 0,
            "ticks": ""
           }
          },
          "colorscale": {
           "diverging": [
            [
             0,
             "#8e0152"
            ],
            [
             0.1,
             "#c51b7d"
            ],
            [
             0.2,
             "#de77ae"
            ],
            [
             0.3,
             "#f1b6da"
            ],
            [
             0.4,
             "#fde0ef"
            ],
            [
             0.5,
             "#f7f7f7"
            ],
            [
             0.6,
             "#e6f5d0"
            ],
            [
             0.7,
             "#b8e186"
            ],
            [
             0.8,
             "#7fbc41"
            ],
            [
             0.9,
             "#4d9221"
            ],
            [
             1,
             "#276419"
            ]
           ],
           "sequential": [
            [
             0,
             "#0d0887"
            ],
            [
             0.1111111111111111,
             "#46039f"
            ],
            [
             0.2222222222222222,
             "#7201a8"
            ],
            [
             0.3333333333333333,
             "#9c179e"
            ],
            [
             0.4444444444444444,
             "#bd3786"
            ],
            [
             0.5555555555555556,
             "#d8576b"
            ],
            [
             0.6666666666666666,
             "#ed7953"
            ],
            [
             0.7777777777777778,
             "#fb9f3a"
            ],
            [
             0.8888888888888888,
             "#fdca26"
            ],
            [
             1,
             "#f0f921"
            ]
           ],
           "sequentialminus": [
            [
             0,
             "#0d0887"
            ],
            [
             0.1111111111111111,
             "#46039f"
            ],
            [
             0.2222222222222222,
             "#7201a8"
            ],
            [
             0.3333333333333333,
             "#9c179e"
            ],
            [
             0.4444444444444444,
             "#bd3786"
            ],
            [
             0.5555555555555556,
             "#d8576b"
            ],
            [
             0.6666666666666666,
             "#ed7953"
            ],
            [
             0.7777777777777778,
             "#fb9f3a"
            ],
            [
             0.8888888888888888,
             "#fdca26"
            ],
            [
             1,
             "#f0f921"
            ]
           ]
          },
          "colorway": [
           "#636efa",
           "#EF553B",
           "#00cc96",
           "#ab63fa",
           "#FFA15A",
           "#19d3f3",
           "#FF6692",
           "#B6E880",
           "#FF97FF",
           "#FECB52"
          ],
          "font": {
           "color": "#2a3f5f"
          },
          "geo": {
           "bgcolor": "white",
           "lakecolor": "white",
           "landcolor": "#E5ECF6",
           "showlakes": true,
           "showland": true,
           "subunitcolor": "white"
          },
          "hoverlabel": {
           "align": "left"
          },
          "hovermode": "closest",
          "mapbox": {
           "style": "light"
          },
          "paper_bgcolor": "white",
          "plot_bgcolor": "#E5ECF6",
          "polar": {
           "angularaxis": {
            "gridcolor": "white",
            "linecolor": "white",
            "ticks": ""
           },
           "bgcolor": "#E5ECF6",
           "radialaxis": {
            "gridcolor": "white",
            "linecolor": "white",
            "ticks": ""
           }
          },
          "scene": {
           "xaxis": {
            "backgroundcolor": "#E5ECF6",
            "gridcolor": "white",
            "gridwidth": 2,
            "linecolor": "white",
            "showbackground": true,
            "ticks": "",
            "zerolinecolor": "white"
           },
           "yaxis": {
            "backgroundcolor": "#E5ECF6",
            "gridcolor": "white",
            "gridwidth": 2,
            "linecolor": "white",
            "showbackground": true,
            "ticks": "",
            "zerolinecolor": "white"
           },
           "zaxis": {
            "backgroundcolor": "#E5ECF6",
            "gridcolor": "white",
            "gridwidth": 2,
            "linecolor": "white",
            "showbackground": true,
            "ticks": "",
            "zerolinecolor": "white"
           }
          },
          "shapedefaults": {
           "line": {
            "color": "#2a3f5f"
           }
          },
          "ternary": {
           "aaxis": {
            "gridcolor": "white",
            "linecolor": "white",
            "ticks": ""
           },
           "baxis": {
            "gridcolor": "white",
            "linecolor": "white",
            "ticks": ""
           },
           "bgcolor": "#E5ECF6",
           "caxis": {
            "gridcolor": "white",
            "linecolor": "white",
            "ticks": ""
           }
          },
          "title": {
           "x": 0.05
          },
          "xaxis": {
           "automargin": true,
           "gridcolor": "white",
           "linecolor": "white",
           "ticks": "",
           "title": {
            "standoff": 15
           },
           "zerolinecolor": "white",
           "zerolinewidth": 2
          },
          "yaxis": {
           "automargin": true,
           "gridcolor": "white",
           "linecolor": "white",
           "ticks": "",
           "title": {
            "standoff": 15
           },
           "zerolinecolor": "white",
           "zerolinewidth": 2
          }
         }
        }
       }
      }
     },
     "metadata": {},
     "output_type": "display_data"
    }
   ],
   "source": [
    "# Graficamos el embudo del grupo A y comparamos proporciones\n",
    "fig = go.Figure(go.Funnel(\n",
    "    y = users_by_event_a.index,\n",
    "    x = users_by_event_a['n_users']))\n",
    "\n",
    "fig.show()"
   ]
  },
  {
   "cell_type": "markdown",
   "metadata": {},
   "source": [
    "Nuevamente contamos con diferencias en proporciones. Procedemos a analizar su significancia."
   ]
  },
  {
   "cell_type": "code",
   "execution_count": 63,
   "metadata": {},
   "outputs": [
    {
     "name": "stdout",
     "output_type": "stream",
     "text": [
      "El p_value para el OffersScreenAppear es: 0.5308589432077624\n",
      "El p_value para el CartScreenAppear es: 0.22404678803657152\n",
      "El p_value para el PaymentScreenSuccessful es: 0.6863094718086811\n",
      "El p_value para el Tutorial es: 0.8000968791071963\n"
     ]
    }
   ],
   "source": [
    "# Se prepara un bucle sobre los eventos\n",
    "results_a_248 = []\n",
    "for event in events:\n",
    "    if (event == 'MainScreenAppear'):\n",
    "        # Se guardan los usuarios totales en A\n",
    "        total_a = (users_by_event_a\n",
    "                     .loc[event, 'n_users'])\n",
    "        # Se guardan los usuarios totales en 248\n",
    "        total_248 = (users_by_event_248\n",
    "                     .loc[event, 'n_users'])\n",
    "        continue\n",
    "    else:\n",
    "        # Se prepara la muestra A para cada evento\n",
    "        samp_a = [users_by_event_a\n",
    "                    .loc[event, 'n_users'],\n",
    "                    total_a]\n",
    "        # Se prepara la muestra 248 para cada evento\n",
    "        samp_248 = [users_by_event_248\n",
    "                    .loc[event, 'n_users'],\n",
    "                    total_248]\n",
    "        \n",
    "        # Se obtienen los resultados para cada evento\n",
    "        results = stat_significance_proportions(samp_a, samp_248)\n",
    "        results_a_248.append(results)\n",
    "        \n",
    "        # Se imprimen los resultados para cada evento\n",
    "        print('El p_value para el {evento} es: {p}'.format(evento=event, p=results[1]))"
   ]
  },
  {
   "cell_type": "markdown",
   "metadata": {},
   "source": [
    "Finalmente, corroboramos que los p_values comparando las proporciones contra el grupo de control conjunto siguen siendo altos (superiores al 20%). \n",
    "\n",
    "No podemos decir que existen diferencias significativas entre los grupos de control y el grupo de testeo en cuanto a las proporciones de cada evento con respecto al total de usuarios iniciales en cada grupo."
   ]
  },
  {
   "cell_type": "markdown",
   "metadata": {},
   "source": [
    "Sin embargo, podemos analizar las proporciones respecto al evento anterior en la secuencia y observar si existe una diferencia en estas. Como estamos analizando la secuencia de los eventos, descartamos el tutorial del estudio. Así mismo, como ya analizamos las proporciones respecto a la pantalla principal, también debemos descartarla.\n",
    "\n",
    "Empezamos con el exp.246 vs exp.248 para los eventos restantes."
   ]
  },
  {
   "cell_type": "code",
   "execution_count": 73,
   "metadata": {},
   "outputs": [],
   "source": [
    "# Se define una función\n",
    "def proportions_from_event_to_event(event_a, event_b, control, test):\n",
    "    # Se prepara la muestra control\n",
    "    samp_control = [control.loc[event_b, 'n_users'],\n",
    "                    control.loc[event_a, 'n_users']]\n",
    "    # Se prepara la muestra a testear\n",
    "    samp_test = [test.loc[event_b, 'n_users'],\n",
    "                 test.loc[event_a, 'n_users']]\n",
    "    \n",
    "    # Se obtienen los resultados para estos eventos\n",
    "    results = stat_significance_proportions(samp_control, samp_test)\n",
    "\n",
    "    return results\n"
   ]
  },
  {
   "cell_type": "code",
   "execution_count": 75,
   "metadata": {},
   "outputs": [
    {
     "name": "stdout",
     "output_type": "stream",
     "text": [
      "El p_value para la proporcion del evento OffersScreenAppear al evento CartScreenAppear es: 0.2112170818054686\n"
     ]
    }
   ],
   "source": [
    "# Se preparan los eventos a analizar\n",
    "event_from = 'OffersScreenAppear'\n",
    "event_to = 'CartScreenAppear'\n",
    "\n",
    "# Se llama a la funcion\n",
    "results = proportions_from_event_to_event(event_from, event_to, users_by_event_246, users_by_event_248)\n",
    "\n",
    "# Se imprimen los resultados para el evento\n",
    "print('El p_value para la proporcion del evento {from_event} al evento {to_event} es: {p}'\n",
    "      .format(from_event=event_from, to_event=event_to, p=results[1]))"
   ]
  },
  {
   "cell_type": "code",
   "execution_count": 76,
   "metadata": {},
   "outputs": [
    {
     "name": "stdout",
     "output_type": "stream",
     "text": [
      "El p_value para la proporcion del evento CartScreenAppear al evento PaymentScreenSuccessful es: 0.14295341270419004\n"
     ]
    }
   ],
   "source": [
    "# Se preparan los eventos a analizar\n",
    "event_from = 'CartScreenAppear'\n",
    "event_to = 'PaymentScreenSuccessful'\n",
    "\n",
    "# Se llama a la funcion\n",
    "results = proportions_from_event_to_event(event_from, event_to, users_by_event_246, users_by_event_248)\n",
    "\n",
    "# Se imprimen los resultados para el evento\n",
    "print('El p_value para la proporcion del evento {from_event} al evento {to_event} es: {p}'\n",
    "      .format(from_event=event_from, to_event=event_to, p=results[1]))"
   ]
  },
  {
   "cell_type": "markdown",
   "metadata": {},
   "source": [
    "No se observan diferencias significativas. Seguimos con exp.247 vs exp.248."
   ]
  },
  {
   "cell_type": "markdown",
   "metadata": {},
   "source": [
    "### Nivel de significacion alpha"
   ]
  },
  {
   "cell_type": "markdown",
   "metadata": {},
   "source": [
    "En los anteriores analisis, no hemos establecido un nivel de significacion alpha per se. Solo nos hemos limitado a observar los valores de los p_value. Sin embargo, dados los altos palores de los p_value, no se determinó necesario hacerlo. \n",
    "\n",
    "Esto es debido a que cualquier valor alpha estándar establecido (0.1 o 0.05) hubiera dado el mismo resultado: no podemos rechazar la hipotesis nula, las proporciones observadas son muy similares.\n",
    "\n",
    "La única instancia en la que un p_value podria ser menor que un alpha estandar de 10% fue al comparar las proporcion de usuarios que llegaba a la pantalla del carrito entre el grupo de control 246 y el grupo de testeo. Incluso en esta instancia, el p_value es de 0.1006, superior a 0.1.\n",
    "\n",
    "Si quisieramos concluir que existe una diferencia significativa entre el grupo de testeo y el grupo de control, tendriamos que establecer un alpha bastante alto; 0.3 por ejemplo. Con un alpha tan alto, entre 3 y 4 de nuestros 12 resultados podrian ser falsos, lo cual se considera inaceptable."
   ]
  },
  {
   "cell_type": "markdown",
   "metadata": {},
   "source": [
    "<div class=\"alert alert-block alert-warning\">\n",
    "<b>Comentario de Reviewer</b> <a class=\"tocSkip\"></a>\n",
    "\n",
    "Ok, bien con la respuesta, pero esta parte apunta a la corrección de bonferroni:\n",
    "    \n",
    "Un valor de significancia de $0.05$, indica una probabilidad de $0.05$ de cometer error tipo I (rechazar la hipótesis nula dado que es cierta). Esto también se puede ver como el complemento de no cometer el error, es decir $1-(0.95)$.     \n",
    "\n",
    "Si realizamos dos test, la probabilidad de cometer un error tipo I en alguno de los dos test es el complemento de no cometer error en ninguno, es decir $1-(0.95)*(0.95)=0.0975$. Esto último es la significancia conjunta de todos los tests, nota que es mucho mayor que el 0.05 de un solo test.\n",
    "    \n",
    "Si realizamos tres test, la probabilidad de cometer un error tipo I en alguno de los 3 test es $1-(0.95)*(0.95)*(0.95)=1-(0.95)^3=0.142625$. Nota que va aumentando respecto a uno o dos tests.\n",
    "    \n",
    "En general si hacemos m tests, todos con nivel de significancia $\\alpha$, entonces la significancia conjunta es $1-(1-\\alpha)^m$. Como la significancia conjunta aumenta, sucede que si quisieramos un valor de significancia conjunta de 0.05 para todos los test, deberíamos escoger un nivel de significancia menor para cada uno. La aproximación de bonferroni da un valor que sirve para esto: $\\frac{0.05}{m}$. En general si queremos que el nivel de significancia conjunta sea $\\alpha$, podemos escoger $\\frac{\\alpha}{m}$. \n",
    "    \n",
    "</div>"
   ]
  },
  {
   "cell_type": "markdown",
   "metadata": {},
   "source": [
    "### Conclisiones\n",
    " - Los grupos de control cuentan con proporciones similares entre ellos\n",
    " - El grupo de testeo cuenta con proporciones similares con cada grupo de control\n",
    " - El grupo de testeo cuenta con proporciones similares con ambos grupos de control en conjunto\n",
    " - No se encuentran diferencias significativas entre el grupo de testeo y los de control"
   ]
  },
  {
   "cell_type": "markdown",
   "metadata": {},
   "source": [
    "## Conclusion"
   ]
  },
  {
   "cell_type": "markdown",
   "metadata": {},
   "source": [
    "- Los usuarios fueron divididos correctamente en 3 grupos\n",
    "- Los tres grupos presentan comportamientos similares\n",
    "- Solo 1 de cada 10 usuarios hace el tutorial\n",
    "- Solo 1 de cada 2 usuarios llega a la etapa de compra\n",
    "- La etapa de mayor perdida de usuarios es de la pantalla de inicio a la de ofertas (aprox. 40%)\n",
    "- 9 de cada 10 usuarios que llegan al carrito terminan la compra "
   ]
  },
  {
   "cell_type": "markdown",
   "metadata": {},
   "source": []
  }
 ],
 "metadata": {
  "ExecuteTimeLog": [
   {
    "duration": 5027,
    "start_time": "2024-05-17T01:42:24.894Z"
   },
   {
    "duration": 338,
    "start_time": "2024-05-17T01:43:05.270Z"
   },
   {
    "duration": 177,
    "start_time": "2024-05-17T01:44:03.607Z"
   },
   {
    "duration": 24,
    "start_time": "2024-05-17T01:44:42.866Z"
   },
   {
    "duration": 12,
    "start_time": "2024-05-17T01:50:15.983Z"
   },
   {
    "duration": 14,
    "start_time": "2024-05-17T01:50:22.027Z"
   },
   {
    "duration": 43,
    "start_time": "2024-05-17T01:53:13.607Z"
   },
   {
    "duration": 26,
    "start_time": "2024-05-17T01:53:34.368Z"
   },
   {
    "duration": 38,
    "start_time": "2024-05-17T01:55:56.224Z"
   },
   {
    "duration": 8,
    "start_time": "2024-05-17T01:56:26.824Z"
   },
   {
    "duration": 14,
    "start_time": "2024-05-17T01:56:32.474Z"
   },
   {
    "duration": 55,
    "start_time": "2024-05-17T01:58:04.160Z"
   },
   {
    "duration": 6,
    "start_time": "2024-05-17T01:58:40.903Z"
   },
   {
    "duration": 7,
    "start_time": "2024-05-17T01:58:51.073Z"
   },
   {
    "duration": 1377,
    "start_time": "2024-05-17T02:00:23.930Z"
   },
   {
    "duration": 199,
    "start_time": "2024-05-17T02:00:25.311Z"
   },
   {
    "duration": 34,
    "start_time": "2024-05-17T02:00:25.513Z"
   },
   {
    "duration": 12,
    "start_time": "2024-05-17T02:00:25.552Z"
   },
   {
    "duration": 27,
    "start_time": "2024-05-17T02:00:25.569Z"
   },
   {
    "duration": 68,
    "start_time": "2024-05-17T02:00:25.599Z"
   },
   {
    "duration": 70,
    "start_time": "2024-05-17T02:00:25.671Z"
   },
   {
    "duration": 7,
    "start_time": "2024-05-17T02:00:25.744Z"
   },
   {
    "duration": 9,
    "start_time": "2024-05-17T02:00:25.754Z"
   },
   {
    "duration": 6008,
    "start_time": "2024-05-18T00:49:25.780Z"
   },
   {
    "duration": 225,
    "start_time": "2024-05-18T00:49:31.792Z"
   },
   {
    "duration": 26,
    "start_time": "2024-05-18T00:49:32.025Z"
   },
   {
    "duration": 12,
    "start_time": "2024-05-18T00:49:32.054Z"
   },
   {
    "duration": 59,
    "start_time": "2024-05-18T00:49:32.071Z"
   },
   {
    "duration": 40,
    "start_time": "2024-05-18T00:49:32.133Z"
   },
   {
    "duration": 70,
    "start_time": "2024-05-18T00:49:32.176Z"
   },
   {
    "duration": 6,
    "start_time": "2024-05-18T00:49:32.249Z"
   },
   {
    "duration": 7,
    "start_time": "2024-05-18T00:49:32.258Z"
   },
   {
    "duration": 563,
    "start_time": "2024-05-18T00:51:42.938Z"
   },
   {
    "duration": 80,
    "start_time": "2024-05-18T00:51:49.316Z"
   },
   {
    "duration": 48,
    "start_time": "2024-05-18T00:52:02.722Z"
   },
   {
    "duration": 63,
    "start_time": "2024-05-18T00:53:08.634Z"
   },
   {
    "duration": 50,
    "start_time": "2024-05-18T00:54:12.674Z"
   },
   {
    "duration": 26,
    "start_time": "2024-05-18T00:54:39.223Z"
   },
   {
    "duration": 50,
    "start_time": "2024-05-18T00:54:44.456Z"
   },
   {
    "duration": 9,
    "start_time": "2024-05-18T00:55:24.776Z"
   },
   {
    "duration": 6,
    "start_time": "2024-05-18T00:55:31.951Z"
   },
   {
    "duration": 9,
    "start_time": "2024-05-18T00:55:45.408Z"
   },
   {
    "duration": 10,
    "start_time": "2024-05-18T00:55:56.492Z"
   },
   {
    "duration": 9,
    "start_time": "2024-05-18T00:56:04.164Z"
   },
   {
    "duration": 8,
    "start_time": "2024-05-18T00:56:11.967Z"
   },
   {
    "duration": 9,
    "start_time": "2024-05-18T00:56:47.091Z"
   },
   {
    "duration": 10,
    "start_time": "2024-05-18T00:56:53.216Z"
   },
   {
    "duration": 8,
    "start_time": "2024-05-18T00:57:07.028Z"
   },
   {
    "duration": 8,
    "start_time": "2024-05-18T00:57:11.002Z"
   },
   {
    "duration": 8,
    "start_time": "2024-05-18T00:57:15.476Z"
   },
   {
    "duration": 7,
    "start_time": "2024-05-18T00:57:19.532Z"
   },
   {
    "duration": 8,
    "start_time": "2024-05-18T00:57:23.571Z"
   },
   {
    "duration": 10,
    "start_time": "2024-05-18T00:57:27.813Z"
   },
   {
    "duration": 9,
    "start_time": "2024-05-18T00:59:15.744Z"
   },
   {
    "duration": 7,
    "start_time": "2024-05-18T00:59:19.239Z"
   },
   {
    "duration": 61,
    "start_time": "2024-05-18T01:06:37.636Z"
   },
   {
    "duration": 60,
    "start_time": "2024-05-18T01:06:58.319Z"
   },
   {
    "duration": 135,
    "start_time": "2024-05-18T01:08:29.357Z"
   },
   {
    "duration": 37,
    "start_time": "2024-05-18T01:13:27.112Z"
   },
   {
    "duration": 39,
    "start_time": "2024-05-18T01:14:13.151Z"
   },
   {
    "duration": 28,
    "start_time": "2024-05-18T01:15:09.522Z"
   },
   {
    "duration": 54,
    "start_time": "2024-05-18T01:15:25.276Z"
   },
   {
    "duration": 33,
    "start_time": "2024-05-18T01:15:32.526Z"
   },
   {
    "duration": 34,
    "start_time": "2024-05-18T01:15:43.649Z"
   },
   {
    "duration": 28,
    "start_time": "2024-05-18T01:16:21.837Z"
   },
   {
    "duration": 39,
    "start_time": "2024-05-18T01:16:26.736Z"
   },
   {
    "duration": 7,
    "start_time": "2024-05-18T01:17:09.600Z"
   },
   {
    "duration": 5,
    "start_time": "2024-05-18T01:17:14.776Z"
   },
   {
    "duration": 5025,
    "start_time": "2024-05-18T01:18:17.561Z"
   },
   {
    "duration": 207,
    "start_time": "2024-05-18T01:18:56.248Z"
   },
   {
    "duration": 210,
    "start_time": "2024-05-18T01:20:11.080Z"
   },
   {
    "duration": 300,
    "start_time": "2024-05-18T01:20:22.288Z"
   },
   {
    "duration": 244,
    "start_time": "2024-05-18T01:20:54.451Z"
   },
   {
    "duration": 231,
    "start_time": "2024-05-18T01:21:06.706Z"
   },
   {
    "duration": 34,
    "start_time": "2024-05-18T01:24:32.725Z"
   },
   {
    "duration": 12,
    "start_time": "2024-05-18T01:24:38.205Z"
   },
   {
    "duration": 9,
    "start_time": "2024-05-18T01:25:09.651Z"
   },
   {
    "duration": 44,
    "start_time": "2024-05-18T01:27:15.672Z"
   },
   {
    "duration": 40,
    "start_time": "2024-05-18T01:27:35.577Z"
   },
   {
    "duration": 37,
    "start_time": "2024-05-18T01:28:24.798Z"
   },
   {
    "duration": 39,
    "start_time": "2024-05-18T01:28:36.428Z"
   },
   {
    "duration": 236,
    "start_time": "2024-05-18T01:29:59.370Z"
   },
   {
    "duration": 224,
    "start_time": "2024-05-18T01:30:13.244Z"
   },
   {
    "duration": 397,
    "start_time": "2024-05-18T01:30:20.781Z"
   },
   {
    "duration": 399,
    "start_time": "2024-05-18T01:30:38.471Z"
   },
   {
    "duration": 42,
    "start_time": "2024-05-18T01:30:54.376Z"
   },
   {
    "duration": 44,
    "start_time": "2024-05-18T01:31:48.320Z"
   },
   {
    "duration": 562,
    "start_time": "2024-05-18T01:33:02.787Z"
   },
   {
    "duration": 1225,
    "start_time": "2024-05-18T01:33:20.160Z"
   },
   {
    "duration": 35,
    "start_time": "2024-05-18T01:33:40.468Z"
   },
   {
    "duration": 39,
    "start_time": "2024-05-18T01:33:59.719Z"
   },
   {
    "duration": 1490,
    "start_time": "2024-05-18T01:34:40.928Z"
   },
   {
    "duration": 1087,
    "start_time": "2024-05-18T01:34:45.918Z"
   },
   {
    "duration": 1280,
    "start_time": "2024-05-18T01:34:54.019Z"
   },
   {
    "duration": 1085,
    "start_time": "2024-05-18T01:36:03.665Z"
   },
   {
    "duration": 1309,
    "start_time": "2024-05-18T01:37:00.630Z"
   },
   {
    "duration": 38,
    "start_time": "2024-05-18T01:37:27.046Z"
   },
   {
    "duration": 1414,
    "start_time": "2024-05-18T01:39:09.162Z"
   },
   {
    "duration": 201,
    "start_time": "2024-05-18T01:39:10.579Z"
   },
   {
    "duration": 26,
    "start_time": "2024-05-18T01:39:10.784Z"
   },
   {
    "duration": 24,
    "start_time": "2024-05-18T01:39:10.813Z"
   },
   {
    "duration": 27,
    "start_time": "2024-05-18T01:39:10.843Z"
   },
   {
    "duration": 72,
    "start_time": "2024-05-18T01:39:10.873Z"
   },
   {
    "duration": 78,
    "start_time": "2024-05-18T01:39:10.949Z"
   },
   {
    "duration": 1349,
    "start_time": "2024-05-18T01:39:11.030Z"
   },
   {
    "duration": 0,
    "start_time": "2024-05-18T01:39:12.382Z"
   },
   {
    "duration": 0,
    "start_time": "2024-05-18T01:39:12.383Z"
   },
   {
    "duration": 0,
    "start_time": "2024-05-18T01:39:12.386Z"
   },
   {
    "duration": 0,
    "start_time": "2024-05-18T01:39:12.389Z"
   },
   {
    "duration": 0,
    "start_time": "2024-05-18T01:39:12.391Z"
   },
   {
    "duration": 0,
    "start_time": "2024-05-18T01:39:12.393Z"
   },
   {
    "duration": 102,
    "start_time": "2024-05-18T01:45:00.402Z"
   },
   {
    "duration": 1412,
    "start_time": "2024-05-18T01:45:11.779Z"
   },
   {
    "duration": 203,
    "start_time": "2024-05-18T01:45:13.195Z"
   },
   {
    "duration": 38,
    "start_time": "2024-05-18T01:45:13.402Z"
   },
   {
    "duration": 13,
    "start_time": "2024-05-18T01:45:13.443Z"
   },
   {
    "duration": 28,
    "start_time": "2024-05-18T01:45:13.461Z"
   },
   {
    "duration": 74,
    "start_time": "2024-05-18T01:45:13.492Z"
   },
   {
    "duration": 91,
    "start_time": "2024-05-18T01:45:13.569Z"
   },
   {
    "duration": 105,
    "start_time": "2024-05-18T01:45:13.662Z"
   },
   {
    "duration": 62,
    "start_time": "2024-05-18T01:45:13.770Z"
   },
   {
    "duration": 269,
    "start_time": "2024-05-18T01:45:13.836Z"
   },
   {
    "duration": 5,
    "start_time": "2024-05-18T01:45:14.108Z"
   },
   {
    "duration": 18,
    "start_time": "2024-05-18T01:45:14.127Z"
   },
   {
    "duration": 38,
    "start_time": "2024-05-18T01:45:14.147Z"
   },
   {
    "duration": 1172,
    "start_time": "2024-05-18T01:45:14.226Z"
   },
   {
    "duration": 5154,
    "start_time": "2024-05-18T03:28:59.592Z"
   },
   {
    "duration": 238,
    "start_time": "2024-05-18T03:29:04.750Z"
   },
   {
    "duration": 38,
    "start_time": "2024-05-18T03:29:04.991Z"
   },
   {
    "duration": 12,
    "start_time": "2024-05-18T03:29:05.033Z"
   },
   {
    "duration": 28,
    "start_time": "2024-05-18T03:29:05.048Z"
   },
   {
    "duration": 75,
    "start_time": "2024-05-18T03:29:05.079Z"
   },
   {
    "duration": 80,
    "start_time": "2024-05-18T03:29:05.157Z"
   },
   {
    "duration": 107,
    "start_time": "2024-05-18T03:29:05.240Z"
   },
   {
    "duration": 39,
    "start_time": "2024-05-18T03:29:05.350Z"
   },
   {
    "duration": 301,
    "start_time": "2024-05-18T03:29:05.395Z"
   },
   {
    "duration": 5,
    "start_time": "2024-05-18T03:29:05.699Z"
   },
   {
    "duration": 11,
    "start_time": "2024-05-18T03:29:05.726Z"
   },
   {
    "duration": 37,
    "start_time": "2024-05-18T03:29:05.740Z"
   },
   {
    "duration": 1097,
    "start_time": "2024-05-18T03:29:05.780Z"
   },
   {
    "duration": 22,
    "start_time": "2024-05-18T03:30:00.509Z"
   },
   {
    "duration": 20,
    "start_time": "2024-05-18T03:30:21.515Z"
   },
   {
    "duration": 20,
    "start_time": "2024-05-18T03:30:44.557Z"
   },
   {
    "duration": 21,
    "start_time": "2024-05-18T03:30:51.724Z"
   },
   {
    "duration": 597,
    "start_time": "2024-05-18T03:33:00.376Z"
   },
   {
    "duration": 497,
    "start_time": "2024-05-18T03:34:03.729Z"
   },
   {
    "duration": 592,
    "start_time": "2024-05-18T03:34:09.240Z"
   },
   {
    "duration": 506,
    "start_time": "2024-05-18T03:34:23.235Z"
   },
   {
    "duration": 518,
    "start_time": "2024-05-18T03:36:06.985Z"
   },
   {
    "duration": 821,
    "start_time": "2024-05-18T03:36:20.878Z"
   },
   {
    "duration": 530,
    "start_time": "2024-05-18T03:36:34.478Z"
   },
   {
    "duration": 1014,
    "start_time": "2024-05-18T03:38:42.754Z"
   },
   {
    "duration": 697,
    "start_time": "2024-05-18T03:39:20.132Z"
   },
   {
    "duration": 693,
    "start_time": "2024-05-18T03:39:33.013Z"
   },
   {
    "duration": 576,
    "start_time": "2024-05-18T03:39:42.979Z"
   },
   {
    "duration": 680,
    "start_time": "2024-05-18T03:39:49.867Z"
   },
   {
    "duration": 21,
    "start_time": "2024-05-18T03:40:07.765Z"
   },
   {
    "duration": 573,
    "start_time": "2024-05-18T03:43:48.564Z"
   },
   {
    "duration": 75,
    "start_time": "2024-05-18T03:46:24.037Z"
   },
   {
    "duration": 578,
    "start_time": "2024-05-18T03:48:34.048Z"
   },
   {
    "duration": 45,
    "start_time": "2024-05-18T03:49:09.184Z"
   },
   {
    "duration": 33,
    "start_time": "2024-05-18T03:49:45.606Z"
   },
   {
    "duration": 445,
    "start_time": "2024-05-18T03:51:04.122Z"
   },
   {
    "duration": 50,
    "start_time": "2024-05-18T03:53:16.074Z"
   },
   {
    "duration": 70,
    "start_time": "2024-05-18T03:53:28.864Z"
   },
   {
    "duration": 76,
    "start_time": "2024-05-18T03:54:00.248Z"
   },
   {
    "duration": 212,
    "start_time": "2024-05-18T03:55:00.869Z"
   },
   {
    "duration": 73,
    "start_time": "2024-05-18T03:55:26.525Z"
   },
   {
    "duration": 55,
    "start_time": "2024-05-18T03:55:37.045Z"
   },
   {
    "duration": 53,
    "start_time": "2024-05-18T03:55:44.965Z"
   },
   {
    "duration": 1552,
    "start_time": "2024-05-18T03:58:00.940Z"
   },
   {
    "duration": 207,
    "start_time": "2024-05-18T03:58:02.495Z"
   },
   {
    "duration": 47,
    "start_time": "2024-05-18T03:58:02.708Z"
   },
   {
    "duration": 14,
    "start_time": "2024-05-18T03:58:02.760Z"
   },
   {
    "duration": 57,
    "start_time": "2024-05-18T03:58:02.781Z"
   },
   {
    "duration": 53,
    "start_time": "2024-05-18T03:58:02.842Z"
   },
   {
    "duration": 94,
    "start_time": "2024-05-18T03:58:02.899Z"
   },
   {
    "duration": 144,
    "start_time": "2024-05-18T03:58:02.996Z"
   },
   {
    "duration": 49,
    "start_time": "2024-05-18T03:58:03.144Z"
   },
   {
    "duration": 282,
    "start_time": "2024-05-18T03:58:03.196Z"
   },
   {
    "duration": 6,
    "start_time": "2024-05-18T03:58:03.481Z"
   },
   {
    "duration": 37,
    "start_time": "2024-05-18T03:58:03.490Z"
   },
   {
    "duration": 39,
    "start_time": "2024-05-18T03:58:03.530Z"
   },
   {
    "duration": 1223,
    "start_time": "2024-05-18T03:58:03.575Z"
   },
   {
    "duration": 29,
    "start_time": "2024-05-18T03:58:04.802Z"
   },
   {
    "duration": 23,
    "start_time": "2024-05-18T03:58:04.837Z"
   },
   {
    "duration": 673,
    "start_time": "2024-05-18T03:58:04.864Z"
   },
   {
    "duration": 50,
    "start_time": "2024-05-18T03:58:05.540Z"
   },
   {
    "duration": 88,
    "start_time": "2024-05-18T03:58:05.594Z"
   },
   {
    "duration": 5465,
    "start_time": "2024-05-18T19:33:19.788Z"
   },
   {
    "duration": 276,
    "start_time": "2024-05-18T19:33:25.257Z"
   },
   {
    "duration": 28,
    "start_time": "2024-05-18T19:33:25.543Z"
   },
   {
    "duration": 13,
    "start_time": "2024-05-18T19:33:25.575Z"
   },
   {
    "duration": 53,
    "start_time": "2024-05-18T19:33:25.595Z"
   },
   {
    "duration": 54,
    "start_time": "2024-05-18T19:33:25.651Z"
   },
   {
    "duration": 103,
    "start_time": "2024-05-18T19:33:25.708Z"
   },
   {
    "duration": 131,
    "start_time": "2024-05-18T19:33:25.814Z"
   },
   {
    "duration": 53,
    "start_time": "2024-05-18T19:33:25.948Z"
   },
   {
    "duration": 292,
    "start_time": "2024-05-18T19:33:26.009Z"
   },
   {
    "duration": 6,
    "start_time": "2024-05-18T19:33:26.306Z"
   },
   {
    "duration": 35,
    "start_time": "2024-05-18T19:33:26.316Z"
   },
   {
    "duration": 58,
    "start_time": "2024-05-18T19:33:26.359Z"
   },
   {
    "duration": 1608,
    "start_time": "2024-05-18T19:33:26.423Z"
   },
   {
    "duration": 47,
    "start_time": "2024-05-18T19:33:28.034Z"
   },
   {
    "duration": 28,
    "start_time": "2024-05-18T19:33:28.085Z"
   },
   {
    "duration": 892,
    "start_time": "2024-05-18T19:33:28.133Z"
   },
   {
    "duration": 54,
    "start_time": "2024-05-18T19:33:29.034Z"
   },
   {
    "duration": 89,
    "start_time": "2024-05-18T19:33:29.092Z"
   },
   {
    "duration": 7,
    "start_time": "2024-05-18T19:34:18.192Z"
   },
   {
    "duration": 7,
    "start_time": "2024-05-18T19:34:37.110Z"
   },
   {
    "duration": 4,
    "start_time": "2024-05-18T19:34:40.267Z"
   },
   {
    "duration": 4,
    "start_time": "2024-05-18T19:35:12.389Z"
   },
   {
    "duration": 4,
    "start_time": "2024-05-18T19:35:40.333Z"
   },
   {
    "duration": 11,
    "start_time": "2024-05-18T19:36:26.241Z"
   },
   {
    "duration": 10,
    "start_time": "2024-05-18T19:36:45.152Z"
   },
   {
    "duration": 11,
    "start_time": "2024-05-18T19:37:05.953Z"
   },
   {
    "duration": 14,
    "start_time": "2024-05-18T19:37:12.467Z"
   },
   {
    "duration": 3,
    "start_time": "2024-05-18T19:43:18.996Z"
   },
   {
    "duration": 21,
    "start_time": "2024-05-18T19:43:26.281Z"
   },
   {
    "duration": 34,
    "start_time": "2024-05-18T19:43:45.542Z"
   },
   {
    "duration": 41,
    "start_time": "2024-05-18T19:44:27.014Z"
   },
   {
    "duration": 40,
    "start_time": "2024-05-18T19:45:00.555Z"
   },
   {
    "duration": 39,
    "start_time": "2024-05-18T19:45:04.975Z"
   },
   {
    "duration": 45,
    "start_time": "2024-05-18T19:46:01.124Z"
   },
   {
    "duration": 156,
    "start_time": "2024-05-18T19:47:31.484Z"
   },
   {
    "duration": 184,
    "start_time": "2024-05-18T19:48:32.032Z"
   },
   {
    "duration": 1374,
    "start_time": "2024-05-18T19:49:03.696Z"
   },
   {
    "duration": 194,
    "start_time": "2024-05-18T19:49:05.074Z"
   },
   {
    "duration": 27,
    "start_time": "2024-05-18T19:49:05.271Z"
   },
   {
    "duration": 32,
    "start_time": "2024-05-18T19:49:05.301Z"
   },
   {
    "duration": 28,
    "start_time": "2024-05-18T19:49:05.338Z"
   },
   {
    "duration": 69,
    "start_time": "2024-05-18T19:49:05.369Z"
   },
   {
    "duration": 62,
    "start_time": "2024-05-18T19:49:05.441Z"
   },
   {
    "duration": 136,
    "start_time": "2024-05-18T19:49:05.506Z"
   },
   {
    "duration": 52,
    "start_time": "2024-05-18T19:49:05.648Z"
   },
   {
    "duration": 293,
    "start_time": "2024-05-18T19:49:05.706Z"
   },
   {
    "duration": 5,
    "start_time": "2024-05-18T19:49:06.003Z"
   },
   {
    "duration": 11,
    "start_time": "2024-05-18T19:49:06.030Z"
   },
   {
    "duration": 37,
    "start_time": "2024-05-18T19:49:06.044Z"
   },
   {
    "duration": 1160,
    "start_time": "2024-05-18T19:49:06.086Z"
   },
   {
    "duration": 20,
    "start_time": "2024-05-18T19:49:07.249Z"
   },
   {
    "duration": 20,
    "start_time": "2024-05-18T19:49:07.273Z"
   },
   {
    "duration": 607,
    "start_time": "2024-05-18T19:49:07.296Z"
   },
   {
    "duration": 51,
    "start_time": "2024-05-18T19:49:07.905Z"
   },
   {
    "duration": 79,
    "start_time": "2024-05-18T19:49:07.960Z"
   },
   {
    "duration": 5,
    "start_time": "2024-05-18T19:49:08.043Z"
   },
   {
    "duration": 4,
    "start_time": "2024-05-18T19:49:08.051Z"
   },
   {
    "duration": 5,
    "start_time": "2024-05-18T19:49:08.058Z"
   },
   {
    "duration": 10,
    "start_time": "2024-05-18T19:49:08.066Z"
   },
   {
    "duration": 58,
    "start_time": "2024-05-18T19:49:08.079Z"
   },
   {
    "duration": 15,
    "start_time": "2024-05-18T19:49:08.141Z"
   },
   {
    "duration": 72,
    "start_time": "2024-05-18T19:49:08.158Z"
   },
   {
    "duration": 190,
    "start_time": "2024-05-18T19:49:08.234Z"
   },
   {
    "duration": 5238,
    "start_time": "2024-05-20T18:37:15.518Z"
   },
   {
    "duration": 261,
    "start_time": "2024-05-20T18:37:20.762Z"
   },
   {
    "duration": 28,
    "start_time": "2024-05-20T18:37:21.027Z"
   },
   {
    "duration": 18,
    "start_time": "2024-05-20T18:37:21.061Z"
   },
   {
    "duration": 53,
    "start_time": "2024-05-20T18:37:21.082Z"
   },
   {
    "duration": 44,
    "start_time": "2024-05-20T18:37:21.139Z"
   },
   {
    "duration": 94,
    "start_time": "2024-05-20T18:37:21.186Z"
   },
   {
    "duration": 114,
    "start_time": "2024-05-20T18:37:21.283Z"
   },
   {
    "duration": 52,
    "start_time": "2024-05-20T18:37:21.400Z"
   },
   {
    "duration": 270,
    "start_time": "2024-05-20T18:37:21.473Z"
   },
   {
    "duration": 5,
    "start_time": "2024-05-20T18:37:21.747Z"
   },
   {
    "duration": 13,
    "start_time": "2024-05-20T18:37:21.759Z"
   },
   {
    "duration": 71,
    "start_time": "2024-05-20T18:37:21.776Z"
   },
   {
    "duration": 1087,
    "start_time": "2024-05-20T18:37:21.851Z"
   },
   {
    "duration": 20,
    "start_time": "2024-05-20T18:37:22.942Z"
   },
   {
    "duration": 22,
    "start_time": "2024-05-20T18:37:22.966Z"
   },
   {
    "duration": 743,
    "start_time": "2024-05-20T18:37:22.991Z"
   },
   {
    "duration": 52,
    "start_time": "2024-05-20T18:37:23.738Z"
   },
   {
    "duration": 75,
    "start_time": "2024-05-20T18:37:23.794Z"
   },
   {
    "duration": 6,
    "start_time": "2024-05-20T18:37:23.873Z"
   },
   {
    "duration": 5,
    "start_time": "2024-05-20T18:37:23.883Z"
   },
   {
    "duration": 35,
    "start_time": "2024-05-20T18:37:23.894Z"
   },
   {
    "duration": 12,
    "start_time": "2024-05-20T18:37:23.933Z"
   },
   {
    "duration": 11,
    "start_time": "2024-05-20T18:37:23.949Z"
   },
   {
    "duration": 60,
    "start_time": "2024-05-20T18:37:23.965Z"
   },
   {
    "duration": 50,
    "start_time": "2024-05-20T18:37:24.032Z"
   },
   {
    "duration": 217,
    "start_time": "2024-05-20T18:37:24.085Z"
   },
   {
    "duration": 22,
    "start_time": "2024-05-20T18:38:13.929Z"
   },
   {
    "duration": 11,
    "start_time": "2024-05-20T18:38:31.163Z"
   },
   {
    "duration": 22,
    "start_time": "2024-05-20T18:40:41.556Z"
   },
   {
    "duration": 51,
    "start_time": "2024-05-20T18:41:14.842Z"
   },
   {
    "duration": 52,
    "start_time": "2024-05-20T18:41:35.211Z"
   },
   {
    "duration": 52,
    "start_time": "2024-05-20T18:41:41.479Z"
   },
   {
    "duration": 46,
    "start_time": "2024-05-20T18:45:48.213Z"
   },
   {
    "duration": 53,
    "start_time": "2024-05-20T18:45:53.080Z"
   },
   {
    "duration": 513,
    "start_time": "2024-05-20T18:46:25.493Z"
   },
   {
    "duration": 838,
    "start_time": "2024-05-20T18:46:35.453Z"
   },
   {
    "duration": 51,
    "start_time": "2024-05-20T18:46:46.025Z"
   },
   {
    "duration": 11,
    "start_time": "2024-05-20T18:47:19.344Z"
   },
   {
    "duration": 17,
    "start_time": "2024-05-20T18:49:04.564Z"
   },
   {
    "duration": 11,
    "start_time": "2024-05-20T18:56:04.364Z"
   },
   {
    "duration": 226,
    "start_time": "2024-05-20T19:03:58.659Z"
   },
   {
    "duration": 1492,
    "start_time": "2024-05-20T19:04:47.211Z"
   },
   {
    "duration": 201,
    "start_time": "2024-05-20T19:04:48.707Z"
   },
   {
    "duration": 28,
    "start_time": "2024-05-20T19:04:48.911Z"
   },
   {
    "duration": 13,
    "start_time": "2024-05-20T19:04:48.942Z"
   },
   {
    "duration": 28,
    "start_time": "2024-05-20T19:04:48.960Z"
   },
   {
    "duration": 49,
    "start_time": "2024-05-20T19:04:49.027Z"
   },
   {
    "duration": 92,
    "start_time": "2024-05-20T19:04:49.079Z"
   },
   {
    "duration": 105,
    "start_time": "2024-05-20T19:04:49.174Z"
   },
   {
    "duration": 58,
    "start_time": "2024-05-20T19:04:49.282Z"
   },
   {
    "duration": 272,
    "start_time": "2024-05-20T19:04:49.344Z"
   },
   {
    "duration": 10,
    "start_time": "2024-05-20T19:04:49.619Z"
   },
   {
    "duration": 13,
    "start_time": "2024-05-20T19:04:49.634Z"
   },
   {
    "duration": 76,
    "start_time": "2024-05-20T19:04:49.651Z"
   },
   {
    "duration": 1197,
    "start_time": "2024-05-20T19:04:49.735Z"
   },
   {
    "duration": 21,
    "start_time": "2024-05-20T19:04:50.935Z"
   },
   {
    "duration": 20,
    "start_time": "2024-05-20T19:04:50.960Z"
   },
   {
    "duration": 631,
    "start_time": "2024-05-20T19:04:50.983Z"
   },
   {
    "duration": 40,
    "start_time": "2024-05-20T19:04:51.626Z"
   },
   {
    "duration": 74,
    "start_time": "2024-05-20T19:04:51.670Z"
   },
   {
    "duration": 5,
    "start_time": "2024-05-20T19:04:51.747Z"
   },
   {
    "duration": 5,
    "start_time": "2024-05-20T19:04:51.756Z"
   },
   {
    "duration": 4,
    "start_time": "2024-05-20T19:04:51.764Z"
   },
   {
    "duration": 9,
    "start_time": "2024-05-20T19:04:51.771Z"
   },
   {
    "duration": 9,
    "start_time": "2024-05-20T19:04:51.827Z"
   },
   {
    "duration": 12,
    "start_time": "2024-05-20T19:04:51.839Z"
   },
   {
    "duration": 77,
    "start_time": "2024-05-20T19:04:51.854Z"
   },
   {
    "duration": 191,
    "start_time": "2024-05-20T19:04:51.935Z"
   },
   {
    "duration": 9,
    "start_time": "2024-05-20T19:04:52.130Z"
   },
   {
    "duration": 52,
    "start_time": "2024-05-20T19:04:52.142Z"
   },
   {
    "duration": 42,
    "start_time": "2024-05-20T19:04:52.197Z"
   },
   {
    "duration": 368,
    "start_time": "2024-05-20T19:04:52.246Z"
   },
   {
    "duration": 11,
    "start_time": "2024-05-20T19:04:52.625Z"
   },
   {
    "duration": 4969,
    "start_time": "2024-05-21T01:32:40.283Z"
   },
   {
    "duration": 226,
    "start_time": "2024-05-21T01:32:45.256Z"
   },
   {
    "duration": 34,
    "start_time": "2024-05-21T01:32:45.485Z"
   },
   {
    "duration": 12,
    "start_time": "2024-05-21T01:32:45.525Z"
   },
   {
    "duration": 26,
    "start_time": "2024-05-21T01:32:45.540Z"
   },
   {
    "duration": 69,
    "start_time": "2024-05-21T01:32:45.569Z"
   },
   {
    "duration": 77,
    "start_time": "2024-05-21T01:32:45.641Z"
   },
   {
    "duration": 104,
    "start_time": "2024-05-21T01:32:45.721Z"
   },
   {
    "duration": 35,
    "start_time": "2024-05-21T01:32:45.828Z"
   },
   {
    "duration": 264,
    "start_time": "2024-05-21T01:32:45.869Z"
   },
   {
    "duration": 5,
    "start_time": "2024-05-21T01:32:46.136Z"
   },
   {
    "duration": 11,
    "start_time": "2024-05-21T01:32:46.144Z"
   },
   {
    "duration": 72,
    "start_time": "2024-05-21T01:32:46.157Z"
   },
   {
    "duration": 1133,
    "start_time": "2024-05-21T01:32:46.232Z"
   },
   {
    "duration": 21,
    "start_time": "2024-05-21T01:32:47.368Z"
   },
   {
    "duration": 21,
    "start_time": "2024-05-21T01:32:47.407Z"
   },
   {
    "duration": 589,
    "start_time": "2024-05-21T01:32:47.431Z"
   },
   {
    "duration": 42,
    "start_time": "2024-05-21T01:32:48.023Z"
   },
   {
    "duration": 82,
    "start_time": "2024-05-21T01:32:48.068Z"
   },
   {
    "duration": 4,
    "start_time": "2024-05-21T01:32:48.155Z"
   },
   {
    "duration": 5,
    "start_time": "2024-05-21T01:32:48.163Z"
   },
   {
    "duration": 5,
    "start_time": "2024-05-21T01:32:48.172Z"
   },
   {
    "duration": 12,
    "start_time": "2024-05-21T01:32:48.209Z"
   },
   {
    "duration": 10,
    "start_time": "2024-05-21T01:32:48.224Z"
   },
   {
    "duration": 12,
    "start_time": "2024-05-21T01:32:48.237Z"
   },
   {
    "duration": 93,
    "start_time": "2024-05-21T01:32:48.252Z"
   },
   {
    "duration": 192,
    "start_time": "2024-05-21T01:32:48.348Z"
   },
   {
    "duration": 10,
    "start_time": "2024-05-21T01:32:48.547Z"
   },
   {
    "duration": 74,
    "start_time": "2024-05-21T01:32:48.560Z"
   },
   {
    "duration": 16,
    "start_time": "2024-05-21T01:32:48.637Z"
   },
   {
    "duration": 242,
    "start_time": "2024-05-21T01:32:48.656Z"
   },
   {
    "duration": 17,
    "start_time": "2024-05-21T01:32:48.900Z"
   },
   {
    "duration": 19,
    "start_time": "2024-05-21T01:33:09.167Z"
   },
   {
    "duration": 10,
    "start_time": "2024-05-21T01:33:20.166Z"
   },
   {
    "duration": 493,
    "start_time": "2024-05-21T01:34:11.719Z"
   },
   {
    "duration": 11,
    "start_time": "2024-05-21T01:34:15.579Z"
   },
   {
    "duration": 10,
    "start_time": "2024-05-21T01:34:21.493Z"
   },
   {
    "duration": 10,
    "start_time": "2024-05-21T01:34:32.181Z"
   },
   {
    "duration": 15,
    "start_time": "2024-05-21T01:37:52.833Z"
   },
   {
    "duration": 8,
    "start_time": "2024-05-21T01:38:47.569Z"
   },
   {
    "duration": 15,
    "start_time": "2024-05-21T01:39:10.029Z"
   },
   {
    "duration": 750,
    "start_time": "2024-05-21T01:41:48.969Z"
   },
   {
    "duration": 65,
    "start_time": "2024-05-21T01:44:38.750Z"
   },
   {
    "duration": 63,
    "start_time": "2024-05-21T01:44:49.519Z"
   },
   {
    "duration": 5,
    "start_time": "2024-05-21T01:46:09.520Z"
   },
   {
    "duration": 7,
    "start_time": "2024-05-21T01:46:48.424Z"
   },
   {
    "duration": 12,
    "start_time": "2024-05-21T01:46:55.423Z"
   },
   {
    "duration": 1326,
    "start_time": "2024-05-21T01:50:29.645Z"
   },
   {
    "duration": 194,
    "start_time": "2024-05-21T01:50:30.975Z"
   },
   {
    "duration": 36,
    "start_time": "2024-05-21T01:50:31.172Z"
   },
   {
    "duration": 12,
    "start_time": "2024-05-21T01:50:31.211Z"
   },
   {
    "duration": 29,
    "start_time": "2024-05-21T01:50:31.226Z"
   },
   {
    "duration": 69,
    "start_time": "2024-05-21T01:50:31.258Z"
   },
   {
    "duration": 77,
    "start_time": "2024-05-21T01:50:31.330Z"
   },
   {
    "duration": 108,
    "start_time": "2024-05-21T01:50:31.411Z"
   },
   {
    "duration": 35,
    "start_time": "2024-05-21T01:50:31.522Z"
   },
   {
    "duration": 277,
    "start_time": "2024-05-21T01:50:31.563Z"
   },
   {
    "duration": 6,
    "start_time": "2024-05-21T01:50:31.843Z"
   },
   {
    "duration": 11,
    "start_time": "2024-05-21T01:50:31.852Z"
   },
   {
    "duration": 68,
    "start_time": "2024-05-21T01:50:31.867Z"
   },
   {
    "duration": 1152,
    "start_time": "2024-05-21T01:50:31.938Z"
   },
   {
    "duration": 29,
    "start_time": "2024-05-21T01:50:33.094Z"
   },
   {
    "duration": 22,
    "start_time": "2024-05-21T01:50:33.126Z"
   },
   {
    "duration": 590,
    "start_time": "2024-05-21T01:50:33.151Z"
   },
   {
    "duration": 41,
    "start_time": "2024-05-21T01:50:33.745Z"
   },
   {
    "duration": 75,
    "start_time": "2024-05-21T01:50:33.788Z"
   },
   {
    "duration": 5,
    "start_time": "2024-05-21T01:50:33.869Z"
   },
   {
    "duration": 32,
    "start_time": "2024-05-21T01:50:33.877Z"
   },
   {
    "duration": 6,
    "start_time": "2024-05-21T01:50:33.912Z"
   },
   {
    "duration": 10,
    "start_time": "2024-05-21T01:50:33.927Z"
   },
   {
    "duration": 10,
    "start_time": "2024-05-21T01:50:33.940Z"
   },
   {
    "duration": 59,
    "start_time": "2024-05-21T01:50:33.953Z"
   },
   {
    "duration": 41,
    "start_time": "2024-05-21T01:50:34.015Z"
   },
   {
    "duration": 197,
    "start_time": "2024-05-21T01:50:34.059Z"
   },
   {
    "duration": 10,
    "start_time": "2024-05-21T01:50:34.263Z"
   },
   {
    "duration": 71,
    "start_time": "2024-05-21T01:50:34.275Z"
   },
   {
    "duration": 16,
    "start_time": "2024-05-21T01:50:34.348Z"
   },
   {
    "duration": 335,
    "start_time": "2024-05-21T01:50:34.367Z"
   },
   {
    "duration": 10,
    "start_time": "2024-05-21T01:50:34.707Z"
   },
   {
    "duration": 11,
    "start_time": "2024-05-21T01:50:34.721Z"
   },
   {
    "duration": 15,
    "start_time": "2024-05-21T01:50:34.735Z"
   },
   {
    "duration": 252,
    "start_time": "2024-05-21T01:50:34.753Z"
   },
   {
    "duration": 5251,
    "start_time": "2024-05-21T19:01:52.959Z"
   },
   {
    "duration": 237,
    "start_time": "2024-05-21T19:01:58.213Z"
   },
   {
    "duration": 27,
    "start_time": "2024-05-21T19:01:58.453Z"
   },
   {
    "duration": 11,
    "start_time": "2024-05-21T19:01:58.483Z"
   },
   {
    "duration": 55,
    "start_time": "2024-05-21T19:01:58.499Z"
   },
   {
    "duration": 39,
    "start_time": "2024-05-21T19:01:58.557Z"
   },
   {
    "duration": 85,
    "start_time": "2024-05-21T19:01:58.599Z"
   },
   {
    "duration": 105,
    "start_time": "2024-05-21T19:01:58.686Z"
   },
   {
    "duration": 57,
    "start_time": "2024-05-21T19:01:58.794Z"
   },
   {
    "duration": 254,
    "start_time": "2024-05-21T19:01:58.855Z"
   },
   {
    "duration": 6,
    "start_time": "2024-05-21T19:01:59.111Z"
   },
   {
    "duration": 11,
    "start_time": "2024-05-21T19:01:59.132Z"
   },
   {
    "duration": 35,
    "start_time": "2024-05-21T19:01:59.145Z"
   },
   {
    "duration": 1185,
    "start_time": "2024-05-21T19:01:59.187Z"
   },
   {
    "duration": 22,
    "start_time": "2024-05-21T19:02:00.375Z"
   },
   {
    "duration": 41,
    "start_time": "2024-05-21T19:02:00.401Z"
   },
   {
    "duration": 573,
    "start_time": "2024-05-21T19:02:00.445Z"
   },
   {
    "duration": 48,
    "start_time": "2024-05-21T19:02:01.021Z"
   },
   {
    "duration": 77,
    "start_time": "2024-05-21T19:02:01.073Z"
   },
   {
    "duration": 6,
    "start_time": "2024-05-21T19:02:01.153Z"
   },
   {
    "duration": 5,
    "start_time": "2024-05-21T19:02:01.162Z"
   },
   {
    "duration": 6,
    "start_time": "2024-05-21T19:02:01.170Z"
   },
   {
    "duration": 55,
    "start_time": "2024-05-21T19:02:01.179Z"
   },
   {
    "duration": 9,
    "start_time": "2024-05-21T19:02:01.237Z"
   },
   {
    "duration": 12,
    "start_time": "2024-05-21T19:02:01.249Z"
   },
   {
    "duration": 82,
    "start_time": "2024-05-21T19:02:01.264Z"
   },
   {
    "duration": 186,
    "start_time": "2024-05-21T19:02:01.349Z"
   },
   {
    "duration": 9,
    "start_time": "2024-05-21T19:02:01.538Z"
   },
   {
    "duration": 49,
    "start_time": "2024-05-21T19:02:01.551Z"
   },
   {
    "duration": 16,
    "start_time": "2024-05-21T19:02:01.630Z"
   },
   {
    "duration": 251,
    "start_time": "2024-05-21T19:02:01.649Z"
   },
   {
    "duration": 27,
    "start_time": "2024-05-21T19:02:01.903Z"
   },
   {
    "duration": 12,
    "start_time": "2024-05-21T19:02:01.933Z"
   },
   {
    "duration": 17,
    "start_time": "2024-05-21T19:02:01.948Z"
   },
   {
    "duration": 677,
    "start_time": "2024-05-21T19:02:01.968Z"
   },
   {
    "duration": 1466,
    "start_time": "2024-05-21T19:09:01.921Z"
   },
   {
    "duration": 195,
    "start_time": "2024-05-21T19:09:03.390Z"
   },
   {
    "duration": 25,
    "start_time": "2024-05-21T19:09:03.588Z"
   },
   {
    "duration": 11,
    "start_time": "2024-05-21T19:09:03.634Z"
   },
   {
    "duration": 27,
    "start_time": "2024-05-21T19:09:03.650Z"
   },
   {
    "duration": 67,
    "start_time": "2024-05-21T19:09:03.681Z"
   },
   {
    "duration": 62,
    "start_time": "2024-05-21T19:09:03.750Z"
   },
   {
    "duration": 105,
    "start_time": "2024-05-21T19:09:03.831Z"
   },
   {
    "duration": 34,
    "start_time": "2024-05-21T19:09:03.939Z"
   },
   {
    "duration": 273,
    "start_time": "2024-05-21T19:09:03.976Z"
   },
   {
    "duration": 5,
    "start_time": "2024-05-21T19:09:04.252Z"
   },
   {
    "duration": 11,
    "start_time": "2024-05-21T19:09:04.259Z"
   },
   {
    "duration": 71,
    "start_time": "2024-05-21T19:09:04.274Z"
   },
   {
    "duration": 1140,
    "start_time": "2024-05-21T19:09:04.351Z"
   },
   {
    "duration": 20,
    "start_time": "2024-05-21T19:09:05.493Z"
   },
   {
    "duration": 22,
    "start_time": "2024-05-21T19:09:05.532Z"
   },
   {
    "duration": 610,
    "start_time": "2024-05-21T19:09:05.556Z"
   },
   {
    "duration": 41,
    "start_time": "2024-05-21T19:09:06.169Z"
   },
   {
    "duration": 69,
    "start_time": "2024-05-21T19:09:06.212Z"
   },
   {
    "duration": 4,
    "start_time": "2024-05-21T19:09:06.284Z"
   },
   {
    "duration": 4,
    "start_time": "2024-05-21T19:09:06.292Z"
   },
   {
    "duration": 4,
    "start_time": "2024-05-21T19:09:06.330Z"
   },
   {
    "duration": 8,
    "start_time": "2024-05-21T19:09:06.338Z"
   },
   {
    "duration": 10,
    "start_time": "2024-05-21T19:09:06.348Z"
   },
   {
    "duration": 14,
    "start_time": "2024-05-21T19:09:06.360Z"
   },
   {
    "duration": 100,
    "start_time": "2024-05-21T19:09:06.377Z"
   },
   {
    "duration": 188,
    "start_time": "2024-05-21T19:09:06.481Z"
   },
   {
    "duration": 10,
    "start_time": "2024-05-21T19:09:06.673Z"
   },
   {
    "duration": 74,
    "start_time": "2024-05-21T19:09:06.686Z"
   },
   {
    "duration": 15,
    "start_time": "2024-05-21T19:09:06.763Z"
   },
   {
    "duration": 338,
    "start_time": "2024-05-21T19:09:06.781Z"
   },
   {
    "duration": 14,
    "start_time": "2024-05-21T19:09:07.122Z"
   },
   {
    "duration": 12,
    "start_time": "2024-05-21T19:09:07.139Z"
   },
   {
    "duration": 16,
    "start_time": "2024-05-21T19:09:07.154Z"
   },
   {
    "duration": 245,
    "start_time": "2024-05-21T19:09:07.173Z"
   },
   {
    "duration": 3,
    "start_time": "2024-05-21T19:09:52.609Z"
   },
   {
    "duration": 14,
    "start_time": "2024-05-21T19:09:55.268Z"
   },
   {
    "duration": 12,
    "start_time": "2024-05-21T19:15:38.074Z"
   },
   {
    "duration": 1380,
    "start_time": "2024-05-21T19:27:18.500Z"
   },
   {
    "duration": 189,
    "start_time": "2024-05-21T19:27:19.883Z"
   },
   {
    "duration": 23,
    "start_time": "2024-05-21T19:27:20.075Z"
   },
   {
    "duration": 32,
    "start_time": "2024-05-21T19:27:20.103Z"
   },
   {
    "duration": 26,
    "start_time": "2024-05-21T19:27:20.138Z"
   },
   {
    "duration": 63,
    "start_time": "2024-05-21T19:27:20.167Z"
   },
   {
    "duration": 60,
    "start_time": "2024-05-21T19:27:20.234Z"
   },
   {
    "duration": 135,
    "start_time": "2024-05-21T19:27:20.297Z"
   },
   {
    "duration": 36,
    "start_time": "2024-05-21T19:27:20.436Z"
   },
   {
    "duration": 255,
    "start_time": "2024-05-21T19:27:20.479Z"
   },
   {
    "duration": 4,
    "start_time": "2024-05-21T19:27:20.737Z"
   },
   {
    "duration": 14,
    "start_time": "2024-05-21T19:27:20.745Z"
   },
   {
    "duration": 68,
    "start_time": "2024-05-21T19:27:20.762Z"
   },
   {
    "duration": 1121,
    "start_time": "2024-05-21T19:27:20.833Z"
   },
   {
    "duration": 21,
    "start_time": "2024-05-21T19:27:21.957Z"
   },
   {
    "duration": 20,
    "start_time": "2024-05-21T19:27:21.983Z"
   },
   {
    "duration": 587,
    "start_time": "2024-05-21T19:27:22.032Z"
   },
   {
    "duration": 43,
    "start_time": "2024-05-21T19:27:22.630Z"
   },
   {
    "duration": 76,
    "start_time": "2024-05-21T19:27:22.676Z"
   },
   {
    "duration": 5,
    "start_time": "2024-05-21T19:27:22.755Z"
   },
   {
    "duration": 5,
    "start_time": "2024-05-21T19:27:22.762Z"
   },
   {
    "duration": 5,
    "start_time": "2024-05-21T19:27:22.771Z"
   },
   {
    "duration": 8,
    "start_time": "2024-05-21T19:27:22.779Z"
   },
   {
    "duration": 11,
    "start_time": "2024-05-21T19:27:22.831Z"
   },
   {
    "duration": 11,
    "start_time": "2024-05-21T19:27:22.846Z"
   },
   {
    "duration": 75,
    "start_time": "2024-05-21T19:27:22.860Z"
   },
   {
    "duration": 182,
    "start_time": "2024-05-21T19:27:22.939Z"
   },
   {
    "duration": 10,
    "start_time": "2024-05-21T19:27:23.136Z"
   },
   {
    "duration": 50,
    "start_time": "2024-05-21T19:27:23.149Z"
   },
   {
    "duration": 42,
    "start_time": "2024-05-21T19:27:23.201Z"
   },
   {
    "duration": 324,
    "start_time": "2024-05-21T19:27:23.247Z"
   },
   {
    "duration": 10,
    "start_time": "2024-05-21T19:27:23.573Z"
   },
   {
    "duration": 10,
    "start_time": "2024-05-21T19:27:23.587Z"
   },
   {
    "duration": 46,
    "start_time": "2024-05-21T19:27:23.600Z"
   },
   {
    "duration": 237,
    "start_time": "2024-05-21T19:27:23.649Z"
   },
   {
    "duration": 11,
    "start_time": "2024-05-21T19:27:23.888Z"
   },
   {
    "duration": 30,
    "start_time": "2024-05-21T19:27:23.902Z"
   },
   {
    "duration": 8,
    "start_time": "2024-05-21T19:43:06.175Z"
   },
   {
    "duration": 1379,
    "start_time": "2024-05-21T19:44:45.805Z"
   },
   {
    "duration": 187,
    "start_time": "2024-05-21T19:44:47.187Z"
   },
   {
    "duration": 27,
    "start_time": "2024-05-21T19:44:47.377Z"
   },
   {
    "duration": 29,
    "start_time": "2024-05-21T19:44:47.408Z"
   },
   {
    "duration": 28,
    "start_time": "2024-05-21T19:44:47.440Z"
   },
   {
    "duration": 68,
    "start_time": "2024-05-21T19:44:47.472Z"
   },
   {
    "duration": 61,
    "start_time": "2024-05-21T19:44:47.543Z"
   },
   {
    "duration": 127,
    "start_time": "2024-05-21T19:44:47.607Z"
   },
   {
    "duration": 36,
    "start_time": "2024-05-21T19:44:47.739Z"
   },
   {
    "duration": 253,
    "start_time": "2024-05-21T19:44:47.780Z"
   },
   {
    "duration": 5,
    "start_time": "2024-05-21T19:44:48.036Z"
   },
   {
    "duration": 12,
    "start_time": "2024-05-21T19:44:48.044Z"
   },
   {
    "duration": 75,
    "start_time": "2024-05-21T19:44:48.059Z"
   },
   {
    "duration": 1132,
    "start_time": "2024-05-21T19:44:48.137Z"
   },
   {
    "duration": 20,
    "start_time": "2024-05-21T19:44:49.272Z"
   },
   {
    "duration": 43,
    "start_time": "2024-05-21T19:44:49.295Z"
   },
   {
    "duration": 578,
    "start_time": "2024-05-21T19:44:49.341Z"
   },
   {
    "duration": 50,
    "start_time": "2024-05-21T19:44:49.923Z"
   },
   {
    "duration": 73,
    "start_time": "2024-05-21T19:44:49.976Z"
   },
   {
    "duration": 5,
    "start_time": "2024-05-21T19:44:50.051Z"
   },
   {
    "duration": 5,
    "start_time": "2024-05-21T19:44:50.059Z"
   },
   {
    "duration": 5,
    "start_time": "2024-05-21T19:44:50.067Z"
   },
   {
    "duration": 10,
    "start_time": "2024-05-21T19:44:50.074Z"
   },
   {
    "duration": 9,
    "start_time": "2024-05-21T19:44:50.131Z"
   },
   {
    "duration": 14,
    "start_time": "2024-05-21T19:44:50.143Z"
   },
   {
    "duration": 76,
    "start_time": "2024-05-21T19:44:50.159Z"
   },
   {
    "duration": 185,
    "start_time": "2024-05-21T19:44:50.238Z"
   },
   {
    "duration": 9,
    "start_time": "2024-05-21T19:44:50.436Z"
   },
   {
    "duration": 50,
    "start_time": "2024-05-21T19:44:50.448Z"
   },
   {
    "duration": 41,
    "start_time": "2024-05-21T19:44:50.500Z"
   },
   {
    "duration": 329,
    "start_time": "2024-05-21T19:44:50.543Z"
   },
   {
    "duration": 10,
    "start_time": "2024-05-21T19:44:50.876Z"
   },
   {
    "duration": 12,
    "start_time": "2024-05-21T19:44:50.889Z"
   },
   {
    "duration": 15,
    "start_time": "2024-05-21T19:44:50.932Z"
   },
   {
    "duration": 245,
    "start_time": "2024-05-21T19:44:50.950Z"
   },
   {
    "duration": 10,
    "start_time": "2024-05-21T19:44:51.198Z"
   },
   {
    "duration": 24,
    "start_time": "2024-05-21T19:44:51.211Z"
   },
   {
    "duration": 8,
    "start_time": "2024-05-21T19:44:51.239Z"
   },
   {
    "duration": 5852,
    "start_time": "2024-05-22T01:10:39.165Z"
   },
   {
    "duration": 298,
    "start_time": "2024-05-22T01:10:45.021Z"
   },
   {
    "duration": 29,
    "start_time": "2024-05-22T01:10:45.326Z"
   },
   {
    "duration": 19,
    "start_time": "2024-05-22T01:10:45.358Z"
   },
   {
    "duration": 55,
    "start_time": "2024-05-22T01:10:45.383Z"
   },
   {
    "duration": 40,
    "start_time": "2024-05-22T01:10:45.440Z"
   },
   {
    "duration": 97,
    "start_time": "2024-05-22T01:10:45.483Z"
   },
   {
    "duration": 117,
    "start_time": "2024-05-22T01:10:45.582Z"
   },
   {
    "duration": 54,
    "start_time": "2024-05-22T01:10:45.701Z"
   },
   {
    "duration": 297,
    "start_time": "2024-05-22T01:10:45.758Z"
   },
   {
    "duration": 5,
    "start_time": "2024-05-22T01:10:46.059Z"
   },
   {
    "duration": 11,
    "start_time": "2024-05-22T01:10:46.068Z"
   },
   {
    "duration": 74,
    "start_time": "2024-05-22T01:10:46.082Z"
   },
   {
    "duration": 1413,
    "start_time": "2024-05-22T01:10:46.163Z"
   },
   {
    "duration": 41,
    "start_time": "2024-05-22T01:10:47.579Z"
   },
   {
    "duration": 28,
    "start_time": "2024-05-22T01:10:47.625Z"
   },
   {
    "duration": 757,
    "start_time": "2024-05-22T01:10:47.656Z"
   },
   {
    "duration": 57,
    "start_time": "2024-05-22T01:10:48.417Z"
   },
   {
    "duration": 82,
    "start_time": "2024-05-22T01:10:48.477Z"
   },
   {
    "duration": 5,
    "start_time": "2024-05-22T01:10:48.562Z"
   },
   {
    "duration": 5,
    "start_time": "2024-05-22T01:10:48.570Z"
   },
   {
    "duration": 34,
    "start_time": "2024-05-22T01:10:48.578Z"
   },
   {
    "duration": 11,
    "start_time": "2024-05-22T01:10:48.617Z"
   },
   {
    "duration": 12,
    "start_time": "2024-05-22T01:10:48.630Z"
   },
   {
    "duration": 14,
    "start_time": "2024-05-22T01:10:48.646Z"
   },
   {
    "duration": 88,
    "start_time": "2024-05-22T01:10:48.662Z"
   },
   {
    "duration": 199,
    "start_time": "2024-05-22T01:10:48.753Z"
   },
   {
    "duration": 10,
    "start_time": "2024-05-22T01:10:48.957Z"
   },
   {
    "duration": 84,
    "start_time": "2024-05-22T01:10:48.969Z"
   },
   {
    "duration": 21,
    "start_time": "2024-05-22T01:10:49.056Z"
   },
   {
    "duration": 265,
    "start_time": "2024-05-22T01:10:49.083Z"
   },
   {
    "duration": 13,
    "start_time": "2024-05-22T01:10:49.352Z"
   },
   {
    "duration": 38,
    "start_time": "2024-05-22T01:10:49.369Z"
   },
   {
    "duration": 20,
    "start_time": "2024-05-22T01:10:49.410Z"
   },
   {
    "duration": 377,
    "start_time": "2024-05-22T01:10:49.433Z"
   },
   {
    "duration": 12,
    "start_time": "2024-05-22T01:10:49.813Z"
   },
   {
    "duration": 12,
    "start_time": "2024-05-22T01:10:49.828Z"
   },
   {
    "duration": 63,
    "start_time": "2024-05-22T01:10:49.843Z"
   },
   {
    "duration": 21,
    "start_time": "2024-05-22T01:11:29.211Z"
   },
   {
    "duration": 40,
    "start_time": "2024-05-22T01:12:44.257Z"
   },
   {
    "duration": 18,
    "start_time": "2024-05-22T01:16:30.616Z"
   },
   {
    "duration": 19,
    "start_time": "2024-05-22T01:18:30.332Z"
   },
   {
    "duration": 10,
    "start_time": "2024-05-22T01:18:56.264Z"
   },
   {
    "duration": 12,
    "start_time": "2024-05-22T01:19:40.778Z"
   },
   {
    "duration": 8,
    "start_time": "2024-05-22T01:20:05.885Z"
   },
   {
    "duration": 7,
    "start_time": "2024-05-22T01:20:17.506Z"
   },
   {
    "duration": 9,
    "start_time": "2024-05-22T01:20:32.355Z"
   },
   {
    "duration": 10,
    "start_time": "2024-05-22T01:21:59.190Z"
   },
   {
    "duration": 12,
    "start_time": "2024-05-22T01:22:14.280Z"
   },
   {
    "duration": 898,
    "start_time": "2024-05-22T01:23:46.387Z"
   },
   {
    "duration": 23,
    "start_time": "2024-05-22T01:23:55.674Z"
   },
   {
    "duration": 901,
    "start_time": "2024-05-22T01:24:17.115Z"
   },
   {
    "duration": 23,
    "start_time": "2024-05-22T01:24:29.648Z"
   },
   {
    "duration": 96,
    "start_time": "2024-05-22T01:24:41.406Z"
   },
   {
    "duration": 22,
    "start_time": "2024-05-22T01:24:49.232Z"
   },
   {
    "duration": 92,
    "start_time": "2024-05-22T01:24:56.265Z"
   },
   {
    "duration": 23,
    "start_time": "2024-05-22T01:25:02.322Z"
   },
   {
    "duration": 209,
    "start_time": "2024-05-22T01:25:16.797Z"
   },
   {
    "duration": 19,
    "start_time": "2024-05-22T01:25:25.748Z"
   },
   {
    "duration": 22,
    "start_time": "2024-05-22T01:25:31.772Z"
   },
   {
    "duration": 26,
    "start_time": "2024-05-22T01:25:47.910Z"
   },
   {
    "duration": 21,
    "start_time": "2024-05-22T01:25:54.884Z"
   },
   {
    "duration": 49,
    "start_time": "2024-05-22T01:26:04.733Z"
   },
   {
    "duration": 34,
    "start_time": "2024-05-22T01:26:10.195Z"
   },
   {
    "duration": 21,
    "start_time": "2024-05-22T01:26:14.307Z"
   },
   {
    "duration": 20,
    "start_time": "2024-05-22T01:26:22.256Z"
   },
   {
    "duration": 841,
    "start_time": "2024-05-22T01:26:52.436Z"
   },
   {
    "duration": 21,
    "start_time": "2024-05-22T01:27:00.778Z"
   },
   {
    "duration": 23,
    "start_time": "2024-05-22T01:27:07.462Z"
   },
   {
    "duration": 106,
    "start_time": "2024-05-22T01:27:57.228Z"
   },
   {
    "duration": 109,
    "start_time": "2024-05-22T01:28:19.123Z"
   },
   {
    "duration": 46,
    "start_time": "2024-05-22T01:28:35.048Z"
   },
   {
    "duration": 48,
    "start_time": "2024-05-22T01:28:44.594Z"
   },
   {
    "duration": 46,
    "start_time": "2024-05-22T01:29:09.319Z"
   },
   {
    "duration": 62,
    "start_time": "2024-05-22T01:29:25.690Z"
   },
   {
    "duration": 50,
    "start_time": "2024-05-22T01:31:16.537Z"
   },
   {
    "duration": 51,
    "start_time": "2024-05-22T01:31:53.576Z"
   },
   {
    "duration": 54,
    "start_time": "2024-05-22T01:31:56.540Z"
   },
   {
    "duration": 79,
    "start_time": "2024-05-22T01:33:04.337Z"
   },
   {
    "duration": 4,
    "start_time": "2024-05-22T01:36:40.002Z"
   },
   {
    "duration": 10,
    "start_time": "2024-05-22T01:37:20.294Z"
   },
   {
    "duration": 32,
    "start_time": "2024-05-22T01:38:13.873Z"
   },
   {
    "duration": 35,
    "start_time": "2024-05-22T01:39:25.445Z"
   },
   {
    "duration": 25,
    "start_time": "2024-05-22T01:45:53.145Z"
   },
   {
    "duration": 6,
    "start_time": "2024-05-22T01:46:01.990Z"
   },
   {
    "duration": 6,
    "start_time": "2024-05-22T01:46:41.916Z"
   },
   {
    "duration": 1498,
    "start_time": "2024-05-22T01:55:15.522Z"
   },
   {
    "duration": 199,
    "start_time": "2024-05-22T01:55:17.024Z"
   },
   {
    "duration": 28,
    "start_time": "2024-05-22T01:55:17.229Z"
   },
   {
    "duration": 13,
    "start_time": "2024-05-22T01:55:17.262Z"
   },
   {
    "duration": 50,
    "start_time": "2024-05-22T01:55:17.279Z"
   },
   {
    "duration": 90,
    "start_time": "2024-05-22T01:55:17.334Z"
   },
   {
    "duration": 86,
    "start_time": "2024-05-22T01:55:17.428Z"
   },
   {
    "duration": 125,
    "start_time": "2024-05-22T01:55:17.517Z"
   },
   {
    "duration": 36,
    "start_time": "2024-05-22T01:55:17.645Z"
   },
   {
    "duration": 325,
    "start_time": "2024-05-22T01:55:17.711Z"
   },
   {
    "duration": 6,
    "start_time": "2024-05-22T01:55:18.038Z"
   },
   {
    "duration": 11,
    "start_time": "2024-05-22T01:55:18.047Z"
   },
   {
    "duration": 75,
    "start_time": "2024-05-22T01:55:18.062Z"
   },
   {
    "duration": 1413,
    "start_time": "2024-05-22T01:55:18.140Z"
   },
   {
    "duration": 21,
    "start_time": "2024-05-22T01:55:19.556Z"
   },
   {
    "duration": 45,
    "start_time": "2024-05-22T01:55:19.581Z"
   },
   {
    "duration": 632,
    "start_time": "2024-05-22T01:55:19.630Z"
   },
   {
    "duration": 52,
    "start_time": "2024-05-22T01:55:20.265Z"
   },
   {
    "duration": 55,
    "start_time": "2024-05-22T01:55:20.319Z"
   },
   {
    "duration": 4,
    "start_time": "2024-05-22T01:55:20.406Z"
   },
   {
    "duration": 5,
    "start_time": "2024-05-22T01:55:20.413Z"
   },
   {
    "duration": 6,
    "start_time": "2024-05-22T01:55:20.422Z"
   },
   {
    "duration": 10,
    "start_time": "2024-05-22T01:55:20.433Z"
   },
   {
    "duration": 10,
    "start_time": "2024-05-22T01:55:20.446Z"
   },
   {
    "duration": 16,
    "start_time": "2024-05-22T01:55:20.506Z"
   },
   {
    "duration": 51,
    "start_time": "2024-05-22T01:55:20.524Z"
   },
   {
    "duration": 228,
    "start_time": "2024-05-22T01:55:20.578Z"
   },
   {
    "duration": 11,
    "start_time": "2024-05-22T01:55:20.815Z"
   },
   {
    "duration": 87,
    "start_time": "2024-05-22T01:55:20.830Z"
   },
   {
    "duration": 16,
    "start_time": "2024-05-22T01:55:20.921Z"
   },
   {
    "duration": 374,
    "start_time": "2024-05-22T01:55:20.940Z"
   },
   {
    "duration": 13,
    "start_time": "2024-05-22T01:55:21.318Z"
   },
   {
    "duration": 15,
    "start_time": "2024-05-22T01:55:21.334Z"
   },
   {
    "duration": 53,
    "start_time": "2024-05-22T01:55:21.352Z"
   },
   {
    "duration": 237,
    "start_time": "2024-05-22T01:55:21.408Z"
   },
   {
    "duration": 13,
    "start_time": "2024-05-22T01:55:21.650Z"
   },
   {
    "duration": 40,
    "start_time": "2024-05-22T01:55:21.666Z"
   },
   {
    "duration": 10,
    "start_time": "2024-05-22T01:55:21.710Z"
   },
   {
    "duration": 92,
    "start_time": "2024-05-22T01:55:21.724Z"
   },
   {
    "duration": 19,
    "start_time": "2024-05-22T01:55:21.819Z"
   },
   {
    "duration": 73,
    "start_time": "2024-05-22T01:55:21.842Z"
   },
   {
    "duration": 49,
    "start_time": "2024-05-22T01:55:21.918Z"
   },
   {
    "duration": 99,
    "start_time": "2024-05-22T01:55:21.970Z"
   },
   {
    "duration": 48,
    "start_time": "2024-05-22T01:55:22.072Z"
   },
   {
    "duration": 7,
    "start_time": "2024-05-22T01:55:22.123Z"
   },
   {
    "duration": 5418,
    "start_time": "2024-05-23T01:03:29.769Z"
   },
   {
    "duration": 212,
    "start_time": "2024-05-23T01:03:35.191Z"
   },
   {
    "duration": 32,
    "start_time": "2024-05-23T01:03:35.406Z"
   },
   {
    "duration": 11,
    "start_time": "2024-05-23T01:03:35.442Z"
   },
   {
    "duration": 27,
    "start_time": "2024-05-23T01:03:35.457Z"
   },
   {
    "duration": 72,
    "start_time": "2024-05-23T01:03:35.487Z"
   },
   {
    "duration": 70,
    "start_time": "2024-05-23T01:03:35.562Z"
   },
   {
    "duration": 136,
    "start_time": "2024-05-23T01:03:35.635Z"
   },
   {
    "duration": 59,
    "start_time": "2024-05-23T01:03:35.774Z"
   },
   {
    "duration": 277,
    "start_time": "2024-05-23T01:03:35.840Z"
   },
   {
    "duration": 13,
    "start_time": "2024-05-23T01:03:36.120Z"
   },
   {
    "duration": 11,
    "start_time": "2024-05-23T01:03:36.136Z"
   },
   {
    "duration": 36,
    "start_time": "2024-05-23T01:03:36.150Z"
   },
   {
    "duration": 1095,
    "start_time": "2024-05-23T01:03:36.189Z"
   },
   {
    "duration": 20,
    "start_time": "2024-05-23T01:03:37.287Z"
   },
   {
    "duration": 38,
    "start_time": "2024-05-23T01:03:37.310Z"
   },
   {
    "duration": 690,
    "start_time": "2024-05-23T01:03:37.351Z"
   },
   {
    "duration": 41,
    "start_time": "2024-05-23T01:03:38.044Z"
   },
   {
    "duration": 73,
    "start_time": "2024-05-23T01:03:38.088Z"
   },
   {
    "duration": 4,
    "start_time": "2024-05-23T01:03:38.164Z"
   },
   {
    "duration": 4,
    "start_time": "2024-05-23T01:03:38.172Z"
   },
   {
    "duration": 5,
    "start_time": "2024-05-23T01:03:38.180Z"
   },
   {
    "duration": 50,
    "start_time": "2024-05-23T01:03:38.188Z"
   },
   {
    "duration": 10,
    "start_time": "2024-05-23T01:03:38.240Z"
   },
   {
    "duration": 12,
    "start_time": "2024-05-23T01:03:38.253Z"
   },
   {
    "duration": 84,
    "start_time": "2024-05-23T01:03:38.268Z"
   },
   {
    "duration": 184,
    "start_time": "2024-05-23T01:03:38.355Z"
   },
   {
    "duration": 9,
    "start_time": "2024-05-23T01:03:38.546Z"
   },
   {
    "duration": 74,
    "start_time": "2024-05-23T01:03:38.558Z"
   },
   {
    "duration": 16,
    "start_time": "2024-05-23T01:03:38.635Z"
   },
   {
    "duration": 251,
    "start_time": "2024-05-23T01:03:38.654Z"
   },
   {
    "duration": 21,
    "start_time": "2024-05-23T01:03:38.909Z"
   },
   {
    "duration": 11,
    "start_time": "2024-05-23T01:03:38.936Z"
   },
   {
    "duration": 17,
    "start_time": "2024-05-23T01:03:38.950Z"
   },
   {
    "duration": 518,
    "start_time": "2024-05-23T01:03:38.970Z"
   },
   {
    "duration": 12,
    "start_time": "2024-05-23T01:03:39.492Z"
   },
   {
    "duration": 10,
    "start_time": "2024-05-23T01:03:39.507Z"
   },
   {
    "duration": 7,
    "start_time": "2024-05-23T01:03:39.532Z"
   },
   {
    "duration": 88,
    "start_time": "2024-05-23T01:03:39.545Z"
   },
   {
    "duration": 20,
    "start_time": "2024-05-23T01:03:39.636Z"
   },
   {
    "duration": 80,
    "start_time": "2024-05-23T01:03:39.659Z"
   },
   {
    "duration": 49,
    "start_time": "2024-05-23T01:03:39.742Z"
   },
   {
    "duration": 111,
    "start_time": "2024-05-23T01:03:39.794Z"
   },
   {
    "duration": 44,
    "start_time": "2024-05-23T01:03:39.908Z"
   },
   {
    "duration": 8,
    "start_time": "2024-05-23T01:03:39.955Z"
   },
   {
    "duration": 20,
    "start_time": "2024-05-23T01:05:43.608Z"
   },
   {
    "duration": 11,
    "start_time": "2024-05-23T01:05:58.788Z"
   },
   {
    "duration": 9,
    "start_time": "2024-05-23T01:06:10.430Z"
   },
   {
    "duration": 11,
    "start_time": "2024-05-23T01:06:13.569Z"
   },
   {
    "duration": 12,
    "start_time": "2024-05-23T01:07:57.534Z"
   },
   {
    "duration": 6,
    "start_time": "2024-05-23T01:20:09.431Z"
   },
   {
    "duration": 19,
    "start_time": "2024-05-23T01:24:44.483Z"
   },
   {
    "duration": 25,
    "start_time": "2024-05-23T01:24:50.879Z"
   },
   {
    "duration": 436,
    "start_time": "2024-05-23T01:25:48.510Z"
   },
   {
    "duration": 25,
    "start_time": "2024-05-23T01:25:53.666Z"
   },
   {
    "duration": 7,
    "start_time": "2024-05-23T01:27:02.977Z"
   },
   {
    "duration": 22,
    "start_time": "2024-05-23T01:27:41.548Z"
   },
   {
    "duration": 8,
    "start_time": "2024-05-23T01:27:45.548Z"
   },
   {
    "duration": 11,
    "start_time": "2024-05-23T01:28:34.098Z"
   },
   {
    "duration": 27,
    "start_time": "2024-05-23T01:30:46.324Z"
   },
   {
    "duration": 5,
    "start_time": "2024-05-23T01:30:52.437Z"
   },
   {
    "duration": 43,
    "start_time": "2024-05-23T01:33:09.410Z"
   },
   {
    "duration": 6,
    "start_time": "2024-05-23T01:33:22.708Z"
   },
   {
    "duration": 44,
    "start_time": "2024-05-23T01:33:26.855Z"
   },
   {
    "duration": 7,
    "start_time": "2024-05-23T01:33:42.233Z"
   },
   {
    "duration": 43,
    "start_time": "2024-05-23T01:33:45.157Z"
   },
   {
    "duration": 6,
    "start_time": "2024-05-23T01:33:54.929Z"
   },
   {
    "duration": 6,
    "start_time": "2024-05-23T01:33:58.815Z"
   },
   {
    "duration": 5,
    "start_time": "2024-05-23T01:39:48.684Z"
   },
   {
    "duration": 6,
    "start_time": "2024-05-23T01:40:30.324Z"
   },
   {
    "duration": 6,
    "start_time": "2024-05-23T01:41:01.938Z"
   },
   {
    "duration": 5,
    "start_time": "2024-05-23T01:43:41.290Z"
   },
   {
    "duration": 6,
    "start_time": "2024-05-23T01:43:52.369Z"
   },
   {
    "duration": 6,
    "start_time": "2024-05-23T01:44:13.595Z"
   },
   {
    "duration": 6,
    "start_time": "2024-05-23T01:44:36.679Z"
   },
   {
    "duration": 1462,
    "start_time": "2024-05-23T01:45:15.814Z"
   },
   {
    "duration": 191,
    "start_time": "2024-05-23T01:45:17.280Z"
   },
   {
    "duration": 25,
    "start_time": "2024-05-23T01:45:17.474Z"
   },
   {
    "duration": 29,
    "start_time": "2024-05-23T01:45:17.502Z"
   },
   {
    "duration": 29,
    "start_time": "2024-05-23T01:45:17.536Z"
   },
   {
    "duration": 63,
    "start_time": "2024-05-23T01:45:17.568Z"
   },
   {
    "duration": 75,
    "start_time": "2024-05-23T01:45:17.634Z"
   },
   {
    "duration": 118,
    "start_time": "2024-05-23T01:45:17.714Z"
   },
   {
    "duration": 35,
    "start_time": "2024-05-23T01:45:17.835Z"
   },
   {
    "duration": 256,
    "start_time": "2024-05-23T01:45:17.874Z"
   },
   {
    "duration": 5,
    "start_time": "2024-05-23T01:45:18.134Z"
   },
   {
    "duration": 11,
    "start_time": "2024-05-23T01:45:18.142Z"
   },
   {
    "duration": 36,
    "start_time": "2024-05-23T01:45:18.157Z"
   },
   {
    "duration": 1122,
    "start_time": "2024-05-23T01:45:18.232Z"
   },
   {
    "duration": 19,
    "start_time": "2024-05-23T01:45:19.358Z"
   },
   {
    "duration": 21,
    "start_time": "2024-05-23T01:45:19.380Z"
   },
   {
    "duration": 584,
    "start_time": "2024-05-23T01:45:19.430Z"
   },
   {
    "duration": 40,
    "start_time": "2024-05-23T01:45:20.017Z"
   },
   {
    "duration": 72,
    "start_time": "2024-05-23T01:45:20.060Z"
   },
   {
    "duration": 4,
    "start_time": "2024-05-23T01:45:20.135Z"
   },
   {
    "duration": 5,
    "start_time": "2024-05-23T01:45:20.142Z"
   },
   {
    "duration": 5,
    "start_time": "2024-05-23T01:45:20.150Z"
   },
   {
    "duration": 8,
    "start_time": "2024-05-23T01:45:20.159Z"
   },
   {
    "duration": 61,
    "start_time": "2024-05-23T01:45:20.171Z"
   },
   {
    "duration": 14,
    "start_time": "2024-05-23T01:45:20.235Z"
   },
   {
    "duration": 43,
    "start_time": "2024-05-23T01:45:20.251Z"
   },
   {
    "duration": 218,
    "start_time": "2024-05-23T01:45:20.297Z"
   },
   {
    "duration": 19,
    "start_time": "2024-05-23T01:45:20.518Z"
   },
   {
    "duration": 49,
    "start_time": "2024-05-23T01:45:20.540Z"
   },
   {
    "duration": 47,
    "start_time": "2024-05-23T01:45:20.592Z"
   },
   {
    "duration": 333,
    "start_time": "2024-05-23T01:45:20.642Z"
   },
   {
    "duration": 9,
    "start_time": "2024-05-23T01:45:20.979Z"
   },
   {
    "duration": 11,
    "start_time": "2024-05-23T01:45:20.992Z"
   },
   {
    "duration": 20,
    "start_time": "2024-05-23T01:45:21.035Z"
   },
   {
    "duration": 244,
    "start_time": "2024-05-23T01:45:21.058Z"
   },
   {
    "duration": 11,
    "start_time": "2024-05-23T01:45:21.305Z"
   },
   {
    "duration": 20,
    "start_time": "2024-05-23T01:45:21.319Z"
   },
   {
    "duration": 11,
    "start_time": "2024-05-23T01:45:21.342Z"
   },
   {
    "duration": 88,
    "start_time": "2024-05-23T01:45:21.356Z"
   },
   {
    "duration": 20,
    "start_time": "2024-05-23T01:45:21.447Z"
   },
   {
    "duration": 23,
    "start_time": "2024-05-23T01:45:21.476Z"
   },
   {
    "duration": 49,
    "start_time": "2024-05-23T01:45:21.502Z"
   },
   {
    "duration": 110,
    "start_time": "2024-05-23T01:45:21.554Z"
   },
   {
    "duration": 11,
    "start_time": "2024-05-23T01:45:21.667Z"
   },
   {
    "duration": 8,
    "start_time": "2024-05-23T01:45:21.680Z"
   },
   {
    "duration": 44,
    "start_time": "2024-05-23T01:45:21.691Z"
   },
   {
    "duration": 8,
    "start_time": "2024-05-23T01:45:21.738Z"
   },
   {
    "duration": 12,
    "start_time": "2024-05-23T01:45:21.750Z"
   },
   {
    "duration": 8,
    "start_time": "2024-05-23T01:45:21.764Z"
   },
   {
    "duration": 10,
    "start_time": "2024-05-23T01:45:21.776Z"
   },
   {
    "duration": 43,
    "start_time": "2024-05-23T01:45:21.789Z"
   },
   {
    "duration": 8,
    "start_time": "2024-05-23T01:45:21.836Z"
   },
   {
    "duration": 7,
    "start_time": "2024-05-23T01:45:21.847Z"
   },
   {
    "duration": 5127,
    "start_time": "2024-05-23T18:45:35.109Z"
   },
   {
    "duration": 223,
    "start_time": "2024-05-23T18:45:40.240Z"
   },
   {
    "duration": 24,
    "start_time": "2024-05-23T18:45:40.466Z"
   },
   {
    "duration": 39,
    "start_time": "2024-05-23T18:45:40.495Z"
   },
   {
    "duration": 41,
    "start_time": "2024-05-23T18:45:40.536Z"
   },
   {
    "duration": 56,
    "start_time": "2024-05-23T18:45:40.583Z"
   },
   {
    "duration": 64,
    "start_time": "2024-05-23T18:45:40.642Z"
   },
   {
    "duration": 126,
    "start_time": "2024-05-23T18:45:40.708Z"
   },
   {
    "duration": 37,
    "start_time": "2024-05-23T18:45:40.837Z"
   },
   {
    "duration": 262,
    "start_time": "2024-05-23T18:45:40.879Z"
   },
   {
    "duration": 5,
    "start_time": "2024-05-23T18:45:41.144Z"
   },
   {
    "duration": 10,
    "start_time": "2024-05-23T18:45:41.152Z"
   },
   {
    "duration": 69,
    "start_time": "2024-05-23T18:45:41.166Z"
   },
   {
    "duration": 1158,
    "start_time": "2024-05-23T18:45:41.239Z"
   },
   {
    "duration": 19,
    "start_time": "2024-05-23T18:45:42.400Z"
   },
   {
    "duration": 19,
    "start_time": "2024-05-23T18:45:42.436Z"
   },
   {
    "duration": 601,
    "start_time": "2024-05-23T18:45:42.459Z"
   },
   {
    "duration": 49,
    "start_time": "2024-05-23T18:45:43.062Z"
   },
   {
    "duration": 72,
    "start_time": "2024-05-23T18:45:43.115Z"
   },
   {
    "duration": 5,
    "start_time": "2024-05-23T18:45:43.190Z"
   },
   {
    "duration": 4,
    "start_time": "2024-05-23T18:45:43.198Z"
   },
   {
    "duration": 5,
    "start_time": "2024-05-23T18:45:43.235Z"
   },
   {
    "duration": 8,
    "start_time": "2024-05-23T18:45:43.243Z"
   },
   {
    "duration": 9,
    "start_time": "2024-05-23T18:45:43.254Z"
   },
   {
    "duration": 12,
    "start_time": "2024-05-23T18:45:43.267Z"
   },
   {
    "duration": 90,
    "start_time": "2024-05-23T18:45:43.282Z"
   },
   {
    "duration": 183,
    "start_time": "2024-05-23T18:45:43.376Z"
   },
   {
    "duration": 10,
    "start_time": "2024-05-23T18:45:43.568Z"
   },
   {
    "duration": 73,
    "start_time": "2024-05-23T18:45:43.581Z"
   },
   {
    "duration": 15,
    "start_time": "2024-05-23T18:45:43.657Z"
   },
   {
    "duration": 258,
    "start_time": "2024-05-23T18:45:43.676Z"
   },
   {
    "duration": 15,
    "start_time": "2024-05-23T18:45:43.937Z"
   },
   {
    "duration": 13,
    "start_time": "2024-05-23T18:45:43.961Z"
   },
   {
    "duration": 17,
    "start_time": "2024-05-23T18:45:43.977Z"
   },
   {
    "duration": 349,
    "start_time": "2024-05-23T18:45:43.997Z"
   },
   {
    "duration": 14,
    "start_time": "2024-05-23T18:45:44.349Z"
   },
   {
    "duration": 12,
    "start_time": "2024-05-23T18:45:44.366Z"
   },
   {
    "duration": 55,
    "start_time": "2024-05-23T18:45:44.381Z"
   },
   {
    "duration": 35,
    "start_time": "2024-05-23T18:45:44.438Z"
   },
   {
    "duration": 71,
    "start_time": "2024-05-23T18:45:44.476Z"
   },
   {
    "duration": 24,
    "start_time": "2024-05-23T18:45:44.550Z"
   },
   {
    "duration": 24,
    "start_time": "2024-05-23T18:45:44.577Z"
   },
   {
    "duration": 80,
    "start_time": "2024-05-23T18:45:44.635Z"
   },
   {
    "duration": 6,
    "start_time": "2024-05-23T18:45:44.733Z"
   },
   {
    "duration": 7,
    "start_time": "2024-05-23T18:45:44.742Z"
   },
   {
    "duration": 12,
    "start_time": "2024-05-23T18:45:44.752Z"
   },
   {
    "duration": 6,
    "start_time": "2024-05-23T18:45:44.770Z"
   },
   {
    "duration": 54,
    "start_time": "2024-05-23T18:45:44.780Z"
   },
   {
    "duration": 7,
    "start_time": "2024-05-23T18:45:44.836Z"
   },
   {
    "duration": 7,
    "start_time": "2024-05-23T18:45:44.846Z"
   },
   {
    "duration": 7,
    "start_time": "2024-05-23T18:45:44.857Z"
   },
   {
    "duration": 6,
    "start_time": "2024-05-23T18:45:44.866Z"
   },
   {
    "duration": 7,
    "start_time": "2024-05-23T18:45:44.875Z"
   },
   {
    "duration": 19,
    "start_time": "2024-05-23T18:51:46.195Z"
   },
   {
    "duration": 20,
    "start_time": "2024-05-23T18:57:05.655Z"
   },
   {
    "duration": 188,
    "start_time": "2024-05-23T18:57:13.441Z"
   },
   {
    "duration": 24,
    "start_time": "2024-05-23T18:57:34.057Z"
   },
   {
    "duration": 12,
    "start_time": "2024-05-23T19:00:25.583Z"
   },
   {
    "duration": 12,
    "start_time": "2024-05-23T19:02:38.379Z"
   },
   {
    "duration": 1568,
    "start_time": "2024-05-23T19:05:09.885Z"
   },
   {
    "duration": 195,
    "start_time": "2024-05-23T19:05:11.457Z"
   },
   {
    "duration": 29,
    "start_time": "2024-05-23T19:05:11.655Z"
   },
   {
    "duration": 14,
    "start_time": "2024-05-23T19:05:11.688Z"
   },
   {
    "duration": 55,
    "start_time": "2024-05-23T19:05:11.709Z"
   },
   {
    "duration": 42,
    "start_time": "2024-05-23T19:05:11.767Z"
   },
   {
    "duration": 83,
    "start_time": "2024-05-23T19:05:11.811Z"
   },
   {
    "duration": 108,
    "start_time": "2024-05-23T19:05:11.896Z"
   },
   {
    "duration": 47,
    "start_time": "2024-05-23T19:05:12.007Z"
   },
   {
    "duration": 251,
    "start_time": "2024-05-23T19:05:12.057Z"
   },
   {
    "duration": 5,
    "start_time": "2024-05-23T19:05:12.311Z"
   },
   {
    "duration": 12,
    "start_time": "2024-05-23T19:05:12.336Z"
   },
   {
    "duration": 55,
    "start_time": "2024-05-23T19:05:12.351Z"
   },
   {
    "duration": 1141,
    "start_time": "2024-05-23T19:05:12.434Z"
   },
   {
    "duration": 20,
    "start_time": "2024-05-23T19:05:13.578Z"
   },
   {
    "duration": 40,
    "start_time": "2024-05-23T19:05:13.601Z"
   },
   {
    "duration": 580,
    "start_time": "2024-05-23T19:05:13.644Z"
   },
   {
    "duration": 41,
    "start_time": "2024-05-23T19:05:14.228Z"
   },
   {
    "duration": 78,
    "start_time": "2024-05-23T19:05:14.272Z"
   },
   {
    "duration": 5,
    "start_time": "2024-05-23T19:05:14.353Z"
   },
   {
    "duration": 4,
    "start_time": "2024-05-23T19:05:14.362Z"
   },
   {
    "duration": 5,
    "start_time": "2024-05-23T19:05:14.370Z"
   },
   {
    "duration": 9,
    "start_time": "2024-05-23T19:05:14.378Z"
   },
   {
    "duration": 52,
    "start_time": "2024-05-23T19:05:14.389Z"
   },
   {
    "duration": 12,
    "start_time": "2024-05-23T19:05:14.444Z"
   },
   {
    "duration": 44,
    "start_time": "2024-05-23T19:05:14.458Z"
   },
   {
    "duration": 185,
    "start_time": "2024-05-23T19:05:14.536Z"
   },
   {
    "duration": 17,
    "start_time": "2024-05-23T19:05:14.724Z"
   },
   {
    "duration": 49,
    "start_time": "2024-05-23T19:05:14.744Z"
   },
   {
    "duration": 40,
    "start_time": "2024-05-23T19:05:14.796Z"
   },
   {
    "duration": 325,
    "start_time": "2024-05-23T19:05:14.839Z"
   },
   {
    "duration": 10,
    "start_time": "2024-05-23T19:05:15.167Z"
   },
   {
    "duration": 11,
    "start_time": "2024-05-23T19:05:15.180Z"
   },
   {
    "duration": 48,
    "start_time": "2024-05-23T19:05:15.194Z"
   },
   {
    "duration": 237,
    "start_time": "2024-05-23T19:05:15.245Z"
   },
   {
    "duration": 11,
    "start_time": "2024-05-23T19:05:15.485Z"
   },
   {
    "duration": 39,
    "start_time": "2024-05-23T19:05:15.498Z"
   },
   {
    "duration": 10,
    "start_time": "2024-05-23T19:05:15.541Z"
   },
   {
    "duration": 88,
    "start_time": "2024-05-23T19:05:15.554Z"
   },
   {
    "duration": 22,
    "start_time": "2024-05-23T19:05:15.645Z"
   },
   {
    "duration": 61,
    "start_time": "2024-05-23T19:05:15.677Z"
   },
   {
    "duration": 26,
    "start_time": "2024-05-23T19:05:15.741Z"
   },
   {
    "duration": 107,
    "start_time": "2024-05-23T19:05:15.770Z"
   },
   {
    "duration": 6,
    "start_time": "2024-05-23T19:05:15.880Z"
   },
   {
    "duration": 8,
    "start_time": "2024-05-23T19:05:15.889Z"
   },
   {
    "duration": 40,
    "start_time": "2024-05-23T19:05:15.900Z"
   },
   {
    "duration": 16,
    "start_time": "2024-05-23T19:05:15.943Z"
   },
   {
    "duration": 8,
    "start_time": "2024-05-23T19:05:15.962Z"
   },
   {
    "duration": 6,
    "start_time": "2024-05-23T19:05:15.980Z"
   },
   {
    "duration": 12,
    "start_time": "2024-05-23T19:05:15.989Z"
   },
   {
    "duration": 32,
    "start_time": "2024-05-23T19:05:16.004Z"
   },
   {
    "duration": 8,
    "start_time": "2024-05-23T19:05:16.039Z"
   },
   {
    "duration": 10,
    "start_time": "2024-05-23T19:05:16.050Z"
   },
   {
    "duration": 19,
    "start_time": "2024-05-23T19:05:16.063Z"
   },
   {
    "duration": 68,
    "start_time": "2024-05-23T19:05:16.085Z"
   },
   {
    "duration": 11,
    "start_time": "2024-05-23T19:05:16.156Z"
   },
   {
    "duration": 11,
    "start_time": "2024-05-23T19:05:16.170Z"
   },
   {
    "duration": 5035,
    "start_time": "2024-05-27T17:43:01.299Z"
   },
   {
    "duration": 235,
    "start_time": "2024-05-27T17:43:06.337Z"
   },
   {
    "duration": 40,
    "start_time": "2024-05-27T17:43:06.575Z"
   },
   {
    "duration": 13,
    "start_time": "2024-05-27T17:43:06.619Z"
   },
   {
    "duration": 32,
    "start_time": "2024-05-27T17:43:06.636Z"
   },
   {
    "duration": 83,
    "start_time": "2024-05-27T17:43:06.671Z"
   },
   {
    "duration": 101,
    "start_time": "2024-05-27T17:43:06.758Z"
   },
   {
    "duration": 149,
    "start_time": "2024-05-27T17:43:06.863Z"
   },
   {
    "duration": 49,
    "start_time": "2024-05-27T17:43:07.015Z"
   },
   {
    "duration": 321,
    "start_time": "2024-05-27T17:43:07.076Z"
   },
   {
    "duration": 16,
    "start_time": "2024-05-27T17:43:07.400Z"
   },
   {
    "duration": 12,
    "start_time": "2024-05-27T17:43:07.419Z"
   },
   {
    "duration": 44,
    "start_time": "2024-05-27T17:43:07.434Z"
   },
   {
    "duration": 1190,
    "start_time": "2024-05-27T17:43:07.512Z"
   },
   {
    "duration": 24,
    "start_time": "2024-05-27T17:43:08.710Z"
   },
   {
    "duration": 26,
    "start_time": "2024-05-27T17:43:08.738Z"
   },
   {
    "duration": 718,
    "start_time": "2024-05-27T17:43:08.768Z"
   },
   {
    "duration": 49,
    "start_time": "2024-05-27T17:43:09.489Z"
   },
   {
    "duration": 77,
    "start_time": "2024-05-27T17:43:09.541Z"
   },
   {
    "duration": 5,
    "start_time": "2024-05-27T17:43:09.620Z"
   },
   {
    "duration": 6,
    "start_time": "2024-05-27T17:43:09.628Z"
   },
   {
    "duration": 23,
    "start_time": "2024-05-27T17:43:09.636Z"
   },
   {
    "duration": 16,
    "start_time": "2024-05-27T17:43:09.662Z"
   },
   {
    "duration": 33,
    "start_time": "2024-05-27T17:43:09.681Z"
   },
   {
    "duration": 14,
    "start_time": "2024-05-27T17:43:09.717Z"
   },
   {
    "duration": 102,
    "start_time": "2024-05-27T17:43:09.734Z"
   },
   {
    "duration": 203,
    "start_time": "2024-05-27T17:43:09.838Z"
   },
   {
    "duration": 11,
    "start_time": "2024-05-27T17:43:10.051Z"
   },
   {
    "duration": 76,
    "start_time": "2024-05-27T17:43:10.065Z"
   },
   {
    "duration": 17,
    "start_time": "2024-05-27T17:43:10.144Z"
   },
   {
    "duration": 298,
    "start_time": "2024-05-27T17:43:10.164Z"
   },
   {
    "duration": 12,
    "start_time": "2024-05-27T17:43:10.465Z"
   },
   {
    "duration": 33,
    "start_time": "2024-05-27T17:43:10.481Z"
   },
   {
    "duration": 20,
    "start_time": "2024-05-27T17:43:10.521Z"
   },
   {
    "duration": 264,
    "start_time": "2024-05-27T17:43:10.545Z"
   },
   {
    "duration": 12,
    "start_time": "2024-05-27T17:43:10.813Z"
   },
   {
    "duration": 14,
    "start_time": "2024-05-27T17:43:10.828Z"
   },
   {
    "duration": 13,
    "start_time": "2024-05-27T17:43:10.845Z"
   },
   {
    "duration": 96,
    "start_time": "2024-05-27T17:43:10.861Z"
   },
   {
    "duration": 75,
    "start_time": "2024-05-27T17:43:10.961Z"
   },
   {
    "duration": 28,
    "start_time": "2024-05-27T17:43:11.041Z"
   },
   {
    "duration": 54,
    "start_time": "2024-05-27T17:43:11.071Z"
   },
   {
    "duration": 122,
    "start_time": "2024-05-27T17:43:11.129Z"
   },
   {
    "duration": 8,
    "start_time": "2024-05-27T17:43:11.254Z"
   },
   {
    "duration": 9,
    "start_time": "2024-05-27T17:43:11.266Z"
   },
   {
    "duration": 42,
    "start_time": "2024-05-27T17:43:11.279Z"
   },
   {
    "duration": 8,
    "start_time": "2024-05-27T17:43:11.325Z"
   },
   {
    "duration": 8,
    "start_time": "2024-05-27T17:43:11.336Z"
   },
   {
    "duration": 8,
    "start_time": "2024-05-27T17:43:11.347Z"
   },
   {
    "duration": 9,
    "start_time": "2024-05-27T17:43:11.357Z"
   },
   {
    "duration": 14,
    "start_time": "2024-05-27T17:43:11.414Z"
   },
   {
    "duration": 9,
    "start_time": "2024-05-27T17:43:11.431Z"
   },
   {
    "duration": 12,
    "start_time": "2024-05-27T17:43:11.444Z"
   },
   {
    "duration": 61,
    "start_time": "2024-05-27T17:43:11.463Z"
   },
   {
    "duration": 28,
    "start_time": "2024-05-27T17:43:11.527Z"
   },
   {
    "duration": 11,
    "start_time": "2024-05-27T17:43:11.559Z"
   },
   {
    "duration": 47,
    "start_time": "2024-05-27T17:43:11.574Z"
   },
   {
    "duration": 505,
    "start_time": "2024-05-27T17:45:17.117Z"
   },
   {
    "duration": 7,
    "start_time": "2024-05-27T17:45:22.110Z"
   },
   {
    "duration": 6,
    "start_time": "2024-05-27T17:45:40.488Z"
   },
   {
    "duration": 5,
    "start_time": "2024-05-27T17:46:13.942Z"
   },
   {
    "duration": 13,
    "start_time": "2024-05-27T17:53:20.866Z"
   },
   {
    "duration": 13,
    "start_time": "2024-05-27T17:59:49.678Z"
   },
   {
    "duration": 25,
    "start_time": "2024-05-27T18:08:37.681Z"
   },
   {
    "duration": 11,
    "start_time": "2024-05-27T18:08:42.591Z"
   },
   {
    "duration": 14,
    "start_time": "2024-05-27T18:10:38.848Z"
   },
   {
    "duration": 34,
    "start_time": "2024-05-27T18:15:27.791Z"
   },
   {
    "duration": 11,
    "start_time": "2024-05-27T18:16:45.136Z"
   },
   {
    "duration": 13,
    "start_time": "2024-05-27T18:17:52.628Z"
   },
   {
    "duration": 1377,
    "start_time": "2024-05-29T03:43:28.962Z"
   },
   {
    "duration": 231,
    "start_time": "2024-05-29T03:43:30.343Z"
   },
   {
    "duration": 32,
    "start_time": "2024-05-29T03:43:30.578Z"
   },
   {
    "duration": 12,
    "start_time": "2024-05-29T03:43:30.615Z"
   },
   {
    "duration": 26,
    "start_time": "2024-05-29T03:43:30.631Z"
   },
   {
    "duration": 39,
    "start_time": "2024-05-29T03:43:30.692Z"
   },
   {
    "duration": 89,
    "start_time": "2024-05-29T03:43:30.733Z"
   },
   {
    "duration": 106,
    "start_time": "2024-05-29T03:43:30.825Z"
   },
   {
    "duration": 62,
    "start_time": "2024-05-29T03:43:30.933Z"
   },
   {
    "duration": 253,
    "start_time": "2024-05-29T03:43:31.002Z"
   },
   {
    "duration": 4,
    "start_time": "2024-05-29T03:43:31.261Z"
   },
   {
    "duration": 27,
    "start_time": "2024-05-29T03:43:31.268Z"
   },
   {
    "duration": 35,
    "start_time": "2024-05-29T03:43:31.298Z"
   },
   {
    "duration": 1126,
    "start_time": "2024-05-29T03:43:31.336Z"
   },
   {
    "duration": 27,
    "start_time": "2024-05-29T03:43:32.465Z"
   },
   {
    "duration": 25,
    "start_time": "2024-05-29T03:43:32.495Z"
   },
   {
    "duration": 617,
    "start_time": "2024-05-29T03:43:32.524Z"
   },
   {
    "duration": 55,
    "start_time": "2024-05-29T03:43:33.145Z"
   },
   {
    "duration": 54,
    "start_time": "2024-05-29T03:43:33.203Z"
   },
   {
    "duration": 30,
    "start_time": "2024-05-29T03:43:33.262Z"
   },
   {
    "duration": 4,
    "start_time": "2024-05-29T03:43:33.298Z"
   },
   {
    "duration": 5,
    "start_time": "2024-05-29T03:43:33.306Z"
   },
   {
    "duration": 9,
    "start_time": "2024-05-29T03:43:33.314Z"
   },
   {
    "duration": 9,
    "start_time": "2024-05-29T03:43:33.326Z"
   },
   {
    "duration": 58,
    "start_time": "2024-05-29T03:43:33.337Z"
   },
   {
    "duration": 43,
    "start_time": "2024-05-29T03:43:33.399Z"
   },
   {
    "duration": 206,
    "start_time": "2024-05-29T03:43:33.445Z"
   },
   {
    "duration": 10,
    "start_time": "2024-05-29T03:43:33.661Z"
   },
   {
    "duration": 52,
    "start_time": "2024-05-29T03:43:33.692Z"
   },
   {
    "duration": 16,
    "start_time": "2024-05-29T03:43:33.747Z"
   },
   {
    "duration": 344,
    "start_time": "2024-05-29T03:43:33.791Z"
   },
   {
    "duration": 10,
    "start_time": "2024-05-29T03:43:34.137Z"
   },
   {
    "duration": 11,
    "start_time": "2024-05-29T03:43:34.150Z"
   },
   {
    "duration": 40,
    "start_time": "2024-05-29T03:43:34.164Z"
   },
   {
    "duration": 212,
    "start_time": "2024-05-29T03:43:34.207Z"
   },
   {
    "duration": 12,
    "start_time": "2024-05-29T03:43:34.422Z"
   },
   {
    "duration": 55,
    "start_time": "2024-05-29T03:43:34.437Z"
   },
   {
    "duration": 10,
    "start_time": "2024-05-29T03:43:34.495Z"
   },
   {
    "duration": 33,
    "start_time": "2024-05-29T03:43:34.508Z"
   },
   {
    "duration": 19,
    "start_time": "2024-05-29T03:43:34.592Z"
   },
   {
    "duration": 25,
    "start_time": "2024-05-29T03:43:34.613Z"
   },
   {
    "duration": 63,
    "start_time": "2024-05-29T03:43:34.641Z"
   },
   {
    "duration": 48,
    "start_time": "2024-05-29T03:43:34.706Z"
   },
   {
    "duration": 7,
    "start_time": "2024-05-29T03:43:34.756Z"
   },
   {
    "duration": 27,
    "start_time": "2024-05-29T03:43:34.766Z"
   },
   {
    "duration": 16,
    "start_time": "2024-05-29T03:43:34.796Z"
   },
   {
    "duration": 10,
    "start_time": "2024-05-29T03:43:34.816Z"
   },
   {
    "duration": 9,
    "start_time": "2024-05-29T03:43:34.830Z"
   },
   {
    "duration": 53,
    "start_time": "2024-05-29T03:43:34.842Z"
   },
   {
    "duration": 7,
    "start_time": "2024-05-29T03:43:34.897Z"
   },
   {
    "duration": 7,
    "start_time": "2024-05-29T03:43:34.906Z"
   },
   {
    "duration": 7,
    "start_time": "2024-05-29T03:43:34.916Z"
   },
   {
    "duration": 7,
    "start_time": "2024-05-29T03:43:34.926Z"
   },
   {
    "duration": 71,
    "start_time": "2024-05-29T03:43:34.936Z"
   },
   {
    "duration": 24,
    "start_time": "2024-05-29T03:43:35.010Z"
   },
   {
    "duration": 12,
    "start_time": "2024-05-29T03:43:35.036Z"
   },
   {
    "duration": 48,
    "start_time": "2024-05-29T03:43:35.050Z"
   },
   {
    "duration": 11,
    "start_time": "2024-05-29T03:43:35.101Z"
   },
   {
    "duration": 13,
    "start_time": "2024-05-29T03:43:35.116Z"
   },
   {
    "duration": 12,
    "start_time": "2024-05-29T03:43:35.132Z"
   },
   {
    "duration": 61,
    "start_time": "2024-05-29T03:43:35.147Z"
   },
   {
    "duration": 11,
    "start_time": "2024-05-29T03:43:35.211Z"
   },
   {
    "duration": 14,
    "start_time": "2024-05-29T03:43:35.225Z"
   }
  ],
  "kernelspec": {
   "display_name": "Python 3 (ipykernel)",
   "language": "python",
   "name": "python3"
  },
  "language_info": {
   "codemirror_mode": {
    "name": "ipython",
    "version": 3
   },
   "file_extension": ".py",
   "mimetype": "text/x-python",
   "name": "python",
   "nbconvert_exporter": "python",
   "pygments_lexer": "ipython3",
   "version": "3.12.3"
  },
  "toc": {
   "base_numbering": 1,
   "nav_menu": {},
   "number_sections": true,
   "sideBar": true,
   "skip_h1_title": true,
   "title_cell": "Table of Contents",
   "title_sidebar": "Contents",
   "toc_cell": false,
   "toc_position": {
    "height": "calc(100% - 180px)",
    "left": "10px",
    "top": "150px",
    "width": "308px"
   },
   "toc_section_display": true,
   "toc_window_display": true
  }
 },
 "nbformat": 4,
 "nbformat_minor": 2
}
